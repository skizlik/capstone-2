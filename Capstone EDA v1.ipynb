{
 "cells": [
  {
   "cell_type": "markdown",
   "metadata": {},
   "source": [
    "Having wrangled a codon frequency data set and incorporated a dictionary linking amino acids to the codons that encode them, I'm ready to proceed to do some EDA.  First, I'm going to need several modules for this:"
   ]
  },
  {
   "cell_type": "code",
   "execution_count": 48,
   "metadata": {},
   "outputs": [],
   "source": [
    "# the usual modules and their aliases\n",
    "import pandas as pd\n",
    "import numpy as np\n",
    "import matplotlib.pyplot as plt\n",
    "import seaborn as sns\n",
    "\n",
    "# restore the codon usage dataframe from the previous data wrangling notebook\n",
    "codon_usage = pd.read_csv('codon_usage2.csv')\n",
    "\n",
    "# these could prove useful later:\n",
    "codon_list = ['UUU', 'UUC', 'UUA', 'UUG', 'CUU', 'CUC', 'CUA', 'CUG',\n",
    "       'AUU', 'AUC', 'AUA', 'AUG', 'GUU', 'GUC', 'GUA', 'GUG', 'GCU', 'GCC',\n",
    "       'GCA', 'GCG', 'CCU', 'CCC', 'CCA', 'CCG', 'UGG', 'GGU', 'GGC', 'GGA',\n",
    "       'GGG', 'UCU', 'UCC', 'UCA', 'UCG', 'AGU', 'AGC', 'ACU', 'ACC', 'ACA',\n",
    "       'ACG', 'UAU', 'UAC', 'CAA', 'CAG', 'AAU', 'AAC', 'UGU', 'UGC', 'CAU',\n",
    "       'CAC', 'AAA', 'AAG', 'CGU', 'CGC', 'CGA', 'CGG', 'AGA', 'AGG', 'GAU',\n",
    "       'GAC', 'GAA', 'GAG', 'UAA', 'UAG', 'UGA']\n",
    "\n",
    "amino_list = ['alanine', 'arginine',\n",
    "       'asparagine', 'aspartic acid', 'cysteine', 'glutamine', 'glutamic acid',\n",
    "       'glycine', 'histidine', 'isoleucine', 'leucine', 'lysine', 'methionine',\n",
    "       'phenylalanine', 'proline', 'serine', 'threonine', 'tryptophan',\n",
    "       'tyrosine', 'valine', 'start', 'stop']\n",
    "\n",
    "# might strip 'start' and 'stop' from the above list but let's leave it for now\n",
    "\n",
    "# this dictionary, from the preceding notebook, could also prove quite useful\n",
    "amino_codons = {'alanine': ['GCU', 'GCC', 'GCA', 'GCG'], \n",
    "                'arginine': ['CGU', 'CGC', 'CGA', 'CGG', 'AGA', 'AGG'],\n",
    "                'asparagine': ['AAU', 'AAC'],\n",
    "                'aspartic acid': ['GAU', 'GAC'],\n",
    "                'cysteine': ['UGU', 'UGC'], \n",
    "                'glutamine': ['CAA', 'CAG'],\n",
    "                'glutamic acid': ['GAA', 'GAG'],\n",
    "                'glycine': ['GGU', 'GGC', 'GGA', 'GGG'],\n",
    "                'histidine': ['CAU', 'CAC'], \n",
    "                'isoleucine': ['AUU', 'AUC', 'AUA'], \n",
    "                'leucine': ['CUU', 'CUC', 'CUA', 'CUG', 'UUA', 'UUG'],\n",
    "                'lysine': ['AAA', 'AAG'], \n",
    "                'methionine': ['AUG'], \n",
    "                'phenylalanine': ['UUU', 'UUC'], \n",
    "                'proline': ['CCU', 'CCC', 'CCA', 'CCG'],\n",
    "                'serine': ['UCU', 'UCC', 'UCA', 'UCG', 'AGU', 'AGC'], \n",
    "                'threonine': ['ACU', 'ACC', 'ACA', 'ACG'], \n",
    "                'tryptophan': ['UGG'],\n",
    "                'tyrosine': ['UAU', 'UAC'], \n",
    "                'valine': ['GUU', 'GUC', 'GUA', 'GUG'], \n",
    "                'start': ['AUG'], \n",
    "                'stop': ['UAA', 'UAG', 'UGA']}\n",
    "\n"
   ]
  },
  {
   "cell_type": "code",
   "execution_count": 49,
   "metadata": {},
   "outputs": [
    {
     "name": "stdout",
     "output_type": "stream",
     "text": [
      "Index(['Unnamed: 0', 'Kingdom', 'DNAtype', 'SpeciesID', 'Ncodons',\n",
      "       'SpeciesName', 'UUU', 'UUC', 'UUA', 'UUG', 'CUU', 'CUC', 'CUA', 'CUG',\n",
      "       'AUU', 'AUC', 'AUA', 'AUG', 'GUU', 'GUC', 'GUA', 'GUG', 'GCU', 'GCC',\n",
      "       'GCA', 'GCG', 'CCU', 'CCC', 'CCA', 'CCG', 'UGG', 'GGU', 'GGC', 'GGA',\n",
      "       'GGG', 'UCU', 'UCC', 'UCA', 'UCG', 'AGU', 'AGC', 'ACU', 'ACC', 'ACA',\n",
      "       'ACG', 'UAU', 'UAC', 'CAA', 'CAG', 'AAU', 'AAC', 'UGU', 'UGC', 'CAU',\n",
      "       'CAC', 'AAA', 'AAG', 'CGU', 'CGC', 'CGA', 'CGG', 'AGA', 'AGG', 'GAU',\n",
      "       'GAC', 'GAA', 'GAG', 'UAA', 'UAG', 'UGA', 'alanine', 'arginine',\n",
      "       'asparagine', 'aspartic acid', 'cysteine', 'glutamine', 'glutamic acid',\n",
      "       'glycine', 'histidine', 'isoleucine', 'leucine', 'lysine', 'methionine',\n",
      "       'phenylalanine', 'proline', 'serine', 'threonine', 'tryptophan',\n",
      "       'tyrosine', 'valine', 'start', 'stop'],\n",
      "      dtype='object')\n",
      "(13028, 92)\n"
     ]
    }
   ],
   "source": [
    "# examine the codon usage dataframe\n",
    "print(codon_usage.columns)\n",
    "print(codon_usage.shape)"
   ]
  },
  {
   "cell_type": "code",
   "execution_count": 12,
   "metadata": {},
   "outputs": [
    {
     "data": {
      "text/html": [
       "<div>\n",
       "<style scoped>\n",
       "    .dataframe tbody tr th:only-of-type {\n",
       "        vertical-align: middle;\n",
       "    }\n",
       "\n",
       "    .dataframe tbody tr th {\n",
       "        vertical-align: top;\n",
       "    }\n",
       "\n",
       "    .dataframe thead th {\n",
       "        text-align: right;\n",
       "    }\n",
       "</style>\n",
       "<table border=\"1\" class=\"dataframe\">\n",
       "  <thead>\n",
       "    <tr style=\"text-align: right;\">\n",
       "      <th></th>\n",
       "      <th>Unnamed: 0</th>\n",
       "      <th>Kingdom</th>\n",
       "      <th>DNAtype</th>\n",
       "      <th>SpeciesID</th>\n",
       "      <th>Ncodons</th>\n",
       "      <th>SpeciesName</th>\n",
       "      <th>UUU</th>\n",
       "      <th>UUC</th>\n",
       "      <th>UUA</th>\n",
       "      <th>UUG</th>\n",
       "      <th>...</th>\n",
       "      <th>methionine</th>\n",
       "      <th>phenylalanine</th>\n",
       "      <th>proline</th>\n",
       "      <th>serine</th>\n",
       "      <th>threonine</th>\n",
       "      <th>tryptophan</th>\n",
       "      <th>tyrosine</th>\n",
       "      <th>valine</th>\n",
       "      <th>start</th>\n",
       "      <th>stop</th>\n",
       "    </tr>\n",
       "  </thead>\n",
       "  <tbody>\n",
       "    <tr>\n",
       "      <th>0</th>\n",
       "      <td>0</td>\n",
       "      <td>virus</td>\n",
       "      <td>genomic</td>\n",
       "      <td>100217</td>\n",
       "      <td>1995</td>\n",
       "      <td>Epizootic haematopoietic necrosis virus</td>\n",
       "      <td>0.01654</td>\n",
       "      <td>0.01203</td>\n",
       "      <td>0.00050</td>\n",
       "      <td>0.00351</td>\n",
       "      <td>...</td>\n",
       "      <td>0.02506</td>\n",
       "      <td>0.02857</td>\n",
       "      <td>0.07268</td>\n",
       "      <td>0.06115</td>\n",
       "      <td>0.04561</td>\n",
       "      <td>0.01003</td>\n",
       "      <td>0.02757</td>\n",
       "      <td>0.09423</td>\n",
       "      <td>0.02506</td>\n",
       "      <td>0.00301</td>\n",
       "    </tr>\n",
       "    <tr>\n",
       "      <th>1</th>\n",
       "      <td>1</td>\n",
       "      <td>virus</td>\n",
       "      <td>genomic</td>\n",
       "      <td>100220</td>\n",
       "      <td>1474</td>\n",
       "      <td>Bohle iridovirus</td>\n",
       "      <td>0.02714</td>\n",
       "      <td>0.01357</td>\n",
       "      <td>0.00068</td>\n",
       "      <td>0.00678</td>\n",
       "      <td>...</td>\n",
       "      <td>0.03324</td>\n",
       "      <td>0.04071</td>\n",
       "      <td>0.05020</td>\n",
       "      <td>0.06581</td>\n",
       "      <td>0.05768</td>\n",
       "      <td>0.01425</td>\n",
       "      <td>0.03392</td>\n",
       "      <td>0.08955</td>\n",
       "      <td>0.03324</td>\n",
       "      <td>0.00339</td>\n",
       "    </tr>\n",
       "    <tr>\n",
       "      <th>2</th>\n",
       "      <td>2</td>\n",
       "      <td>virus</td>\n",
       "      <td>genomic</td>\n",
       "      <td>100755</td>\n",
       "      <td>4862</td>\n",
       "      <td>Sweet potato leaf curl virus</td>\n",
       "      <td>0.01974</td>\n",
       "      <td>0.02180</td>\n",
       "      <td>0.01357</td>\n",
       "      <td>0.01543</td>\n",
       "      <td>...</td>\n",
       "      <td>0.02180</td>\n",
       "      <td>0.04154</td>\n",
       "      <td>0.06232</td>\n",
       "      <td>0.08289</td>\n",
       "      <td>0.05491</td>\n",
       "      <td>0.01728</td>\n",
       "      <td>0.03887</td>\n",
       "      <td>0.05780</td>\n",
       "      <td>0.02180</td>\n",
       "      <td>0.00535</td>\n",
       "    </tr>\n",
       "    <tr>\n",
       "      <th>3</th>\n",
       "      <td>3</td>\n",
       "      <td>virus</td>\n",
       "      <td>genomic</td>\n",
       "      <td>100880</td>\n",
       "      <td>1915</td>\n",
       "      <td>Northern cereal mosaic virus</td>\n",
       "      <td>0.01775</td>\n",
       "      <td>0.02245</td>\n",
       "      <td>0.01619</td>\n",
       "      <td>0.00992</td>\n",
       "      <td>...</td>\n",
       "      <td>0.02924</td>\n",
       "      <td>0.04020</td>\n",
       "      <td>0.03760</td>\n",
       "      <td>0.09191</td>\n",
       "      <td>0.06215</td>\n",
       "      <td>0.01201</td>\n",
       "      <td>0.03029</td>\n",
       "      <td>0.07885</td>\n",
       "      <td>0.02924</td>\n",
       "      <td>0.00418</td>\n",
       "    </tr>\n",
       "    <tr>\n",
       "      <th>4</th>\n",
       "      <td>4</td>\n",
       "      <td>virus</td>\n",
       "      <td>genomic</td>\n",
       "      <td>100887</td>\n",
       "      <td>22831</td>\n",
       "      <td>Soil-borne cereal mosaic virus</td>\n",
       "      <td>0.02816</td>\n",
       "      <td>0.01371</td>\n",
       "      <td>0.00767</td>\n",
       "      <td>0.03679</td>\n",
       "      <td>...</td>\n",
       "      <td>0.02773</td>\n",
       "      <td>0.04187</td>\n",
       "      <td>0.02798</td>\n",
       "      <td>0.06893</td>\n",
       "      <td>0.06745</td>\n",
       "      <td>0.01205</td>\n",
       "      <td>0.03456</td>\n",
       "      <td>0.07196</td>\n",
       "      <td>0.02773</td>\n",
       "      <td>0.00175</td>\n",
       "    </tr>\n",
       "  </tbody>\n",
       "</table>\n",
       "<p>5 rows × 92 columns</p>\n",
       "</div>"
      ],
      "text/plain": [
       "   Unnamed: 0 Kingdom  DNAtype  SpeciesID  Ncodons  \\\n",
       "0           0   virus  genomic     100217     1995   \n",
       "1           1   virus  genomic     100220     1474   \n",
       "2           2   virus  genomic     100755     4862   \n",
       "3           3   virus  genomic     100880     1915   \n",
       "4           4   virus  genomic     100887    22831   \n",
       "\n",
       "                               SpeciesName      UUU      UUC      UUA  \\\n",
       "0  Epizootic haematopoietic necrosis virus  0.01654  0.01203  0.00050   \n",
       "1                         Bohle iridovirus  0.02714  0.01357  0.00068   \n",
       "2             Sweet potato leaf curl virus  0.01974  0.02180  0.01357   \n",
       "3             Northern cereal mosaic virus  0.01775  0.02245  0.01619   \n",
       "4           Soil-borne cereal mosaic virus  0.02816  0.01371  0.00767   \n",
       "\n",
       "       UUG  ...  methionine  phenylalanine  proline   serine  threonine  \\\n",
       "0  0.00351  ...     0.02506        0.02857  0.07268  0.06115    0.04561   \n",
       "1  0.00678  ...     0.03324        0.04071  0.05020  0.06581    0.05768   \n",
       "2  0.01543  ...     0.02180        0.04154  0.06232  0.08289    0.05491   \n",
       "3  0.00992  ...     0.02924        0.04020  0.03760  0.09191    0.06215   \n",
       "4  0.03679  ...     0.02773        0.04187  0.02798  0.06893    0.06745   \n",
       "\n",
       "   tryptophan  tyrosine   valine    start     stop  \n",
       "0     0.01003   0.02757  0.09423  0.02506  0.00301  \n",
       "1     0.01425   0.03392  0.08955  0.03324  0.00339  \n",
       "2     0.01728   0.03887  0.05780  0.02180  0.00535  \n",
       "3     0.01201   0.03029  0.07885  0.02924  0.00418  \n",
       "4     0.01205   0.03456  0.07196  0.02773  0.00175  \n",
       "\n",
       "[5 rows x 92 columns]"
      ]
     },
     "execution_count": 12,
     "metadata": {},
     "output_type": "execute_result"
    }
   ],
   "source": [
    "codon_usage.head()"
   ]
  },
  {
   "cell_type": "markdown",
   "metadata": {},
   "source": [
    "This is to all appearances the same dataframe that was wrangled in the preceding notebook."
   ]
  },
  {
   "cell_type": "markdown",
   "metadata": {},
   "source": [
    "One interesting thing that might be explored is the distribution of these amino acids across the entire dataframe."
   ]
  },
  {
   "cell_type": "code",
   "execution_count": 28,
   "metadata": {},
   "outputs": [
    {
     "data": {
      "text/plain": [
       "[None,\n",
       " None,\n",
       " None,\n",
       " None,\n",
       " None,\n",
       " None,\n",
       " None,\n",
       " None,\n",
       " None,\n",
       " None,\n",
       " None,\n",
       " None,\n",
       " None,\n",
       " None,\n",
       " None,\n",
       " None,\n",
       " None,\n",
       " None,\n",
       " None,\n",
       " None,\n",
       " None,\n",
       " None,\n",
       " None,\n",
       " None,\n",
       " None,\n",
       " None,\n",
       " None,\n",
       " None,\n",
       " None,\n",
       " None,\n",
       " None,\n",
       " None,\n",
       " None,\n",
       " None,\n",
       " None,\n",
       " None,\n",
       " None,\n",
       " None,\n",
       " None,\n",
       " None,\n",
       " None,\n",
       " None,\n",
       " None,\n",
       " None]"
      ]
     },
     "execution_count": 28,
     "metadata": {},
     "output_type": "execute_result"
    },
    {
     "data": {
      "image/png": "[encoded data removed]",
      "text/plain": [
       "<Figure size 936x360 with 1 Axes>"
      ]
     },
     "metadata": {
      "needs_background": "light"
     },
     "output_type": "display_data"
    }
   ],
   "source": [
    "fig, ax = plt.subplots(figsize=(13,5))\n",
    "ax = sns.boxplot(data=codon_usage[amino_list], width=0.6)\n",
    "locs, labels = plt.xticks()\n",
    "plt.setp(labels, rotation=90)"
   ]
  },
  {
   "cell_type": "markdown",
   "metadata": {},
   "source": [
    "Clearly, the amino acids have quite different distributions.  It's interesting to note that all of them have a pronounced right skew; this isn't unexpected.  But some of the outliers are quite surprising.  There are some organisms represented in these data with shockingly high proportions of their codons representing one specific amino acid - there's one for which over 50% of codons are for serine, for instance.  I wonder what that is?"
   ]
  },
  {
   "cell_type": "code",
   "execution_count": 31,
   "metadata": {},
   "outputs": [
    {
     "name": "stdout",
     "output_type": "stream",
     "text": [
      "8734    Phragmatopoma californica\n",
      "Name: SpeciesName, dtype: object 0.5677399999999999\n"
     ]
    }
   ],
   "source": [
    "print(codon_usage['SpeciesName'].loc[codon_usage['serine'] == codon_usage['serine'].max()], codon_usage['serine'].max())"
   ]
  },
  {
   "cell_type": "markdown",
   "metadata": {},
   "source": [
    "Well, that's interesting.  It's a marine polychaete worm.  https://en.wikipedia.org/wiki/Phragmatopoma_californica"
   ]
  },
  {
   "cell_type": "code",
   "execution_count": 59,
   "metadata": {},
   "outputs": [
    {
     "data": {
      "text/plain": [
       "[None,\n",
       " None,\n",
       " None,\n",
       " None,\n",
       " None,\n",
       " None,\n",
       " None,\n",
       " None,\n",
       " None,\n",
       " None,\n",
       " None,\n",
       " None,\n",
       " None,\n",
       " None,\n",
       " None,\n",
       " None,\n",
       " None,\n",
       " None,\n",
       " None,\n",
       " None,\n",
       " None,\n",
       " None]"
      ]
     },
     "execution_count": 59,
     "metadata": {},
     "output_type": "execute_result"
    },
    {
     "data": {
      "image/png": "[encoded data removed]",
      "text/plain": [
       "<Figure size 432x288 with 1 Axes>"
      ]
     },
     "metadata": {
      "needs_background": "light"
     },
     "output_type": "display_data"
    }
   ],
   "source": [
    "# let's examine the distributions for the most general factor: number of codons.\n",
    "\n",
    "ax = sns.boxplot(data=codon_usage, x='Kingdom', y='Ncodons')\n",
    "locs, labels = plt.xticks()\n",
    "plt.setp(labels, rotation=90)"
   ]
  },
  {
   "cell_type": "markdown",
   "metadata": {},
   "source": [
    "That's not particularly informative - a handful of very extreme outliers makes the range of the boxplots so extreme that the central features can't be observed.  This can be cured by taking logarithms.  (Of course this also may need to be done for subsequent procedures, so I'll just incorporate it into the dataframe.)"
   ]
  },
  {
   "cell_type": "code",
   "execution_count": 58,
   "metadata": {},
   "outputs": [
    {
     "data": {
      "text/plain": [
       "[None,\n",
       " None,\n",
       " None,\n",
       " None,\n",
       " None,\n",
       " None,\n",
       " None,\n",
       " None,\n",
       " None,\n",
       " None,\n",
       " None,\n",
       " None,\n",
       " None,\n",
       " None,\n",
       " None,\n",
       " None,\n",
       " None,\n",
       " None,\n",
       " None,\n",
       " None,\n",
       " None,\n",
       " None]"
      ]
     },
     "execution_count": 58,
     "metadata": {},
     "output_type": "execute_result"
    },
    {
     "data": {
      "image/png": "[encoded data removed]",
      "text/plain": [
       "<Figure size 432x288 with 1 Axes>"
      ]
     },
     "metadata": {
      "needs_background": "light"
     },
     "output_type": "display_data"
    }
   ],
   "source": [
    "codon_usage['Ncodonslog'] = np.log(codon_usage['Ncodons'])\n",
    "ax = sns.boxplot(data=codon_usage, x='Kingdom', y='Ncodonslog')\n",
    "locs, labels = plt.xticks()\n",
    "plt.setp(labels, rotation=90)"
   ]
  },
  {
   "cell_type": "markdown",
   "metadata": {},
   "source": [
    "Note: this EDA is **very far** from complete.  But I'm going to submit it now, because the [None....None] when invoking boxplots is making me kind of crazy and I haven't yet figured out how to stop this.  I could use a little help if possible."
   ]
  },
  {
   "cell_type": "code",
   "execution_count": null,
   "metadata": {},
   "outputs": [],
   "source": []
  }
 ],
 "metadata": {
  "kernelspec": {
   "display_name": "Python 3",
   "language": "python",
   "name": "python3"
  },
  "language_info": {
   "codemirror_mode": {
    "name": "ipython",
    "version": 3
   },
   "file_extension": ".py",
   "mimetype": "text/x-python",
   "name": "python",
   "nbconvert_exporter": "python",
   "pygments_lexer": "ipython3",
   "version": "3.7.4"
  }
 },
 "nbformat": 4,
 "nbformat_minor": 2
}
