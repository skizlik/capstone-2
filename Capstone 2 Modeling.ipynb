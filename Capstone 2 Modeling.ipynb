{
 "cells": [
  {
   "cell_type": "markdown",
   "metadata": {},
   "source": [
    "# Capstone 2 Modeling"
   ]
  },
  {
   "cell_type": "markdown",
   "metadata": {},
   "source": [
    "In this notebook I'm going to prepare and evaluate several different models. Each model will be run across a range of hyperparameter values. Also, each model will be applied to 4 sets of outcome and predictor variables. I'll predict DNAtype based on amino acids, DNAtype based on codons, kingdom based on amino acids, and kingdom based on codons. Incorporating both the amino acid and codon data in a single model would be unwarranted, as the amino acid frequencies are linear combinations of the codon frequencies.  I'll begin with some imports:"
   ]
  },
  {
   "cell_type": "code",
   "execution_count": 159,
   "metadata": {},
   "outputs": [],
   "source": [
    "import pandas as pd\n",
    "import numpy as np\n",
    "import xgboost as xg\n",
    "import matplotlib.pyplot as plt\n",
    "import hyperopt\n",
    "from hyperopt import hp\n",
    "from hyperopt import STATUS_OK, Trials, fmin, hp, tpe\n",
    "from sklearn.model_selection import train_test_split\n",
    "from sklearn.neighbors import KNeighborsClassifier\n",
    "from sklearn.ensemble import RandomForestClassifier\n",
    "from sklearn.metrics import precision_recall_curve, f1_score, auc, accuracy_score, log_loss, classification_report,confusion_matrix,roc_curve,roc_auc_score\n",
    "from datetime import datetime\n",
    "import warnings\n",
    "warnings.filterwarnings('ignore')\n",
    "\n"
   ]
  },
  {
   "cell_type": "code",
   "execution_count": 3,
   "metadata": {},
   "outputs": [],
   "source": [
    "codon_list = ['UUU', 'UUC', 'UUA', 'UUG', 'CUU', 'CUC', 'CUA', 'CUG',\n",
    "       'AUU', 'AUC', 'AUA', 'AUG', 'GUU', 'GUC', 'GUA', 'GUG', 'GCU', 'GCC',\n",
    "       'GCA', 'GCG', 'CCU', 'CCC', 'CCA', 'CCG', 'UGG', 'GGU', 'GGC', 'GGA',\n",
    "       'GGG', 'UCU', 'UCC', 'UCA', 'UCG', 'AGU', 'AGC', 'ACU', 'ACC', 'ACA',\n",
    "       'ACG', 'UAU', 'UAC', 'CAA', 'CAG', 'AAU', 'AAC', 'UGU', 'UGC', 'CAU',\n",
    "       'CAC', 'AAA', 'AAG', 'CGU', 'CGC', 'CGA', 'CGG', 'AGA', 'AGG', 'GAU',\n",
    "       'GAC', 'GAA', 'GAG', 'UAA', 'UAG', 'UGA']\n",
    "\n",
    "amino_list = ['alanine', 'arginine',\n",
    "       'asparagine', 'aspartic acid', 'cysteine', 'glutamine', 'glutamic acid',\n",
    "       'glycine', 'histidine', 'isoleucine', 'leucine', 'lysine', 'methionine',\n",
    "       'phenylalanine', 'proline', 'serine', 'threonine', 'tryptophan',\n",
    "       'tyrosine', 'valine', 'start', 'stop']"
   ]
  },
  {
   "cell_type": "code",
   "execution_count": 4,
   "metadata": {},
   "outputs": [],
   "source": [
    "dnacols = ['D_chloroplast', 'D_genomic', 'D_mitochondrial']\n",
    "kingcols = ['K_bacteria', 'K_virus', 'K_plant', 'K_vertebrate', 'K_invertebrate',\n",
    "            'K_mammal', 'K_bacteriophage', 'K_rodent', 'K_primate', 'K_archaea']\n"
   ]
  },
  {
   "cell_type": "code",
   "execution_count": 5,
   "metadata": {},
   "outputs": [
    {
     "data": {
      "text/html": [
       "<div>\n",
       "<style scoped>\n",
       "    .dataframe tbody tr th:only-of-type {\n",
       "        vertical-align: middle;\n",
       "    }\n",
       "\n",
       "    .dataframe tbody tr th {\n",
       "        vertical-align: top;\n",
       "    }\n",
       "\n",
       "    .dataframe thead th {\n",
       "        text-align: right;\n",
       "    }\n",
       "</style>\n",
       "<table border=\"1\" class=\"dataframe\">\n",
       "  <thead>\n",
       "    <tr style=\"text-align: right;\">\n",
       "      <th></th>\n",
       "      <th>Unnamed: 0</th>\n",
       "      <th>Kingdom</th>\n",
       "      <th>DNAtype</th>\n",
       "      <th>SpeciesID</th>\n",
       "      <th>Ncodons</th>\n",
       "      <th>SpeciesName</th>\n",
       "      <th>UUU</th>\n",
       "      <th>UUC</th>\n",
       "      <th>UUA</th>\n",
       "      <th>UUG</th>\n",
       "      <th>...</th>\n",
       "      <th>K_invertebrate</th>\n",
       "      <th>K_mammal</th>\n",
       "      <th>K_plant</th>\n",
       "      <th>K_primate</th>\n",
       "      <th>K_rodent</th>\n",
       "      <th>K_vertebrate</th>\n",
       "      <th>K_virus</th>\n",
       "      <th>D_chloroplast</th>\n",
       "      <th>D_genomic</th>\n",
       "      <th>D_mitochondrial</th>\n",
       "    </tr>\n",
       "  </thead>\n",
       "  <tbody>\n",
       "    <tr>\n",
       "      <th>0</th>\n",
       "      <td>0</td>\n",
       "      <td>virus</td>\n",
       "      <td>genomic</td>\n",
       "      <td>100217</td>\n",
       "      <td>-0.108063</td>\n",
       "      <td>Epizootic haematopoietic necrosis virus</td>\n",
       "      <td>-0.468279</td>\n",
       "      <td>-0.984617</td>\n",
       "      <td>-0.973734</td>\n",
       "      <td>-1.141636</td>\n",
       "      <td>...</td>\n",
       "      <td>0</td>\n",
       "      <td>0</td>\n",
       "      <td>0</td>\n",
       "      <td>0</td>\n",
       "      <td>0</td>\n",
       "      <td>0</td>\n",
       "      <td>1</td>\n",
       "      <td>0</td>\n",
       "      <td>1</td>\n",
       "      <td>0</td>\n",
       "    </tr>\n",
       "    <tr>\n",
       "      <th>1</th>\n",
       "      <td>1</td>\n",
       "      <td>virus</td>\n",
       "      <td>genomic</td>\n",
       "      <td>100220</td>\n",
       "      <td>-0.108785</td>\n",
       "      <td>Bohle iridovirus</td>\n",
       "      <td>0.139840</td>\n",
       "      <td>-0.851972</td>\n",
       "      <td>-0.964991</td>\n",
       "      <td>-0.788651</td>\n",
       "      <td>...</td>\n",
       "      <td>0</td>\n",
       "      <td>0</td>\n",
       "      <td>0</td>\n",
       "      <td>0</td>\n",
       "      <td>0</td>\n",
       "      <td>0</td>\n",
       "      <td>1</td>\n",
       "      <td>0</td>\n",
       "      <td>1</td>\n",
       "      <td>0</td>\n",
       "    </tr>\n",
       "    <tr>\n",
       "      <th>2</th>\n",
       "      <td>2</td>\n",
       "      <td>virus</td>\n",
       "      <td>genomic</td>\n",
       "      <td>100755</td>\n",
       "      <td>-0.104089</td>\n",
       "      <td>Sweet potato leaf curl virus</td>\n",
       "      <td>-0.284696</td>\n",
       "      <td>-0.143098</td>\n",
       "      <td>-0.338885</td>\n",
       "      <td>0.145086</td>\n",
       "      <td>...</td>\n",
       "      <td>0</td>\n",
       "      <td>0</td>\n",
       "      <td>0</td>\n",
       "      <td>0</td>\n",
       "      <td>0</td>\n",
       "      <td>0</td>\n",
       "      <td>1</td>\n",
       "      <td>0</td>\n",
       "      <td>1</td>\n",
       "      <td>0</td>\n",
       "    </tr>\n",
       "    <tr>\n",
       "      <th>3</th>\n",
       "      <td>3</td>\n",
       "      <td>virus</td>\n",
       "      <td>genomic</td>\n",
       "      <td>100880</td>\n",
       "      <td>-0.108174</td>\n",
       "      <td>Northern cereal mosaic virus</td>\n",
       "      <td>-0.398861</td>\n",
       "      <td>-0.087111</td>\n",
       "      <td>-0.211624</td>\n",
       "      <td>-0.449699</td>\n",
       "      <td>...</td>\n",
       "      <td>0</td>\n",
       "      <td>0</td>\n",
       "      <td>0</td>\n",
       "      <td>0</td>\n",
       "      <td>0</td>\n",
       "      <td>0</td>\n",
       "      <td>1</td>\n",
       "      <td>0</td>\n",
       "      <td>1</td>\n",
       "      <td>0</td>\n",
       "    </tr>\n",
       "    <tr>\n",
       "      <th>4</th>\n",
       "      <td>4</td>\n",
       "      <td>virus</td>\n",
       "      <td>genomic</td>\n",
       "      <td>100887</td>\n",
       "      <td>-0.079183</td>\n",
       "      <td>Soil-borne cereal mosaic virus</td>\n",
       "      <td>0.198357</td>\n",
       "      <td>-0.839913</td>\n",
       "      <td>-0.625466</td>\n",
       "      <td>2.450823</td>\n",
       "      <td>...</td>\n",
       "      <td>0</td>\n",
       "      <td>0</td>\n",
       "      <td>0</td>\n",
       "      <td>0</td>\n",
       "      <td>0</td>\n",
       "      <td>0</td>\n",
       "      <td>1</td>\n",
       "      <td>0</td>\n",
       "      <td>1</td>\n",
       "      <td>0</td>\n",
       "    </tr>\n",
       "  </tbody>\n",
       "</table>\n",
       "<p>5 rows × 105 columns</p>\n",
       "</div>"
      ],
      "text/plain": [
       "   Unnamed: 0 Kingdom  DNAtype  SpeciesID   Ncodons  \\\n",
       "0           0   virus  genomic     100217 -0.108063   \n",
       "1           1   virus  genomic     100220 -0.108785   \n",
       "2           2   virus  genomic     100755 -0.104089   \n",
       "3           3   virus  genomic     100880 -0.108174   \n",
       "4           4   virus  genomic     100887 -0.079183   \n",
       "\n",
       "                               SpeciesName       UUU       UUC       UUA  \\\n",
       "0  Epizootic haematopoietic necrosis virus -0.468279 -0.984617 -0.973734   \n",
       "1                         Bohle iridovirus  0.139840 -0.851972 -0.964991   \n",
       "2             Sweet potato leaf curl virus -0.284696 -0.143098 -0.338885   \n",
       "3             Northern cereal mosaic virus -0.398861 -0.087111 -0.211624   \n",
       "4           Soil-borne cereal mosaic virus  0.198357 -0.839913 -0.625466   \n",
       "\n",
       "        UUG  ...  K_invertebrate  K_mammal  K_plant  K_primate  K_rodent  \\\n",
       "0 -1.141636  ...               0         0        0          0         0   \n",
       "1 -0.788651  ...               0         0        0          0         0   \n",
       "2  0.145086  ...               0         0        0          0         0   \n",
       "3 -0.449699  ...               0         0        0          0         0   \n",
       "4  2.450823  ...               0         0        0          0         0   \n",
       "\n",
       "   K_vertebrate  K_virus  D_chloroplast  D_genomic  D_mitochondrial  \n",
       "0             0        1              0          1                0  \n",
       "1             0        1              0          1                0  \n",
       "2             0        1              0          1                0  \n",
       "3             0        1              0          1                0  \n",
       "4             0        1              0          1                0  \n",
       "\n",
       "[5 rows x 105 columns]"
      ]
     },
     "execution_count": 5,
     "metadata": {},
     "output_type": "execute_result"
    }
   ],
   "source": [
    "# importing the csv from the preprocessing notebook\n",
    "cu = pd.read_csv('codon_usage3.csv')\n",
    "cu.head()"
   ]
  },
  {
   "cell_type": "code",
   "execution_count": 67,
   "metadata": {},
   "outputs": [
    {
     "data": {
      "text/html": [
       "<div>\n",
       "<style scoped>\n",
       "    .dataframe tbody tr th:only-of-type {\n",
       "        vertical-align: middle;\n",
       "    }\n",
       "\n",
       "    .dataframe tbody tr th {\n",
       "        vertical-align: top;\n",
       "    }\n",
       "\n",
       "    .dataframe thead th {\n",
       "        text-align: right;\n",
       "    }\n",
       "</style>\n",
       "<table border=\"1\" class=\"dataframe\">\n",
       "  <thead>\n",
       "    <tr style=\"text-align: right;\">\n",
       "      <th></th>\n",
       "      <th>model_id</th>\n",
       "      <th>model_type</th>\n",
       "      <th>inputs</th>\n",
       "      <th>outputs</th>\n",
       "      <th>hyperparameters</th>\n",
       "      <th>assessment</th>\n",
       "      <th>dt</th>\n",
       "    </tr>\n",
       "  </thead>\n",
       "  <tbody>\n",
       "  </tbody>\n",
       "</table>\n",
       "</div>"
      ],
      "text/plain": [
       "Empty DataFrame\n",
       "Columns: [model_id, model_type, inputs, outputs, hyperparameters, assessment, dt]\n",
       "Index: []"
      ]
     },
     "execution_count": 67,
     "metadata": {},
     "output_type": "execute_result"
    }
   ],
   "source": [
    "# it could be useful to store the results for all of these models \n",
    "# some of these will be dict()s - which may be a challenge, but seems like the best solution\n",
    "# I hate having model_id as a column but I see no good alternative\n",
    "\n",
    "r_cols = ['model_id', 'model_type', 'inputs', 'outputs', 'hyperparameters', 'assessment', 'dt'] \n",
    "results = pd.DataFrame(columns = r_cols)\n",
    "\n",
    "results\n"
   ]
  },
  {
   "cell_type": "markdown",
   "metadata": {},
   "source": [
    "## Principal Component Analysis"
   ]
  },
  {
   "cell_type": "code",
   "execution_count": 68,
   "metadata": {},
   "outputs": [
    {
     "name": "stdout",
     "output_type": "stream",
     "text": [
      "component: 1 var exp: 0.2979106347251273\n",
      "component: 2 var exp: 0.18665155166762673\n",
      "component: 3 var exp: 0.05561274004489851\n",
      "component: 4 var exp: 0.04028139755321441\n",
      "component: 5 var exp: 0.03458769283992538\n",
      "component: 6 var exp: 0.02979483830115144\n",
      "component: 7 var exp: 0.023204003475630237\n",
      "component: 8 var exp: 0.022096884397945937\n",
      "0.6901397430055198\n"
     ]
    },
    {
     "data": {
      "image/png": "[encoded data removed]",
      "text/plain": [
       "<Figure size 432x288 with 1 Axes>"
      ]
     },
     "metadata": {
      "needs_background": "light"
     },
     "output_type": "display_data"
    }
   ],
   "source": [
    "# it could also be interesting at this stage to try PCA:\n",
    "\n",
    "from sklearn.decomposition import PCA\n",
    "c = 8\n",
    "pca = PCA(n_components=c)\n",
    "pca_fit = pca.fit_transform(cu[codon_list].values)\n",
    "\n",
    "plt.plot(range(1,c+1), pca.explained_variance_ratio_)\n",
    "plt.plot(range(1,c+1), np.cumsum(pca.explained_variance_ratio_))\n",
    "plt.title(\"Component and Cumulative Explained Variance\")\n",
    "\n",
    "for i in range(0,c):\n",
    "    print('component:', i+1, 'var exp:', pca.explained_variance_ratio_[i])\n",
    "\n",
    "print(sum(pca.explained_variance_ratio_))"
   ]
  },
  {
   "cell_type": "markdown",
   "metadata": {},
   "source": [
    "If we apply the 'elbow method' as one might in, say, k-means clustering, it suggests that applying models to just 3 principal components might be useful.  Still, this only explains only 69% of the variance - if we extend this graph to many components, it has a very long tail.  I'm unconvinced that it would really be beneficial to apply some kind of dimensionality reduction."
   ]
  },
  {
   "cell_type": "markdown",
   "metadata": {},
   "source": [
    "### K-Nearest Neighbors"
   ]
  },
  {
   "cell_type": "markdown",
   "metadata": {},
   "source": [
    "K-NN might not be the model type most likely to prove useful, but it has only a single hyperparameter (k, the number of neighbors) to consider.  I'll incorporate everything I need to do into a simple function, this will help avoid tragic mistakes and simplify the work."
   ]
  },
  {
   "cell_type": "code",
   "execution_count": 69,
   "metadata": {},
   "outputs": [],
   "source": [
    "'''It is EXTREMELY PAINFUL to me that it proved necessary to include Xn and yn to represent the NAMES of the \n",
    "parameters X and y in the function below.  I looked long and hard and ultimately in vain for a clean, simple way\n",
    "to obtain the name of a variable as a string.  Perhaps this is possible, but I was more concerned about getting\n",
    "the function to work.''' \n",
    "\n",
    "def knn_fit(y, X, yn='', Xn='', max_k=8, tts_random_state=0, test_id=0, do_plots=False):\n",
    "    \n",
    "    X_train, X_test, y_train, y_test = train_test_split(X, y, test_size=0.3, random_state=tts_random_state)\n",
    "    \n",
    "    train_a = []\n",
    "    test_a = []\n",
    "    train_f1 = []\n",
    "    test_f1 = []\n",
    "    train_ra = []\n",
    "    test_ra = []\n",
    "    output = pd.DataFrame(columns=r_cols)\n",
    "    \n",
    "    for i in range(1, max_k+1):\n",
    "\n",
    "        knn = KNeighborsClassifier(i)\n",
    "        knn.fit(X_train,y_train)\n",
    "     \n",
    "        train_pred = knn.predict(X_train)\n",
    "        test_pred = knn.predict(X_test)\n",
    "        train_prob_pred = knn.predict_proba(X_train)\n",
    "        test_prob_pred = knn.predict_proba(X_test)\n",
    "    \n",
    "        test_a.append(accuracy_score(y_test, test_pred))\n",
    "        train_a.append(accuracy_score(y_train, train_pred))\n",
    "    \n",
    "        test_f1.append(f1_score(y_test, test_pred, average='micro'))\n",
    "        train_f1.append(f1_score(y_train, train_pred, average='micro'))\n",
    "        \n",
    "        # according to the sklearn docs, roc_auc requires predict_proba; this failed to work\n",
    "        test_ra.append(roc_auc_score(y_test, test_pred, average='weighted', multi_class='ovo'))\n",
    "        train_ra.append(roc_auc_score(y_train, train_pred, average='weighted', multi_class='ovo'))\n",
    "    \n",
    "        \n",
    "    for i in range(1, max_k+1):\n",
    "        item = [test_id, 'kNN', Xn, yn, {'k':i}, {'train_f1':train_f1[i-1], 'test_f1':test_f1[i-1], 'train_accuracy':train_a[i-1], 'test_accuracy':test_a[i-1], 'train_roc_auc':test_ra[i-1], 'test_roc_auc':test_ra[i-1]}, datetime.now()]\n",
    "        itemdict = dict(zip(r_cols, item))\n",
    "        output = output.append(itemdict, ignore_index=True)\n",
    "\n",
    "    if do_plots == True:\n",
    "        title = 'k-NN predicting ' + yn + ' using ' + Xn\n",
    "        line1, = plt.plot(range(1, max_k+1), train_a, 'b')\n",
    "        line2, = plt.plot(range(1, max_k+1), test_a, 'g')\n",
    "        plt.legend([line1, line2], ['training accuracy', 'testing accuracy'])\n",
    "        plt.title(title)\n",
    "        plt.ylabel('accuracy')\n",
    "        plt.xlabel('k')\n",
    "        plt.show() \n",
    "        \n",
    "        line1, = plt.plot(range(1, max_k+1), train_f1, 'b')\n",
    "        line2, = plt.plot(range(1, max_k+1), test_f1, 'g')\n",
    "        plt.legend([line1, line2], ['training F1', 'testing F1'])\n",
    "        plt.title(title)\n",
    "        plt.ylabel('F1')\n",
    "        plt.xlabel('k')\n",
    "        plt.show() \n",
    "        \n",
    "        line1, = plt.plot(range(1, max_k+1), train_ra, 'b')\n",
    "        line2, = plt.plot(range(1, max_k+1), test_ra, 'g')\n",
    "        plt.legend([line1, line2], ['training roc_auc', 'testing roc_auc'])\n",
    "        plt.title(title)\n",
    "        plt.ylabel('roc_auc')\n",
    "        plt.xlabel('k')\n",
    "        plt.show() \n",
    "    \n",
    "    else:\n",
    "        pass\n",
    "    \n",
    "    return output"
   ]
  },
  {
   "cell_type": "code",
   "execution_count": 70,
   "metadata": {},
   "outputs": [
    {
     "data": {
      "image/png": "[encoded data removed]",
      "text/plain": [
       "<Figure size 432x288 with 1 Axes>"
      ]
     },
     "metadata": {
      "needs_background": "light"
     },
     "output_type": "display_data"
    },
    {
     "data": {
      "image/png": "[encoded data removed]",
      "text/plain": [
       "<Figure size 432x288 with 1 Axes>"
      ]
     },
     "metadata": {
      "needs_background": "light"
     },
     "output_type": "display_data"
    },
    {
     "data": {
      "image/png": "[encoded data removed]",
      "text/plain": [
       "<Figure size 432x288 with 1 Axes>"
      ]
     },
     "metadata": {
      "needs_background": "light"
     },
     "output_type": "display_data"
    },
    {
     "data": {
      "image/png": "[encoded data removed]",
      "text/plain": [
       "<Figure size 432x288 with 1 Axes>"
      ]
     },
     "metadata": {
      "needs_background": "light"
     },
     "output_type": "display_data"
    },
    {
     "data": {
      "image/png": "[encoded data removed]",
      "text/plain": [
       "<Figure size 432x288 with 1 Axes>"
      ]
     },
     "metadata": {
      "needs_background": "light"
     },
     "output_type": "display_data"
    },
    {
     "data": {
      "image/png": "[encoded data removed]",
      "text/plain": [
       "<Figure size 432x288 with 1 Axes>"
      ]
     },
     "metadata": {
      "needs_background": "light"
     },
     "output_type": "display_data"
    },
    {
     "data": {
      "image/png": "[encoded data removed]",
      "text/plain": [
       "<Figure size 432x288 with 1 Axes>"
      ]
     },
     "metadata": {
      "needs_background": "light"
     },
     "output_type": "display_data"
    },
    {
     "data": {
      "image/png": "[encoded data removed]",
      "text/plain": [
       "<Figure size 432x288 with 1 Axes>"
      ]
     },
     "metadata": {
      "needs_background": "light"
     },
     "output_type": "display_data"
    },
    {
     "data": {
      "image/png": "[encoded data removed]",
      "text/plain": [
       "<Figure size 432x288 with 1 Axes>"
      ]
     },
     "metadata": {
      "needs_background": "light"
     },
     "output_type": "display_data"
    },
    {
     "data": {
      "image/png": "[encoded data removed]",
      "text/plain": [
       "<Figure size 432x288 with 1 Axes>"
      ]
     },
     "metadata": {
      "needs_background": "light"
     },
     "output_type": "display_data"
    },
    {
     "data": {
      "image/png": "[encoded data removed]",
      "text/plain": [
       "<Figure size 432x288 with 1 Axes>"
      ]
     },
     "metadata": {
      "needs_background": "light"
     },
     "output_type": "display_data"
    },
    {
     "data": {
      "image/png": "[encoded data removed]",
      "text/plain": [
       "<Figure size 432x288 with 1 Axes>"
      ]
     },
     "metadata": {
      "needs_background": "light"
     },
     "output_type": "display_data"
    }
   ],
   "source": [
    "# predicting dna on codon, dna on amino, kingdom on codon, kingdom on amino\n",
    "results=results.append(knn_fit(cu[dnacols], cu[codon_list], 'dna', 'codon', max_k=10, tts_random_state=1331, test_id='1001001', do_plots=True), ignore_index=True)\n",
    "results=results.append(knn_fit(cu[dnacols], cu[amino_list], 'dna', 'amino', max_k=10, tts_random_state=382, test_id='1002001', do_plots=True), ignore_index=True)\n",
    "results=results.append(knn_fit(cu[kingcols], cu[codon_list], 'king', 'codon', max_k=10, tts_random_state=88121, test_id='1003001', do_plots=True), ignore_index=True)\n",
    "results=results.append(knn_fit(cu[kingcols], cu[amino_list], 'king', 'amino', max_k=10, tts_random_state=88121, test_id='1004001', do_plots=True), ignore_index=True)"
   ]
  },
  {
   "cell_type": "markdown",
   "metadata": {},
   "source": [
    "Overall, these scores are higher than expected. It's interesting (and probably important) that higher assessment metrics were obtained in the models predicting DNA type than in the models predicting kingdom.  Perhaps the most noteworthy feature observable from these graphs is that, for the k-NN models predicting DNA type from the amino frequencies, **some of the test scores are higher than the train scores.**  As I understand it, this is a sure sign that something has gone glaringly wrong. What's happening here?  If there were some kind of problem in cleaning or preprocessing, wouldn't the same problem manifest itself in the other three test cases?\n"
   ]
  },
  {
   "cell_type": "code",
   "execution_count": 113,
   "metadata": {},
   "outputs": [
    {
     "data": {
      "text/html": [
       "<div>\n",
       "<style scoped>\n",
       "    .dataframe tbody tr th:only-of-type {\n",
       "        vertical-align: middle;\n",
       "    }\n",
       "\n",
       "    .dataframe tbody tr th {\n",
       "        vertical-align: top;\n",
       "    }\n",
       "\n",
       "    .dataframe thead th {\n",
       "        text-align: right;\n",
       "    }\n",
       "</style>\n",
       "<table border=\"1\" class=\"dataframe\">\n",
       "  <thead>\n",
       "    <tr style=\"text-align: right;\">\n",
       "      <th></th>\n",
       "      <th>model_id</th>\n",
       "      <th>model_type</th>\n",
       "      <th>inputs</th>\n",
       "      <th>outputs</th>\n",
       "      <th>hyperparameters</th>\n",
       "      <th>assessment</th>\n",
       "      <th>dt</th>\n",
       "    </tr>\n",
       "  </thead>\n",
       "  <tbody>\n",
       "    <tr>\n",
       "      <th>18</th>\n",
       "      <td>1002001</td>\n",
       "      <td>kNN</td>\n",
       "      <td>amino</td>\n",
       "      <td>dna</td>\n",
       "      <td>{'k': 9}</td>\n",
       "      <td>{'train_f1': 0.9912880458756065, 'test_f1': 0....</td>\n",
       "      <td>2021-10-31 12:54:44.990329</td>\n",
       "    </tr>\n",
       "    <tr>\n",
       "      <th>19</th>\n",
       "      <td>1002001</td>\n",
       "      <td>kNN</td>\n",
       "      <td>amino</td>\n",
       "      <td>dna</td>\n",
       "      <td>{'k': 10}</td>\n",
       "      <td>{'train_f1': 0.9908935371709255, 'test_f1': 0....</td>\n",
       "      <td>2021-10-31 12:54:44.996479</td>\n",
       "    </tr>\n",
       "    <tr>\n",
       "      <th>20</th>\n",
       "      <td>1003001</td>\n",
       "      <td>kNN</td>\n",
       "      <td>codon</td>\n",
       "      <td>king</td>\n",
       "      <td>{'k': 1}</td>\n",
       "      <td>{'train_f1': 1.0, 'test_f1': 0.927487786063255...</td>\n",
       "      <td>2021-10-31 12:57:43.353522</td>\n",
       "    </tr>\n",
       "    <tr>\n",
       "      <th>21</th>\n",
       "      <td>1003001</td>\n",
       "      <td>kNN</td>\n",
       "      <td>codon</td>\n",
       "      <td>king</td>\n",
       "      <td>{'k': 2}</td>\n",
       "      <td>{'train_f1': 0.964982320063876, 'test_f1': 0.9...</td>\n",
       "      <td>2021-10-31 12:57:43.359523</td>\n",
       "    </tr>\n",
       "    <tr>\n",
       "      <th>22</th>\n",
       "      <td>1003001</td>\n",
       "      <td>kNN</td>\n",
       "      <td>codon</td>\n",
       "      <td>king</td>\n",
       "      <td>{'k': 3}</td>\n",
       "      <td>{'train_f1': 0.9645193480430203, 'test_f1': 0....</td>\n",
       "      <td>2021-10-31 12:57:43.367524</td>\n",
       "    </tr>\n",
       "  </tbody>\n",
       "</table>\n",
       "</div>"
      ],
      "text/plain": [
       "   model_id model_type inputs outputs hyperparameters  \\\n",
       "18  1002001        kNN  amino     dna        {'k': 9}   \n",
       "19  1002001        kNN  amino     dna       {'k': 10}   \n",
       "20  1003001        kNN  codon    king        {'k': 1}   \n",
       "21  1003001        kNN  codon    king        {'k': 2}   \n",
       "22  1003001        kNN  codon    king        {'k': 3}   \n",
       "\n",
       "                                           assessment  \\\n",
       "18  {'train_f1': 0.9912880458756065, 'test_f1': 0....   \n",
       "19  {'train_f1': 0.9908935371709255, 'test_f1': 0....   \n",
       "20  {'train_f1': 1.0, 'test_f1': 0.927487786063255...   \n",
       "21  {'train_f1': 0.964982320063876, 'test_f1': 0.9...   \n",
       "22  {'train_f1': 0.9645193480430203, 'test_f1': 0....   \n",
       "\n",
       "                           dt  \n",
       "18 2021-10-31 12:54:44.990329  \n",
       "19 2021-10-31 12:54:44.996479  \n",
       "20 2021-10-31 12:57:43.353522  \n",
       "21 2021-10-31 12:57:43.359523  \n",
       "22 2021-10-31 12:57:43.367524  "
      ]
     },
     "execution_count": 113,
     "metadata": {},
     "output_type": "execute_result"
    }
   ],
   "source": [
    "results.iloc[18:23]\n",
    "    \n",
    "    "
   ]
  },
  {
   "cell_type": "markdown",
   "metadata": {},
   "source": [
    "This is as expected; the 'results' dataframe appears to be storing the results as intended."
   ]
  },
  {
   "cell_type": "markdown",
   "metadata": {},
   "source": [
    "## Random Forest"
   ]
  },
  {
   "cell_type": "markdown",
   "metadata": {},
   "source": [
    "I'm going to start with a single random forest model, and assess feature importance."
   ]
  },
  {
   "cell_type": "code",
   "execution_count": 115,
   "metadata": {},
   "outputs": [
    {
     "name": "stdout",
     "output_type": "stream",
     "text": [
      "Random Forest: Accuracy=0.989\n",
      "Random Forest: f1-score=0.991\n"
     ]
    }
   ],
   "source": [
    "y = cu[dnacols]\n",
    "X = cu[codon_list]\n",
    "X_train, X_test, y_train, y_test = train_test_split(X, y, test_size=0.3, random_state=133)\n",
    "\n",
    "rfc = RandomForestClassifier(n_estimators=300, random_state = 1,n_jobs=-1)\n",
    "model_res = rfc.fit(X_train, y_train)\n",
    "y_pred = model_res.predict(X_test)\n",
    "\n",
    "ac = accuracy_score(y_test, y_pred)\n",
    "f1 = f1_score(y_test, y_pred, average='weighted')\n",
    "\n",
    "\n",
    "print('Random Forest: Accuracy=%.3f' % (ac))\n",
    "\n",
    "print('Random Forest: f1-score=%.3f' % (f1))"
   ]
  },
  {
   "cell_type": "code",
   "execution_count": 116,
   "metadata": {},
   "outputs": [
    {
     "data": {
      "image/png": "[encoded data removed]",
      "text/plain": [
       "<Figure size 720x720 with 1 Axes>"
      ]
     },
     "metadata": {
      "needs_background": "light"
     },
     "output_type": "display_data"
    }
   ],
   "source": [
    "feature_importance = rfc.feature_importances_\n",
    "feature_importance = 100.0 * (feature_importance / feature_importance.max())[:30]\n",
    "sorted_idx = np.argsort(feature_importance)[:30]\n",
    "\n",
    "pos = np.arange(sorted_idx.shape[0]) + .5\n",
    "sorted_idx.size\n",
    "plt.figure(figsize=(10,10))\n",
    "plt.barh(pos, feature_importance[sorted_idx], align='center')\n",
    "plt.yticks(pos, X.columns[sorted_idx])\n",
    "plt.xlabel('Relative Importance')\n",
    "plt.title('Variable Importance')\n",
    "plt.show()"
   ]
  },
  {
   "cell_type": "code",
   "execution_count": null,
   "metadata": {},
   "outputs": [],
   "source": []
  },
  {
   "cell_type": "code",
   "execution_count": 14,
   "metadata": {},
   "outputs": [
    {
     "name": "stdout",
     "output_type": "stream",
     "text": [
      "Random Forest: Accuracy=0.985\n",
      "Random Forest: f1-score=0.987\n",
      "22\n"
     ]
    },
    {
     "data": {
      "image/png": "[encoded data removed]",
      "text/plain": [
       "<Figure size 720x720 with 1 Axes>"
      ]
     },
     "metadata": {
      "needs_background": "light"
     },
     "output_type": "display_data"
    }
   ],
   "source": [
    "y = cu[dnacols]\n",
    "X = cu[amino_list]\n",
    "X_train, X_test, y_train, y_test = train_test_split(X, y, test_size=0.3, random_state=1863)\n",
    "\n",
    "rfc = RandomForestClassifier(n_estimators=300, random_state = 531,n_jobs=-1)\n",
    "model_res = rfc.fit(X_train, y_train)\n",
    "y_pred = model_res.predict(X_test)\n",
    "\n",
    "ac = accuracy_score(y_test, y_pred)\n",
    "f1 = f1_score(y_test, y_pred, average='weighted')\n",
    "\n",
    "\n",
    "print('Random Forest: Accuracy=%.3f' % (ac))\n",
    "\n",
    "print('Random Forest: f1-score=%.3f' % (f1))\n",
    "\n",
    "feature_importance = rfc.feature_importances_\n",
    "# make importances relative to max importance\n",
    "feature_importance = 100.0 * (feature_importance / feature_importance.max())[:30]\n",
    "sorted_idx = np.argsort(feature_importance)[:30]\n",
    "\n",
    "pos = np.arange(sorted_idx.shape[0]) + .5\n",
    "sorted_idx.size\n",
    "plt.figure(figsize=(10,10))\n",
    "plt.barh(pos, feature_importance[sorted_idx], align='center')\n",
    "plt.yticks(pos, X.columns[sorted_idx])\n",
    "plt.xlabel('Relative Importance')\n",
    "plt.title('Variable Importance')\n",
    "plt.show()"
   ]
  },
  {
   "cell_type": "markdown",
   "metadata": {},
   "source": [
    "As when examining the results of PCA:  it's interesting how quickly the relative importance drops off.  Maybe I should compare some models using a restricted feature set."
   ]
  },
  {
   "cell_type": "code",
   "execution_count": 124,
   "metadata": {},
   "outputs": [],
   "source": [
    "# I'll try modifying the same function as above for k-NN\n",
    "\n",
    "def rfc_fit(y, X, yn='', Xn='', min_n_est=200, n_est_step=20, n_est_steps=11, tts_random_state=0, rfc_random_state=0, test_id=0, do_plots=False):\n",
    "    \n",
    "    X_train, X_test, y_train, y_test = train_test_split(X, y, test_size=0.3, random_state=tts_random_state)\n",
    "    \n",
    "    train_a = []\n",
    "    test_a = []\n",
    "    train_f1 = []\n",
    "    test_f1 = []\n",
    "    train_ra = []\n",
    "    test_ra = []\n",
    "    output = pd.DataFrame(columns=r_cols)\n",
    "    \n",
    "    for i in range(n_est_steps):\n",
    "\n",
    "        rfc = RandomForestClassifier(n_estimators=min_n_est+n_est_step*i, random_state=rfc_random_state, n_jobs=-1)\n",
    "        rfc.fit(X_train,y_train)\n",
    "     \n",
    "        train_pred = rfc.predict(X_train)\n",
    "        test_pred = rfc.predict(X_test)\n",
    "        train_prob_pred = rfc.predict_proba(X_train)\n",
    "        test_prob_pred = rfc.predict_proba(X_test)\n",
    "    \n",
    "        test_a.append(accuracy_score(y_test, test_pred))\n",
    "        train_a.append(accuracy_score(y_train, train_pred))\n",
    "    \n",
    "        test_f1.append(f1_score(y_test, test_pred, average='micro'))\n",
    "        train_f1.append(f1_score(y_train, train_pred, average='micro'))\n",
    "        \n",
    "        # according to the sklearn docs, roc_auc requires predict_proba; this failed to work\n",
    "        test_ra.append(roc_auc_score(y_test, test_pred, average='weighted', multi_class='ovo'))\n",
    "        train_ra.append(roc_auc_score(y_train, train_pred, average='weighted', multi_class='ovo'))\n",
    "    \n",
    "        \n",
    "    for i in range(n_est_steps):\n",
    "        item = [test_id, 'RFC', Xn, yn, {'n_estimators':min_n_est+n_est_step*i}, {'train_f1':train_f1[i], 'test_f1':test_f1[i],\n",
    "                                                  'train_accuracy':train_a[i], 'test_accuracy':test_a[i], \n",
    "                                                  'train_roc_auc':test_ra[i], 'test_roc_auc':test_ra[i]}, datetime.now()]\n",
    "        itemdict = dict(zip(r_cols, item))\n",
    "        output = output.append(itemdict, ignore_index=True)\n",
    "\n",
    "    if do_plots == True:\n",
    "        title = 'RFC predicting ' + yn + ' using ' + Xn\n",
    "        line1, = plt.plot(range(n_est_steps), train_a, 'b')\n",
    "        line2, = plt.plot(range(n_est_steps), test_a, 'g')\n",
    "        plt.legend([line1, line2], ['training accuracy', 'testing accuracy'])\n",
    "        plt.title(title)\n",
    "        plt.ylabel('accuracy')\n",
    "        plt.xlabel('k')\n",
    "        plt.show() \n",
    "        \n",
    "        line1, = plt.plot(range(n_est_steps), train_f1, 'b')\n",
    "        line2, = plt.plot(range(n_est_steps), test_f1, 'g')\n",
    "        plt.legend([line1, line2], ['training F1', 'testing F1'])\n",
    "        plt.title(title)\n",
    "        plt.ylabel('F1')\n",
    "        plt.xlabel('k')\n",
    "        plt.show() \n",
    "        \n",
    "        line1, = plt.plot(range(n_est_steps), train_ra, 'b')\n",
    "        line2, = plt.plot(range(n_est_steps), test_ra, 'g')\n",
    "        plt.legend([line1, line2], ['training roc_auc', 'testing roc_auc'])\n",
    "        plt.title(title)\n",
    "        plt.ylabel('roc_auc')\n",
    "        plt.xlabel('k')\n",
    "        plt.show() \n",
    "    \n",
    "    else:\n",
    "        pass\n",
    "    \n",
    "    return output"
   ]
  },
  {
   "cell_type": "code",
   "execution_count": 125,
   "metadata": {},
   "outputs": [
    {
     "data": {
      "image/png": "[encoded data removed]",
      "text/plain": [
       "<Figure size 432x288 with 1 Axes>"
      ]
     },
     "metadata": {
      "needs_background": "light"
     },
     "output_type": "display_data"
    },
    {
     "data": {
      "image/png": "[encoded data removed]",
      "text/plain": [
       "<Figure size 432x288 with 1 Axes>"
      ]
     },
     "metadata": {
      "needs_background": "light"
     },
     "output_type": "display_data"
    },
    {
     "data": {
      "image/png": "[encoded data removed]",
      "text/plain": [
       "<Figure size 432x288 with 1 Axes>"
      ]
     },
     "metadata": {
      "needs_background": "light"
     },
     "output_type": "display_data"
    },
    {
     "data": {
      "image/png": "[encoded data removed]",
      "text/plain": [
       "<Figure size 432x288 with 1 Axes>"
      ]
     },
     "metadata": {
      "needs_background": "light"
     },
     "output_type": "display_data"
    },
    {
     "data": {
      "image/png": "[encoded data removed]",
      "text/plain": [
       "<Figure size 432x288 with 1 Axes>"
      ]
     },
     "metadata": {
      "needs_background": "light"
     },
     "output_type": "display_data"
    },
    {
     "data": {
      "image/png": "[encoded data removed]",
      "text/plain": [
       "<Figure size 432x288 with 1 Axes>"
      ]
     },
     "metadata": {
      "needs_background": "light"
     },
     "output_type": "display_data"
    },
    {
     "data": {
      "image/png": "[encoded data removed]",
      "text/plain": [
       "<Figure size 432x288 with 1 Axes>"
      ]
     },
     "metadata": {
      "needs_background": "light"
     },
     "output_type": "display_data"
    },
    {
     "data": {
      "image/png": "[encoded data removed]",
      "text/plain": [
       "<Figure size 432x288 with 1 Axes>"
      ]
     },
     "metadata": {
      "needs_background": "light"
     },
     "output_type": "display_data"
    },
    {
     "data": {
      "image/png": "[encoded data removed]",
      "text/plain": [
       "<Figure size 432x288 with 1 Axes>"
      ]
     },
     "metadata": {
      "needs_background": "light"
     },
     "output_type": "display_data"
    },
    {
     "data": {
      "image/png": "[encoded data removed]",
      "text/plain": [
       "<Figure size 432x288 with 1 Axes>"
      ]
     },
     "metadata": {
      "needs_background": "light"
     },
     "output_type": "display_data"
    },
    {
     "data": {
      "image/png": "[encoded data removed]",
      "text/plain": [
       "<Figure size 432x288 with 1 Axes>"
      ]
     },
     "metadata": {
      "needs_background": "light"
     },
     "output_type": "display_data"
    },
    {
     "data": {
      "image/png": "[encoded data removed]",
      "text/plain": [
       "<Figure size 432x288 with 1 Axes>"
      ]
     },
     "metadata": {
      "needs_background": "light"
     },
     "output_type": "display_data"
    }
   ],
   "source": [
    "# running the function on:\n",
    "# y=DNAtype X=codon\n",
    "results = results.append(rfc_fit(cu[dnacols], cu[codon_list], 'dna', 'codon', test_id='2001001', tts_random_state=55, do_plots=True), ignore_index=True)\n",
    "# y=DNAtype X=amino\n",
    "results = results.append(rfc_fit(cu[dnacols], cu[amino_list], 'dna', 'amino', test_id='2002001', tts_random_state=12, do_plots=True), ignore_index=True)\n",
    "# y=kingdom X=codon\n",
    "results = results.append(rfc_fit(cu[kingcols], cu[codon_list], 'kingdom', 'codon', test_id='2003001', tts_random_state=63, do_plots=True), ignore_index=True)\n",
    "# y=kingdom X=amino\n",
    "results = results.append(rfc_fit(cu[kingcols], cu[amino_list], 'kingdom', 'amino', test_id='2004001', tts_random_state=40, do_plots=True), ignore_index=True)"
   ]
  },
  {
   "cell_type": "markdown",
   "metadata": {},
   "source": [
    "The only difference seems to be that, when predicting kingdom as opposed to DNAtype, the testing accuracy drops substantially.  In all cases, the uniformly high training accuracy (at of very close to 1) is suspicious.  I suspect that I'll need to adjust some other parameters for the Random Forest classifier in order to  produce a model that's actually useful. Let's examine the results so far:"
   ]
  },
  {
   "cell_type": "code",
   "execution_count": 127,
   "metadata": {},
   "outputs": [
    {
     "data": {
      "text/html": [
       "<div>\n",
       "<style scoped>\n",
       "    .dataframe tbody tr th:only-of-type {\n",
       "        vertical-align: middle;\n",
       "    }\n",
       "\n",
       "    .dataframe tbody tr th {\n",
       "        vertical-align: top;\n",
       "    }\n",
       "\n",
       "    .dataframe thead th {\n",
       "        text-align: right;\n",
       "    }\n",
       "</style>\n",
       "<table border=\"1\" class=\"dataframe\">\n",
       "  <thead>\n",
       "    <tr style=\"text-align: right;\">\n",
       "      <th></th>\n",
       "      <th>model_id</th>\n",
       "      <th>model_type</th>\n",
       "      <th>inputs</th>\n",
       "      <th>outputs</th>\n",
       "      <th>hyperparameters</th>\n",
       "      <th>assessment</th>\n",
       "      <th>dt</th>\n",
       "    </tr>\n",
       "  </thead>\n",
       "  <tbody>\n",
       "    <tr>\n",
       "      <th>0</th>\n",
       "      <td>1001001</td>\n",
       "      <td>kNN</td>\n",
       "      <td>codon</td>\n",
       "      <td>dna</td>\n",
       "      <td>{'k': 1}</td>\n",
       "      <td>{'train_f1': 0.9998897950187349, 'test_f1': 0....</td>\n",
       "      <td>2021-10-31 12:52:14.818818</td>\n",
       "    </tr>\n",
       "    <tr>\n",
       "      <th>1</th>\n",
       "      <td>1001001</td>\n",
       "      <td>kNN</td>\n",
       "      <td>codon</td>\n",
       "      <td>dna</td>\n",
       "      <td>{'k': 2}</td>\n",
       "      <td>{'train_f1': 0.9974034583724657, 'test_f1': 0....</td>\n",
       "      <td>2021-10-31 12:52:14.823837</td>\n",
       "    </tr>\n",
       "    <tr>\n",
       "      <th>2</th>\n",
       "      <td>1001001</td>\n",
       "      <td>kNN</td>\n",
       "      <td>codon</td>\n",
       "      <td>dna</td>\n",
       "      <td>{'k': 3}</td>\n",
       "      <td>{'train_f1': 0.9976299399217329, 'test_f1': 0....</td>\n",
       "      <td>2021-10-31 12:52:14.830698</td>\n",
       "    </tr>\n",
       "    <tr>\n",
       "      <th>3</th>\n",
       "      <td>1001001</td>\n",
       "      <td>kNN</td>\n",
       "      <td>codon</td>\n",
       "      <td>dna</td>\n",
       "      <td>{'k': 4}</td>\n",
       "      <td>{'train_f1': 0.9962455830388692, 'test_f1': 0....</td>\n",
       "      <td>2021-10-31 12:52:14.836822</td>\n",
       "    </tr>\n",
       "    <tr>\n",
       "      <th>4</th>\n",
       "      <td>1001001</td>\n",
       "      <td>kNN</td>\n",
       "      <td>codon</td>\n",
       "      <td>dna</td>\n",
       "      <td>{'k': 5}</td>\n",
       "      <td>{'train_f1': 0.9959219662735588, 'test_f1': 0....</td>\n",
       "      <td>2021-10-31 12:52:14.841846</td>\n",
       "    </tr>\n",
       "    <tr>\n",
       "      <th>...</th>\n",
       "      <td>...</td>\n",
       "      <td>...</td>\n",
       "      <td>...</td>\n",
       "      <td>...</td>\n",
       "      <td>...</td>\n",
       "      <td>...</td>\n",
       "      <td>...</td>\n",
       "    </tr>\n",
       "    <tr>\n",
       "      <th>79</th>\n",
       "      <td>2004001</td>\n",
       "      <td>RFC</td>\n",
       "      <td>amino</td>\n",
       "      <td>kingdom</td>\n",
       "      <td>{'n_estimators': 320}</td>\n",
       "      <td>{'train_f1': 1.0, 'test_f1': 0.810036900369003...</td>\n",
       "      <td>2021-10-31 15:15:53.582655</td>\n",
       "    </tr>\n",
       "    <tr>\n",
       "      <th>80</th>\n",
       "      <td>2004001</td>\n",
       "      <td>RFC</td>\n",
       "      <td>amino</td>\n",
       "      <td>kingdom</td>\n",
       "      <td>{'n_estimators': 340}</td>\n",
       "      <td>{'train_f1': 1.0, 'test_f1': 0.810156480661352...</td>\n",
       "      <td>2021-10-31 15:15:53.588654</td>\n",
       "    </tr>\n",
       "    <tr>\n",
       "      <th>81</th>\n",
       "      <td>2004001</td>\n",
       "      <td>RFC</td>\n",
       "      <td>amino</td>\n",
       "      <td>kingdom</td>\n",
       "      <td>{'n_estimators': 360}</td>\n",
       "      <td>{'train_f1': 1.0, 'test_f1': 0.809333924088022...</td>\n",
       "      <td>2021-10-31 15:15:53.593654</td>\n",
       "    </tr>\n",
       "    <tr>\n",
       "      <th>82</th>\n",
       "      <td>2004001</td>\n",
       "      <td>RFC</td>\n",
       "      <td>amino</td>\n",
       "      <td>kingdom</td>\n",
       "      <td>{'n_estimators': 380}</td>\n",
       "      <td>{'train_f1': 1.0, 'test_f1': 0.810332103321033...</td>\n",
       "      <td>2021-10-31 15:15:53.598658</td>\n",
       "    </tr>\n",
       "    <tr>\n",
       "      <th>83</th>\n",
       "      <td>2004001</td>\n",
       "      <td>RFC</td>\n",
       "      <td>amino</td>\n",
       "      <td>kingdom</td>\n",
       "      <td>{'n_estimators': 400}</td>\n",
       "      <td>{'train_f1': 1.0, 'test_f1': 0.81027609626458,...</td>\n",
       "      <td>2021-10-31 15:15:53.604659</td>\n",
       "    </tr>\n",
       "  </tbody>\n",
       "</table>\n",
       "<p>84 rows × 7 columns</p>\n",
       "</div>"
      ],
      "text/plain": [
       "   model_id model_type inputs  outputs        hyperparameters  \\\n",
       "0   1001001        kNN  codon      dna               {'k': 1}   \n",
       "1   1001001        kNN  codon      dna               {'k': 2}   \n",
       "2   1001001        kNN  codon      dna               {'k': 3}   \n",
       "3   1001001        kNN  codon      dna               {'k': 4}   \n",
       "4   1001001        kNN  codon      dna               {'k': 5}   \n",
       "..      ...        ...    ...      ...                    ...   \n",
       "79  2004001        RFC  amino  kingdom  {'n_estimators': 320}   \n",
       "80  2004001        RFC  amino  kingdom  {'n_estimators': 340}   \n",
       "81  2004001        RFC  amino  kingdom  {'n_estimators': 360}   \n",
       "82  2004001        RFC  amino  kingdom  {'n_estimators': 380}   \n",
       "83  2004001        RFC  amino  kingdom  {'n_estimators': 400}   \n",
       "\n",
       "                                           assessment  \\\n",
       "0   {'train_f1': 0.9998897950187349, 'test_f1': 0....   \n",
       "1   {'train_f1': 0.9974034583724657, 'test_f1': 0....   \n",
       "2   {'train_f1': 0.9976299399217329, 'test_f1': 0....   \n",
       "3   {'train_f1': 0.9962455830388692, 'test_f1': 0....   \n",
       "4   {'train_f1': 0.9959219662735588, 'test_f1': 0....   \n",
       "..                                                ...   \n",
       "79  {'train_f1': 1.0, 'test_f1': 0.810036900369003...   \n",
       "80  {'train_f1': 1.0, 'test_f1': 0.810156480661352...   \n",
       "81  {'train_f1': 1.0, 'test_f1': 0.809333924088022...   \n",
       "82  {'train_f1': 1.0, 'test_f1': 0.810332103321033...   \n",
       "83  {'train_f1': 1.0, 'test_f1': 0.81027609626458,...   \n",
       "\n",
       "                           dt  \n",
       "0  2021-10-31 12:52:14.818818  \n",
       "1  2021-10-31 12:52:14.823837  \n",
       "2  2021-10-31 12:52:14.830698  \n",
       "3  2021-10-31 12:52:14.836822  \n",
       "4  2021-10-31 12:52:14.841846  \n",
       "..                        ...  \n",
       "79 2021-10-31 15:15:53.582655  \n",
       "80 2021-10-31 15:15:53.588654  \n",
       "81 2021-10-31 15:15:53.593654  \n",
       "82 2021-10-31 15:15:53.598658  \n",
       "83 2021-10-31 15:15:53.604659  \n",
       "\n",
       "[84 rows x 7 columns]"
      ]
     },
     "execution_count": 127,
     "metadata": {},
     "output_type": "execute_result"
    }
   ],
   "source": [
    "results"
   ]
  },
  {
   "cell_type": "markdown",
   "metadata": {},
   "source": [
    "84 rows is just what I expect so far.  Let's continue."
   ]
  },
  {
   "cell_type": "markdown",
   "metadata": {},
   "source": [
    "## XGBoost\n"
   ]
  },
  {
   "cell_type": "markdown",
   "metadata": {},
   "source": [
    "It turns out that XGBClassifier doesn't require, and indeed, can't accept one-hot encoding.  I had to go back to preprocessing and restore the original 'Kingdom' and 'DNAtype' columns.  Also, I discovered that XGBClassifier's own label encoder is deprecated. Eliminating warnings about this requires another import.  **Turns out that, although XGBClassifier still accepted the encoding, this didn't mute the warnings.**"
   ]
  },
  {
   "cell_type": "code",
   "execution_count": 139,
   "metadata": {},
   "outputs": [
    {
     "data": {
      "text/plain": [
       "1    9249\n",
       "2    2899\n",
       "0     815\n",
       "Name: DNAcode, dtype: int64"
      ]
     },
     "execution_count": 139,
     "metadata": {},
     "output_type": "execute_result"
    }
   ],
   "source": [
    "from sklearn.preprocessing import LabelEncoder\n",
    "\n",
    "# I'm not positive that instantiating two LabelEncoder() objects is necessary\n",
    "# I'm also not positive it's not, and not worth the time to check right now\n",
    "encoder1 = LabelEncoder()\n",
    "encoder2 = LabelEncoder()\n",
    "cu['DNAcode'] = encoder1.fit_transform(cu['DNAtype'])\n",
    "cu['Kingcode'] = encoder2.fit_transform(cu['Kingdom'])\n",
    "\n",
    "cu['DNAcode'].value_counts()"
   ]
  },
  {
   "cell_type": "markdown",
   "metadata": {},
   "source": [
    "This looks like the distribution of DNAtype and Kingdom.  I'll proceed to apply XGBoost to these encoded y columns."
   ]
  },
  {
   "cell_type": "code",
   "execution_count": 167,
   "metadata": {},
   "outputs": [
    {
     "name": "stdout",
     "output_type": "stream",
     "text": [
      "[17:55:44] WARNING: C:/Users/Administrator/workspace/xgboost-win64_release_1.4.0/src/learner.cc:1095: Starting in XGBoost 1.3.0, the default evaluation metric used with the objective 'multi:softprob' was changed from 'merror' to 'mlogloss'. Explicitly set eval_metric if you'd like to restore the old behavior.\n"
     ]
    }
   ],
   "source": [
    "# trying again:  DNAtype on codon_list, default hyperparams\n",
    "test_id = '3001001'\n",
    "yn = 'dna'\n",
    "Xn = 'codon'\n",
    "y = cu['DNAcode']\n",
    "X = cu[codon_list]\n",
    "X_train, X_test, y_train, y_test = train_test_split(X, y, test_size=0.3, random_state=13013)\n",
    "\n",
    "xgb = xg.XGBClassifier()\n",
    "xgb.fit(X_train, y_train)\n",
    "y_pred = xgb.predict(X_test)\n",
    "y_prob = xgb.predict_proba(X_test)\n",
    "acc = accuracy_score(y_test, y_pred)\n",
    "f1 = f1_score(y_test, y_pred, average='micro')\n",
    "roc_auc = roc_auc_score(y_test, y_prob, average='weighted', multi_class='ovo')\n",
    "item = [test_id, 'XGB', Xn, yn, {'hyperparameters':'XGBClassifier defaults'}, {'accuracy':acc, 'f1':f1, \n",
    "                                                                               'roc_auc':roc_auc}, datetime.now()]\n",
    "itemdict = dict(zip(r_cols, item))\n",
    "results = results.append(itemdict, ignore_index=True)"
   ]
  },
  {
   "cell_type": "markdown",
   "metadata": {},
   "source": [
    "Did this work?  Accuracy can be equal to F1, but never greater, right?  Obviously, though, hyperparameter tuning remains a pretty big deal here."
   ]
  },
  {
   "cell_type": "code",
   "execution_count": 169,
   "metadata": {},
   "outputs": [
    {
     "name": "stdout",
     "output_type": "stream",
     "text": [
      "[17:57:22] WARNING: C:/Users/Administrator/workspace/xgboost-win64_release_1.4.0/src/learner.cc:1095: Starting in XGBoost 1.3.0, the default evaluation metric used with the objective 'multi:softprob' was changed from 'merror' to 'mlogloss'. Explicitly set eval_metric if you'd like to restore the old behavior.\n",
      "XGBClassifier(base_score=0.5, booster='gbtree', colsample_bylevel=1,\n",
      "              colsample_bynode=1, colsample_bytree=1, gamma=0, gpu_id=-1,\n",
      "              importance_type='gain', interaction_constraints='',\n",
      "              learning_rate=0.300000012, max_delta_step=0, max_depth=6,\n",
      "              min_child_weight=1, missing=nan, monotone_constraints='()',\n",
      "              n_estimators=100, n_jobs=4, num_parallel_tree=1,\n",
      "              objective='multi:softprob', random_state=0, reg_alpha=0,\n",
      "              reg_lambda=1, scale_pos_weight=None, subsample=1,\n",
      "              tree_method='exact', validate_parameters=1, verbosity=None)\n"
     ]
    }
   ],
   "source": [
    "# XGBoost:  DNAcols predicted by aminos\n",
    "test_id = '3002001'\n",
    "yn = 'dna'\n",
    "Xn='amino'\n",
    "y = cu['DNAcode']\n",
    "X = cu[amino_list]\n",
    "X_train, X_test, y_train, y_test = train_test_split(X, y, test_size=0.3, random_state=19044)\n",
    "\n",
    "xgb = xg.XGBClassifier()\n",
    "xgb.fit(X_train, y_train)\n",
    "\n",
    "y_pred = xgb.predict(X_test)\n",
    "y_prob = xgb.predict_proba(X_test)\n",
    "acc = accuracy_score(y_test, y_pred)\n",
    "f1 = f1_score(y_test, y_pred, average='micro')\n",
    "roc_auc = roc_auc_score(y_test, y_prob, average='weighted', multi_class='ovo')\n",
    "item = [test_id, 'XGB', Xn, yn, {'hyperparameters':'XGBClassifier defaults'}, {'accuracy':acc, 'f1':f1, \n",
    "                                                                               'roc_auc':roc_auc}, datetime.now()]\n",
    "itemdict = dict(zip(r_cols, item))\n",
    "results = results.append(itemdict, ignore_index=True)"
   ]
  },
  {
   "cell_type": "code",
   "execution_count": 170,
   "metadata": {},
   "outputs": [
    {
     "name": "stdout",
     "output_type": "stream",
     "text": [
      "[17:58:15] WARNING: C:/Users/Administrator/workspace/xgboost-win64_release_1.4.0/src/learner.cc:1095: Starting in XGBoost 1.3.0, the default evaluation metric used with the objective 'multi:softprob' was changed from 'merror' to 'mlogloss'. Explicitly set eval_metric if you'd like to restore the old behavior.\n",
      "XGBClassifier(base_score=0.5, booster='gbtree', colsample_bylevel=1,\n",
      "              colsample_bynode=1, colsample_bytree=1, gamma=0, gpu_id=-1,\n",
      "              importance_type='gain', interaction_constraints='',\n",
      "              learning_rate=0.300000012, max_delta_step=0, max_depth=6,\n",
      "              min_child_weight=1, missing=nan, monotone_constraints='()',\n",
      "              n_estimators=100, n_jobs=4, num_parallel_tree=1,\n",
      "              objective='multi:softprob', random_state=0, reg_alpha=0,\n",
      "              reg_lambda=1, scale_pos_weight=None, subsample=1,\n",
      "              tree_method='exact', validate_parameters=1, verbosity=None)\n"
     ]
    }
   ],
   "source": [
    "# XGBoost:  kingdom predicted by codons\n",
    "test_id = '3003001'\n",
    "yn = 'king'\n",
    "Xn='codon'\n",
    "y = cu['Kingcode']\n",
    "X = cu[codon_list]\n",
    "X_train, X_test, y_train, y_test = train_test_split(X, y, test_size=0.3, random_state=19044)\n",
    "\n",
    "xgb = xg.XGBClassifier()\n",
    "xgb.fit(X_train, y_train)\n",
    "\n",
    "y_pred = xgb.predict(X_test)\n",
    "y_prob = xgb.predict_proba(X_test)\n",
    "acc = accuracy_score(y_test, y_pred)\n",
    "f1 = f1_score(y_test, y_pred, average='micro')\n",
    "roc_auc = roc_auc_score(y_test, y_prob, average='weighted', multi_class='ovo')\n",
    "item = [test_id, 'XGB', Xn, yn, {'hyperparameters':'XGBClassifier defaults'}, {'accuracy':acc, 'f1':f1, \n",
    "                                                                               'roc_auc':roc_auc}, datetime.now()]\n",
    "itemdict = dict(zip(r_cols, item))\n",
    "results = results.append(itemdict, ignore_index=True)"
   ]
  },
  {
   "cell_type": "code",
   "execution_count": 171,
   "metadata": {},
   "outputs": [
    {
     "name": "stdout",
     "output_type": "stream",
     "text": [
      "[17:59:12] WARNING: C:/Users/Administrator/workspace/xgboost-win64_release_1.4.0/src/learner.cc:1095: Starting in XGBoost 1.3.0, the default evaluation metric used with the objective 'multi:softprob' was changed from 'merror' to 'mlogloss'. Explicitly set eval_metric if you'd like to restore the old behavior.\n"
     ]
    }
   ],
   "source": [
    "# XGBoost:  kingdom predicted by aminos\n",
    "test_id = '3004001'\n",
    "yn = 'king'\n",
    "Xn='amino'\n",
    "y = cu['Kingcode']\n",
    "X = cu[amino_list]\n",
    "X_train, X_test, y_train, y_test = train_test_split(X, y, test_size=0.3, random_state=19044)\n",
    "\n",
    "xgb = xg.XGBClassifier()\n",
    "xgb.fit(X_train, y_train)\n",
    "\n",
    "y_pred = xgb.predict(X_test)\n",
    "y_prob = xgb.predict_proba(X_test)\n",
    "acc = accuracy_score(y_test, y_pred)\n",
    "f1 = f1_score(y_test, y_pred, average='micro')\n",
    "roc_auc = roc_auc_score(y_test, y_prob, average='weighted', multi_class='ovo')\n",
    "item = [test_id, 'XGB', Xn, yn, {'hyperparameters':'XGBClassifier defaults'}, {'accuracy':acc, 'f1':f1, \n",
    "                                                                               'roc_auc':roc_auc}, datetime.now()]\n",
    "itemdict = dict(zip(r_cols, item))\n",
    "results = results.append(itemdict, ignore_index=True)"
   ]
  },
  {
   "cell_type": "code",
   "execution_count": 173,
   "metadata": {},
   "outputs": [
    {
     "data": {
      "text/html": [
       "<div>\n",
       "<style scoped>\n",
       "    .dataframe tbody tr th:only-of-type {\n",
       "        vertical-align: middle;\n",
       "    }\n",
       "\n",
       "    .dataframe tbody tr th {\n",
       "        vertical-align: top;\n",
       "    }\n",
       "\n",
       "    .dataframe thead th {\n",
       "        text-align: right;\n",
       "    }\n",
       "</style>\n",
       "<table border=\"1\" class=\"dataframe\">\n",
       "  <thead>\n",
       "    <tr style=\"text-align: right;\">\n",
       "      <th></th>\n",
       "      <th>model_id</th>\n",
       "      <th>model_type</th>\n",
       "      <th>inputs</th>\n",
       "      <th>outputs</th>\n",
       "      <th>hyperparameters</th>\n",
       "      <th>assessment</th>\n",
       "      <th>dt</th>\n",
       "    </tr>\n",
       "  </thead>\n",
       "  <tbody>\n",
       "    <tr>\n",
       "      <th>0</th>\n",
       "      <td>1001001</td>\n",
       "      <td>kNN</td>\n",
       "      <td>codon</td>\n",
       "      <td>dna</td>\n",
       "      <td>{'k': 1}</td>\n",
       "      <td>{'train_f1': 0.9998897950187349, 'test_f1': 0....</td>\n",
       "      <td>2021-10-31 12:52:14.818818</td>\n",
       "    </tr>\n",
       "    <tr>\n",
       "      <th>1</th>\n",
       "      <td>1001001</td>\n",
       "      <td>kNN</td>\n",
       "      <td>codon</td>\n",
       "      <td>dna</td>\n",
       "      <td>{'k': 2}</td>\n",
       "      <td>{'train_f1': 0.9974034583724657, 'test_f1': 0....</td>\n",
       "      <td>2021-10-31 12:52:14.823837</td>\n",
       "    </tr>\n",
       "    <tr>\n",
       "      <th>2</th>\n",
       "      <td>1001001</td>\n",
       "      <td>kNN</td>\n",
       "      <td>codon</td>\n",
       "      <td>dna</td>\n",
       "      <td>{'k': 3}</td>\n",
       "      <td>{'train_f1': 0.9976299399217329, 'test_f1': 0....</td>\n",
       "      <td>2021-10-31 12:52:14.830698</td>\n",
       "    </tr>\n",
       "    <tr>\n",
       "      <th>3</th>\n",
       "      <td>1001001</td>\n",
       "      <td>kNN</td>\n",
       "      <td>codon</td>\n",
       "      <td>dna</td>\n",
       "      <td>{'k': 4}</td>\n",
       "      <td>{'train_f1': 0.9962455830388692, 'test_f1': 0....</td>\n",
       "      <td>2021-10-31 12:52:14.836822</td>\n",
       "    </tr>\n",
       "    <tr>\n",
       "      <th>4</th>\n",
       "      <td>1001001</td>\n",
       "      <td>kNN</td>\n",
       "      <td>codon</td>\n",
       "      <td>dna</td>\n",
       "      <td>{'k': 5}</td>\n",
       "      <td>{'train_f1': 0.9959219662735588, 'test_f1': 0....</td>\n",
       "      <td>2021-10-31 12:52:14.841846</td>\n",
       "    </tr>\n",
       "    <tr>\n",
       "      <th>...</th>\n",
       "      <td>...</td>\n",
       "      <td>...</td>\n",
       "      <td>...</td>\n",
       "      <td>...</td>\n",
       "      <td>...</td>\n",
       "      <td>...</td>\n",
       "      <td>...</td>\n",
       "    </tr>\n",
       "    <tr>\n",
       "      <th>83</th>\n",
       "      <td>2004001</td>\n",
       "      <td>RFC</td>\n",
       "      <td>amino</td>\n",
       "      <td>kingdom</td>\n",
       "      <td>{'n_estimators': 400}</td>\n",
       "      <td>{'train_f1': 1.0, 'test_f1': 0.81027609626458,...</td>\n",
       "      <td>2021-10-31 15:15:53.604659</td>\n",
       "    </tr>\n",
       "    <tr>\n",
       "      <th>84</th>\n",
       "      <td>3001001</td>\n",
       "      <td>XGB</td>\n",
       "      <td>codon</td>\n",
       "      <td>dna</td>\n",
       "      <td>{'hyperparameters': 'XGBClassifier defaults'}</td>\n",
       "      <td>{'accuracy': 0.9904859861146824, 'f1': 0.99048...</td>\n",
       "      <td>2021-11-02 17:55:51.215694</td>\n",
       "    </tr>\n",
       "    <tr>\n",
       "      <th>85</th>\n",
       "      <td>3002001</td>\n",
       "      <td>XGB</td>\n",
       "      <td>amino</td>\n",
       "      <td>dna</td>\n",
       "      <td>{'hyperparameters': 'XGBClassifier defaults'}</td>\n",
       "      <td>{'accuracy': 0.9930573412188223, 'f1': 0.99305...</td>\n",
       "      <td>2021-11-02 17:57:26.394386</td>\n",
       "    </tr>\n",
       "    <tr>\n",
       "      <th>86</th>\n",
       "      <td>3003001</td>\n",
       "      <td>XGB</td>\n",
       "      <td>codon</td>\n",
       "      <td>king</td>\n",
       "      <td>{'hyperparameters': 'XGBClassifier defaults'}</td>\n",
       "      <td>{'accuracy': 0.9244021599382874, 'f1': 0.92440...</td>\n",
       "      <td>2021-11-02 17:58:54.500340</td>\n",
       "    </tr>\n",
       "    <tr>\n",
       "      <th>87</th>\n",
       "      <td>3004001</td>\n",
       "      <td>XGB</td>\n",
       "      <td>amino</td>\n",
       "      <td>king</td>\n",
       "      <td>{'hyperparameters': 'XGBClassifier defaults'}</td>\n",
       "      <td>{'accuracy': 0.8704037027513499, 'f1': 0.87040...</td>\n",
       "      <td>2021-11-02 17:59:31.394897</td>\n",
       "    </tr>\n",
       "  </tbody>\n",
       "</table>\n",
       "<p>88 rows × 7 columns</p>\n",
       "</div>"
      ],
      "text/plain": [
       "   model_id model_type inputs  outputs  \\\n",
       "0   1001001        kNN  codon      dna   \n",
       "1   1001001        kNN  codon      dna   \n",
       "2   1001001        kNN  codon      dna   \n",
       "3   1001001        kNN  codon      dna   \n",
       "4   1001001        kNN  codon      dna   \n",
       "..      ...        ...    ...      ...   \n",
       "83  2004001        RFC  amino  kingdom   \n",
       "84  3001001        XGB  codon      dna   \n",
       "85  3002001        XGB  amino      dna   \n",
       "86  3003001        XGB  codon     king   \n",
       "87  3004001        XGB  amino     king   \n",
       "\n",
       "                                  hyperparameters  \\\n",
       "0                                        {'k': 1}   \n",
       "1                                        {'k': 2}   \n",
       "2                                        {'k': 3}   \n",
       "3                                        {'k': 4}   \n",
       "4                                        {'k': 5}   \n",
       "..                                            ...   \n",
       "83                          {'n_estimators': 400}   \n",
       "84  {'hyperparameters': 'XGBClassifier defaults'}   \n",
       "85  {'hyperparameters': 'XGBClassifier defaults'}   \n",
       "86  {'hyperparameters': 'XGBClassifier defaults'}   \n",
       "87  {'hyperparameters': 'XGBClassifier defaults'}   \n",
       "\n",
       "                                           assessment  \\\n",
       "0   {'train_f1': 0.9998897950187349, 'test_f1': 0....   \n",
       "1   {'train_f1': 0.9974034583724657, 'test_f1': 0....   \n",
       "2   {'train_f1': 0.9976299399217329, 'test_f1': 0....   \n",
       "3   {'train_f1': 0.9962455830388692, 'test_f1': 0....   \n",
       "4   {'train_f1': 0.9959219662735588, 'test_f1': 0....   \n",
       "..                                                ...   \n",
       "83  {'train_f1': 1.0, 'test_f1': 0.81027609626458,...   \n",
       "84  {'accuracy': 0.9904859861146824, 'f1': 0.99048...   \n",
       "85  {'accuracy': 0.9930573412188223, 'f1': 0.99305...   \n",
       "86  {'accuracy': 0.9244021599382874, 'f1': 0.92440...   \n",
       "87  {'accuracy': 0.8704037027513499, 'f1': 0.87040...   \n",
       "\n",
       "                           dt  \n",
       "0  2021-10-31 12:52:14.818818  \n",
       "1  2021-10-31 12:52:14.823837  \n",
       "2  2021-10-31 12:52:14.830698  \n",
       "3  2021-10-31 12:52:14.836822  \n",
       "4  2021-10-31 12:52:14.841846  \n",
       "..                        ...  \n",
       "83 2021-10-31 15:15:53.604659  \n",
       "84 2021-11-02 17:55:51.215694  \n",
       "85 2021-11-02 17:57:26.394386  \n",
       "86 2021-11-02 17:58:54.500340  \n",
       "87 2021-11-02 17:59:31.394897  \n",
       "\n",
       "[88 rows x 7 columns]"
      ]
     },
     "execution_count": 173,
     "metadata": {},
     "output_type": "execute_result"
    }
   ],
   "source": [
    "results"
   ]
  },
  {
   "cell_type": "markdown",
   "metadata": {},
   "source": [
    "I don't know what to get out of this.  At least I got XGBoost to work; there are so many hyperparameters, though, that I'm not sure how to go about tuning them.  Nor am I sure how to evaluate these models, other than by such metrics as accuracy, F1, etc."
   ]
  },
  {
   "cell_type": "markdown",
   "metadata": {},
   "source": [
    "## XGBClassifier using Hyperopt"
   ]
  },
  {
   "cell_type": "code",
   "execution_count": 132,
   "metadata": {},
   "outputs": [],
   "source": [
    "import hyperopt\n",
    "from hyperopt import hp\n",
    "from hyperopt import STATUS_OK, Trials, fmin, hp, tpe"
   ]
  },
  {
   "cell_type": "code",
   "execution_count": 175,
   "metadata": {},
   "outputs": [
    {
     "name": "stdout",
     "output_type": "stream",
     "text": [
      "100%|██████████| 100/100 [02:31<00:00,  1.52s/trial, best loss: -0.978143481614811]\n"
     ]
    }
   ],
   "source": [
    "# attempting to use hyperopt to select XGBoost hyperparameters\n",
    "# starting out by cribbing from https://www.kaggle.com/prashant111/a-guide-on-xgboost-hyperparameters-tuning\n",
    "\n",
    "\n",
    "test_id = '3101001'\n",
    "yn = 'dna'\n",
    "Xn = 'codon'\n",
    "\n",
    "y = cu['DNAcode']\n",
    "X = cu[codon_list]\n",
    "X_train, X_test, y_train, y_test = train_test_split(X, y, test_size=0.3, random_state=6016)\n",
    "\n",
    "space={'max_depth': hp.quniform(\"max_depth\", 3, 18, 1),\n",
    "        'gamma': hp.uniform ('gamma', 1,9),\n",
    "        'reg_alpha' : hp.quniform('reg_alpha', 40,180,1),\n",
    "        'reg_lambda' : hp.uniform('reg_lambda', 0,1),\n",
    "        'colsample_bytree' : hp.uniform('colsample_bytree', 0.5,1),\n",
    "        'min_child_weight' : hp.quniform('min_child_weight', 0, 10, 1),\n",
    "        'n_estimators': 180,\n",
    "        'seed': 0\n",
    "    }\n",
    "\n",
    "def objective(space):\n",
    "    model=xg.XGBClassifier(\n",
    "                    n_estimators =space['n_estimators'], max_depth = int(space['max_depth']), gamma = space['gamma'],\n",
    "                    reg_alpha = int(space['reg_alpha']),min_child_weight=int(space['min_child_weight']),\n",
    "                    colsample_bytree=int(space['colsample_bytree']))\n",
    "    \n",
    "    evaluation = [( X_train, y_train), ( X_test, y_test)]\n",
    "    \n",
    "    model.fit(X_train, y_train,\n",
    "            eval_set=evaluation, eval_metric=\"auc\",\n",
    "            early_stopping_rounds=10,verbose=False)\n",
    "    \n",
    "\n",
    "    y_pred = model.predict(X_test)\n",
    "    y_prob = model.predict_proba(X_test)\n",
    "    accuracy = accuracy_score(y_test, y_pred)\n",
    "    f1 = f1_score(y_test, y_pred, average='micro')\n",
    "    roc_auc = roc_auc_score(y_test, y_prob, average='weighted', multi_class='ovo')\n",
    "    \n",
    "    return {'loss': -f1, 'status': STATUS_OK }\n",
    "\n",
    "trials = Trials()\n",
    "\n",
    "best_hyperparams = hyperopt.fmin(fn = objective,\n",
    "                        space = space,\n",
    "                        algo = hyperopt.tpe.suggest,\n",
    "                        max_evals = 100,\n",
    "                        trials = trials)\n",
    "\n",
    "\n",
    "item = [test_id, 'XGB', Xn, yn, best_hyperparams, {'accuracy':accuracy, 'f1':f1, 'roc_auc':roc_auc}, datetime.now()]\n",
    "itemdict = dict(zip(r_cols, item))\n",
    "results = results.append(itemdict, ignore_index=True)\n"
   ]
  },
  {
   "cell_type": "code",
   "execution_count": 178,
   "metadata": {},
   "outputs": [
    {
     "data": {
      "text/plain": [
       "model_id                                                     3101001\n",
       "model_type                                                       XGB\n",
       "inputs                                                         codon\n",
       "outputs                                                          dna\n",
       "hyperparameters    {'colsample_bytree': 0.6551331939334801, 'gamm...\n",
       "assessment         {'accuracy': 0.8704037027513499, 'f1': 0.87040...\n",
       "dt                                        2021-11-02 18:17:35.343938\n",
       "Name: 88, dtype: object"
      ]
     },
     "execution_count": 178,
     "metadata": {},
     "output_type": "execute_result"
    }
   ],
   "source": [
    "results.iloc[-1]\n"
   ]
  },
  {
   "cell_type": "code",
   "execution_count": 179,
   "metadata": {},
   "outputs": [
    {
     "name": "stdout",
     "output_type": "stream",
     "text": [
      "100%|██████████| 100/100 [01:24<00:00,  1.19trial/s, best loss: -0.9732579069169452]\n"
     ]
    }
   ],
   "source": [
    "# DNA on amino \n",
    "\n",
    "test_id = '3102001'\n",
    "yn = 'dna'\n",
    "Xn = 'amino'\n",
    "\n",
    "y = cu['DNAtype']\n",
    "X = cu[amino_list]\n",
    "X_train, X_test, y_train, y_test = train_test_split(X, y, test_size=0.3, random_state=6016)\n",
    "\n",
    "space={'max_depth': hp.quniform(\"max_depth\", 3, 18, 1),\n",
    "        'gamma': hp.uniform ('gamma', 1,9),\n",
    "        'reg_alpha' : hp.quniform('reg_alpha', 40,180,1),\n",
    "        'reg_lambda' : hp.uniform('reg_lambda', 0,1),\n",
    "        'colsample_bytree' : hp.uniform('colsample_bytree', 0.5,1),\n",
    "        'min_child_weight' : hp.quniform('min_child_weight', 0, 10, 1),\n",
    "        'n_estimators': 180,\n",
    "        'seed': 0\n",
    "    }\n",
    "\n",
    "def objective(space):\n",
    "    model=xg.XGBClassifier(\n",
    "                    n_estimators =space['n_estimators'], max_depth = int(space['max_depth']), gamma = space['gamma'],\n",
    "                    reg_alpha = int(space['reg_alpha']),min_child_weight=int(space['min_child_weight']),\n",
    "                    colsample_bytree=int(space['colsample_bytree']))\n",
    "    \n",
    "    evaluation = [( X_train, y_train), ( X_test, y_test)]\n",
    "    \n",
    "    model.fit(X_train, y_train,\n",
    "            eval_set=evaluation, eval_metric=\"auc\",\n",
    "            early_stopping_rounds=10,verbose=False)\n",
    "    \n",
    "\n",
    "    y_pred = model.predict(X_test)\n",
    "    y_prob = model.predict_proba(X_test)\n",
    "    accuracy = accuracy_score(y_test, y_pred)\n",
    "    f1 = f1_score(y_test, y_pred, average='micro')\n",
    "    roc_auc = roc_auc_score(y_test, y_prob, average='weighted', multi_class='ovo')\n",
    "    return {'loss': -f1, 'status': STATUS_OK }\n",
    "\n",
    "trials = Trials()\n",
    "\n",
    "best_hyperparams = hyperopt.fmin(fn = objective,\n",
    "                        space = space,\n",
    "                        algo = hyperopt.tpe.suggest,\n",
    "                        max_evals = 100,\n",
    "                        trials = trials)\n",
    "\n",
    "item = [test_id, 'XGB', Xn, yn, best_hyperparams, {'accuracy':accuracy, 'f1':f1, 'roc_auc':roc_auc}, datetime.now()]\n",
    "itemdict = dict(zip(r_cols, item))\n",
    "results = results.append(itemdict, ignore_index=True)\n"
   ]
  },
  {
   "cell_type": "markdown",
   "metadata": {},
   "source": [
    "Interesting.  Hyperopt optimizes to radically different hyperparameters using  F1 compared to accuracy.  Let's see if this holds across the other three tests to be run."
   ]
  },
  {
   "cell_type": "code",
   "execution_count": 180,
   "metadata": {},
   "outputs": [
    {
     "name": "stdout",
     "output_type": "stream",
     "text": [
      "100%|██████████| 100/100 [09:29<00:00,  5.70s/trial, best loss: -0.7498071483671894]\n"
     ]
    }
   ],
   "source": [
    "# kingdom on codons\n",
    "\n",
    "test_id = '3103001'\n",
    "yn = 'kingdom'\n",
    "Xn = 'codon'\n",
    "\n",
    "y = cu['Kingdom']\n",
    "X = cu[codon_list]\n",
    "X_train, X_test, y_train, y_test = train_test_split(X, y, test_size=0.3, random_state=1613)\n",
    "\n",
    "space={'max_depth': hp.quniform(\"max_depth\", 3, 18, 1),\n",
    "        'gamma': hp.uniform ('gamma', 1,9),\n",
    "        'reg_alpha' : hp.quniform('reg_alpha', 40,180,1),\n",
    "        'reg_lambda' : hp.uniform('reg_lambda', 0,1),\n",
    "        'colsample_bytree' : hp.uniform('colsample_bytree', 0.5,1),\n",
    "        'min_child_weight' : hp.quniform('min_child_weight', 0, 10, 1),\n",
    "        'n_estimators': 180,\n",
    "        'seed': 0\n",
    "    }\n",
    "\n",
    "def objective(space):\n",
    "    model=xg.XGBClassifier(\n",
    "                    n_estimators =space['n_estimators'], max_depth = int(space['max_depth']), gamma = space['gamma'],\n",
    "                    reg_alpha = int(space['reg_alpha']),min_child_weight=int(space['min_child_weight']),\n",
    "                    colsample_bytree=int(space['colsample_bytree']))\n",
    "    \n",
    "    evaluation = [( X_train, y_train), ( X_test, y_test)]\n",
    "    \n",
    "    model.fit(X_train, y_train,\n",
    "            eval_set=evaluation, eval_metric=\"auc\",\n",
    "            early_stopping_rounds=10,verbose=False)\n",
    "    \n",
    "\n",
    "    y_pred = model.predict(X_test)\n",
    "    y_prob = model.predict_proba(X_test)\n",
    "    accuracy = accuracy_score(y_test, y_pred)\n",
    "    f1 = f1_score(y_test, y_pred, average='micro')\n",
    "    roc_auc = roc_auc_score(y_test, y_prob, average='weighted', multi_class='ovo')\n",
    "    return {'loss': -f1, 'status': STATUS_OK }\n",
    "\n",
    "trials = Trials()\n",
    "\n",
    "best_hyperparams = hyperopt.fmin(fn = objective,\n",
    "                        space = space,\n",
    "                        algo = hyperopt.tpe.suggest,\n",
    "                        max_evals = 100,\n",
    "                        trials = trials)\n",
    "\n",
    "item = [test_id, 'XGB', Xn, yn, best_hyperparams, {'accuracy':accuracy, 'f1':f1, 'roc_auc':roc_auc}, datetime.now()]\n",
    "itemdict = dict(zip(r_cols, item))\n",
    "results = results.append(itemdict, ignore_index=True)"
   ]
  },
  {
   "cell_type": "code",
   "execution_count": 183,
   "metadata": {},
   "outputs": [
    {
     "name": "stdout",
     "output_type": "stream",
     "text": [
      "100%|██████████| 100/100 [09:08<00:00,  5.48s/trial, best loss: -0.715350989971715]\n"
     ]
    }
   ],
   "source": [
    "# kingdom on amino\n",
    "\n",
    "test_id = '3104001'\n",
    "yn = 'kingdom'\n",
    "Xn = 'amino'\n",
    "\n",
    "y = cu['Kingdom']\n",
    "X = cu[amino_list]\n",
    "X_train, X_test, y_train, y_test = train_test_split(X, y, test_size=0.3, random_state=6016)\n",
    "\n",
    "space={'max_depth': hp.quniform(\"max_depth\", 3, 18, 1),\n",
    "        'gamma': hp.uniform ('gamma', 1,9),\n",
    "        'reg_alpha' : hp.quniform('reg_alpha', 40,180,1),\n",
    "        'reg_lambda' : hp.uniform('reg_lambda', 0,1),\n",
    "        'colsample_bytree' : hp.uniform('colsample_bytree', 0.5,1),\n",
    "        'min_child_weight' : hp.quniform('min_child_weight', 0, 10, 1),\n",
    "        'n_estimators': 180,\n",
    "        'seed': 0\n",
    "    }\n",
    "\n",
    "def objective(space):\n",
    "    model=xg.XGBClassifier(\n",
    "                    n_estimators =space['n_estimators'], max_depth = int(space['max_depth']), gamma = space['gamma'],\n",
    "                    reg_alpha = int(space['reg_alpha']),min_child_weight=int(space['min_child_weight']),\n",
    "                    colsample_bytree=int(space['colsample_bytree']))\n",
    "    \n",
    "    evaluation = [( X_train, y_train), ( X_test, y_test)]\n",
    "    \n",
    "    model.fit(X_train, y_train,\n",
    "            eval_set=evaluation, eval_metric=\"auc\",\n",
    "            early_stopping_rounds=10,verbose=False)\n",
    "    \n",
    "\n",
    "    y_pred = model.predict(X_test)\n",
    "    y_prob = model.predict_proba(X_test)\n",
    "    accuracy = accuracy_score(y_test, y_pred)\n",
    "    f1 = f1_score(y_test, y_pred, average='micro')\n",
    "    roc_auc = roc_auc_score(y_test, y_prob, average='weighted', multi_class='ovo')\n",
    "    return {'loss': -f1, 'status': STATUS_OK }\n",
    "\n",
    "trials = Trials()\n",
    "\n",
    "best_hyperparams = hyperopt.fmin(fn = objective,\n",
    "                        space = space,\n",
    "                        algo = hyperopt.tpe.suggest,\n",
    "                        max_evals = 100,\n",
    "                        trials = trials)\n",
    "\n",
    "item = [test_id, 'XGB', Xn, yn, best_hyperparams, {'accuracy':accuracy, 'f1':f1, 'roc_auc':roc_auc}, datetime.now()]\n",
    "itemdict = dict(zip(r_cols, item))\n",
    "results = results.append(itemdict, ignore_index=True)"
   ]
  },
  {
   "cell_type": "code",
   "execution_count": 184,
   "metadata": {},
   "outputs": [
    {
     "data": {
      "text/html": [
       "<div>\n",
       "<style scoped>\n",
       "    .dataframe tbody tr th:only-of-type {\n",
       "        vertical-align: middle;\n",
       "    }\n",
       "\n",
       "    .dataframe tbody tr th {\n",
       "        vertical-align: top;\n",
       "    }\n",
       "\n",
       "    .dataframe thead th {\n",
       "        text-align: right;\n",
       "    }\n",
       "</style>\n",
       "<table border=\"1\" class=\"dataframe\">\n",
       "  <thead>\n",
       "    <tr style=\"text-align: right;\">\n",
       "      <th></th>\n",
       "      <th>model_id</th>\n",
       "      <th>model_type</th>\n",
       "      <th>inputs</th>\n",
       "      <th>outputs</th>\n",
       "      <th>hyperparameters</th>\n",
       "      <th>assessment</th>\n",
       "      <th>dt</th>\n",
       "    </tr>\n",
       "  </thead>\n",
       "  <tbody>\n",
       "    <tr>\n",
       "      <th>82</th>\n",
       "      <td>2004001</td>\n",
       "      <td>RFC</td>\n",
       "      <td>amino</td>\n",
       "      <td>kingdom</td>\n",
       "      <td>{'n_estimators': 380}</td>\n",
       "      <td>{'train_f1': 1.0, 'test_f1': 0.810332103321033...</td>\n",
       "      <td>2021-10-31 15:15:53.598658</td>\n",
       "    </tr>\n",
       "    <tr>\n",
       "      <th>83</th>\n",
       "      <td>2004001</td>\n",
       "      <td>RFC</td>\n",
       "      <td>amino</td>\n",
       "      <td>kingdom</td>\n",
       "      <td>{'n_estimators': 400}</td>\n",
       "      <td>{'train_f1': 1.0, 'test_f1': 0.81027609626458,...</td>\n",
       "      <td>2021-10-31 15:15:53.604659</td>\n",
       "    </tr>\n",
       "    <tr>\n",
       "      <th>84</th>\n",
       "      <td>3001001</td>\n",
       "      <td>XGB</td>\n",
       "      <td>codon</td>\n",
       "      <td>dna</td>\n",
       "      <td>{'hyperparameters': 'XGBClassifier defaults'}</td>\n",
       "      <td>{'accuracy': 0.9904859861146824, 'f1': 0.99048...</td>\n",
       "      <td>2021-11-02 17:55:51.215694</td>\n",
       "    </tr>\n",
       "    <tr>\n",
       "      <th>85</th>\n",
       "      <td>3002001</td>\n",
       "      <td>XGB</td>\n",
       "      <td>amino</td>\n",
       "      <td>dna</td>\n",
       "      <td>{'hyperparameters': 'XGBClassifier defaults'}</td>\n",
       "      <td>{'accuracy': 0.9930573412188223, 'f1': 0.99305...</td>\n",
       "      <td>2021-11-02 17:57:26.394386</td>\n",
       "    </tr>\n",
       "    <tr>\n",
       "      <th>86</th>\n",
       "      <td>3003001</td>\n",
       "      <td>XGB</td>\n",
       "      <td>codon</td>\n",
       "      <td>king</td>\n",
       "      <td>{'hyperparameters': 'XGBClassifier defaults'}</td>\n",
       "      <td>{'accuracy': 0.9244021599382874, 'f1': 0.92440...</td>\n",
       "      <td>2021-11-02 17:58:54.500340</td>\n",
       "    </tr>\n",
       "    <tr>\n",
       "      <th>87</th>\n",
       "      <td>3004001</td>\n",
       "      <td>XGB</td>\n",
       "      <td>amino</td>\n",
       "      <td>king</td>\n",
       "      <td>{'hyperparameters': 'XGBClassifier defaults'}</td>\n",
       "      <td>{'accuracy': 0.8704037027513499, 'f1': 0.87040...</td>\n",
       "      <td>2021-11-02 17:59:31.394897</td>\n",
       "    </tr>\n",
       "    <tr>\n",
       "      <th>88</th>\n",
       "      <td>3101001</td>\n",
       "      <td>XGB</td>\n",
       "      <td>codon</td>\n",
       "      <td>dna</td>\n",
       "      <td>{'colsample_bytree': 0.6551331939334801, 'gamm...</td>\n",
       "      <td>{'accuracy': 0.8704037027513499, 'f1': 0.87040...</td>\n",
       "      <td>2021-11-02 18:17:35.343938</td>\n",
       "    </tr>\n",
       "    <tr>\n",
       "      <th>89</th>\n",
       "      <td>3102001</td>\n",
       "      <td>XGB</td>\n",
       "      <td>amino</td>\n",
       "      <td>dna</td>\n",
       "      <td>{'colsample_bytree': 0.7791264989260955, 'gamm...</td>\n",
       "      <td>{'accuracy': 0.8704037027513499, 'f1': 0.87040...</td>\n",
       "      <td>2021-11-02 18:21:11.048445</td>\n",
       "    </tr>\n",
       "    <tr>\n",
       "      <th>90</th>\n",
       "      <td>3103001</td>\n",
       "      <td>XGB</td>\n",
       "      <td>codon</td>\n",
       "      <td>kingdom</td>\n",
       "      <td>{'colsample_bytree': 0.7171431608800939, 'gamm...</td>\n",
       "      <td>{'accuracy': 0.8704037027513499, 'f1': 0.87040...</td>\n",
       "      <td>2021-11-02 18:32:00.591554</td>\n",
       "    </tr>\n",
       "    <tr>\n",
       "      <th>91</th>\n",
       "      <td>3104001</td>\n",
       "      <td>XGB</td>\n",
       "      <td>amino</td>\n",
       "      <td>kingdom</td>\n",
       "      <td>{'colsample_bytree': 0.7216075044125336, 'gamm...</td>\n",
       "      <td>{'accuracy': 0.8704037027513499, 'f1': 0.87040...</td>\n",
       "      <td>2021-11-02 18:46:50.150763</td>\n",
       "    </tr>\n",
       "  </tbody>\n",
       "</table>\n",
       "</div>"
      ],
      "text/plain": [
       "   model_id model_type inputs  outputs  \\\n",
       "82  2004001        RFC  amino  kingdom   \n",
       "83  2004001        RFC  amino  kingdom   \n",
       "84  3001001        XGB  codon      dna   \n",
       "85  3002001        XGB  amino      dna   \n",
       "86  3003001        XGB  codon     king   \n",
       "87  3004001        XGB  amino     king   \n",
       "88  3101001        XGB  codon      dna   \n",
       "89  3102001        XGB  amino      dna   \n",
       "90  3103001        XGB  codon  kingdom   \n",
       "91  3104001        XGB  amino  kingdom   \n",
       "\n",
       "                                      hyperparameters  \\\n",
       "82                              {'n_estimators': 380}   \n",
       "83                              {'n_estimators': 400}   \n",
       "84      {'hyperparameters': 'XGBClassifier defaults'}   \n",
       "85      {'hyperparameters': 'XGBClassifier defaults'}   \n",
       "86      {'hyperparameters': 'XGBClassifier defaults'}   \n",
       "87      {'hyperparameters': 'XGBClassifier defaults'}   \n",
       "88  {'colsample_bytree': 0.6551331939334801, 'gamm...   \n",
       "89  {'colsample_bytree': 0.7791264989260955, 'gamm...   \n",
       "90  {'colsample_bytree': 0.7171431608800939, 'gamm...   \n",
       "91  {'colsample_bytree': 0.7216075044125336, 'gamm...   \n",
       "\n",
       "                                           assessment  \\\n",
       "82  {'train_f1': 1.0, 'test_f1': 0.810332103321033...   \n",
       "83  {'train_f1': 1.0, 'test_f1': 0.81027609626458,...   \n",
       "84  {'accuracy': 0.9904859861146824, 'f1': 0.99048...   \n",
       "85  {'accuracy': 0.9930573412188223, 'f1': 0.99305...   \n",
       "86  {'accuracy': 0.9244021599382874, 'f1': 0.92440...   \n",
       "87  {'accuracy': 0.8704037027513499, 'f1': 0.87040...   \n",
       "88  {'accuracy': 0.8704037027513499, 'f1': 0.87040...   \n",
       "89  {'accuracy': 0.8704037027513499, 'f1': 0.87040...   \n",
       "90  {'accuracy': 0.8704037027513499, 'f1': 0.87040...   \n",
       "91  {'accuracy': 0.8704037027513499, 'f1': 0.87040...   \n",
       "\n",
       "                           dt  \n",
       "82 2021-10-31 15:15:53.598658  \n",
       "83 2021-10-31 15:15:53.604659  \n",
       "84 2021-11-02 17:55:51.215694  \n",
       "85 2021-11-02 17:57:26.394386  \n",
       "86 2021-11-02 17:58:54.500340  \n",
       "87 2021-11-02 17:59:31.394897  \n",
       "88 2021-11-02 18:17:35.343938  \n",
       "89 2021-11-02 18:21:11.048445  \n",
       "90 2021-11-02 18:32:00.591554  \n",
       "91 2021-11-02 18:46:50.150763  "
      ]
     },
     "execution_count": 184,
     "metadata": {},
     "output_type": "execute_result"
    }
   ],
   "source": [
    "results.tail(10)"
   ]
  },
  {
   "cell_type": "code",
   "execution_count": 197,
   "metadata": {},
   "outputs": [
    {
     "name": "stdout",
     "output_type": "stream",
     "text": [
      "{'accuracy': 0.8704037027513499, 'f1': 0.8704037027513499, 'roc_auc': 0.9814081955589208}\n",
      "{'accuracy': 0.8704037027513499, 'f1': 0.8704037027513499, 'roc_auc': 0.9814081955589208}\n",
      "{'accuracy': 0.8704037027513499, 'f1': 0.8704037027513499, 'roc_auc': 0.9814081955589208}\n",
      "{'accuracy': 0.8704037027513499, 'f1': 0.8704037027513499, 'roc_auc': 0.9814081955589208}\n",
      "{'accuracy': 0.8704037027513499, 'f1': 0.8704037027513499, 'roc_auc': 0.9814081955589208}\n",
      "{'accuracy': 0.9244021599382874, 'f1': 0.9244021599382874, 'roc_auc': 0.9909649223391407}\n",
      "{'accuracy': 0.9930573412188223, 'f1': 0.9930573412188223, 'roc_auc': 0.9992849874685312}\n",
      "{'accuracy': 0.9904859861146824, 'f1': 0.9904859861146824, 'roc_auc': 0.999333649513654}\n",
      "{'train_f1': 1.0, 'test_f1': 0.81027609626458, 'train_accuracy': 1.0, 'test_accuracy': 0.7055798405759836, 'train_roc_auc': 0.8482877803846502, 'test_roc_auc': 0.8482877803846502}\n",
      "{'train_f1': 1.0, 'test_f1': 0.8103321033210331, 'train_accuracy': 1.0, 'test_accuracy': 0.7058369760863975, 'train_roc_auc': 0.8483825171762558, 'test_roc_auc': 0.8483825171762558}\n"
     ]
    }
   ],
   "source": [
    "assess = results['assessment']\n",
    "for i in range(1,11):\n",
    "    print(assess.iloc[-i])"
   ]
  },
  {
   "cell_type": "code",
   "execution_count": 196,
   "metadata": {},
   "outputs": [
    {
     "name": "stdout",
     "output_type": "stream",
     "text": [
      "{'colsample_bytree': 0.7216075044125336, 'gamma': 1.0013385596743385, 'max_depth': 18.0, 'min_child_weight': 5.0, 'reg_alpha': 44.0, 'reg_lambda': 0.8563793621668802}\n",
      "{'colsample_bytree': 0.7171431608800939, 'gamma': 1.023172667372302, 'max_depth': 7.0, 'min_child_weight': 1.0, 'reg_alpha': 40.0, 'reg_lambda': 0.7688387883543518}\n",
      "{'colsample_bytree': 0.7791264989260955, 'gamma': 1.0119010250403686, 'max_depth': 3.0, 'min_child_weight': 9.0, 'reg_alpha': 42.0, 'reg_lambda': 0.44477613377914166}\n",
      "{'colsample_bytree': 0.6551331939334801, 'gamma': 1.9718932331231338, 'max_depth': 5.0, 'min_child_weight': 0.0, 'reg_alpha': 40.0, 'reg_lambda': 0.46003511133101127}\n",
      "{'hyperparameters': 'XGBClassifier defaults'}\n",
      "{'hyperparameters': 'XGBClassifier defaults'}\n",
      "{'hyperparameters': 'XGBClassifier defaults'}\n",
      "{'hyperparameters': 'XGBClassifier defaults'}\n",
      "{'n_estimators': 400}\n",
      "{'n_estimators': 380}\n"
     ]
    }
   ],
   "source": [
    "hyper = results['hyperparameters']\n",
    "for i in range(1,11):\n",
    "    print(hyper.iloc[-i])"
   ]
  },
  {
   "cell_type": "markdown",
   "metadata": {},
   "source": [
    "Ok, this is very clearly a problem:  the last five models trained have **exactly** the same accuracy, f1, and roc_auc; the hyperparameter values are distinct. In fact, they're quite different.  This is not plausible - something has gone wrong.  I don't think these hyperopt runs are saving the assessment scores that I intend, they're saving these values from the last run I conducted before using hyperopt.  I'm going to need to examine the Trials() objects."
   ]
  },
  {
   "cell_type": "code",
   "execution_count": 219,
   "metadata": {},
   "outputs": [
    {
     "data": {
      "text/plain": [
       "[{'loss': -0.6970943687323219, 'status': 'ok'},\n",
       " {'loss': -0.65183851889946, 'status': 'ok'},\n",
       " {'loss': -0.6376960658266907, 'status': 'ok'},\n",
       " {'loss': -0.7127796348675752, 'status': 'ok'},\n",
       " {'loss': -0.6186680380560555, 'status': 'ok'},\n",
       " {'loss': -0.6274106454101311, 'status': 'ok'},\n",
       " {'loss': -0.7094368732321933, 'status': 'ok'},\n",
       " {'loss': -0.6474672152224222, 'status': 'ok'},\n",
       " {'loss': -0.7001799948572898, 'status': 'ok'},\n",
       " {'loss': -0.6343533041913089, 'status': 'ok'},\n",
       " {'loss': -0.6603239907431216, 'status': 'ok'},\n",
       " {'loss': -0.6271535098997172, 'status': 'ok'},\n",
       " {'loss': -0.629210593983029, 'status': 'ok'},\n",
       " {'loss': -0.6880946258678323, 'status': 'ok'},\n",
       " {'loss': -0.6263821033684752, 'status': 'ok'},\n",
       " {'loss': -0.6361532527642068, 'status': 'ok'},\n",
       " {'loss': -0.6505528413473901, 'status': 'ok'},\n",
       " {'loss': -0.7009514013885317, 'status': 'ok'},\n",
       " {'loss': -0.6983800462843919, 'status': 'ok'},\n",
       " {'loss': -0.7045512985343276, 'status': 'ok'},\n",
       " {'loss': -0.6870660838261764, 'status': 'ok'},\n",
       " {'loss': -0.6878374903574184, 'status': 'ok'},\n",
       " {'loss': -0.7066083826176395, 'status': 'ok'},\n",
       " {'loss': -0.6914373875032142, 'status': 'ok'},\n",
       " {'loss': -0.6842375932116225, 'status': 'ok'},\n",
       " {'loss': -0.7120082283363333, 'status': 'ok'},\n",
       " {'loss': -0.7078940601697095, 'status': 'ok'},\n",
       " {'loss': -0.6968372332219079, 'status': 'ok'},\n",
       " {'loss': -0.6829519156595526, 'status': 'ok'},\n",
       " {'loss': -0.7030084854718437, 'status': 'ok'},\n",
       " {'loss': -0.629724865003857, 'status': 'ok'},\n",
       " {'loss': -0.7022370789406017, 'status': 'ok'},\n",
       " {'loss': -0.6644381589097454, 'status': 'ok'},\n",
       " {'loss': -0.7130367703779892, 'status': 'ok'},\n",
       " {'loss': -0.6880946258678323, 'status': 'ok'},\n",
       " {'loss': -0.6850089997428644, 'status': 'ok'},\n",
       " {'loss': -0.6582669066598097, 'status': 'ok'},\n",
       " {'loss': -0.7081511956801234, 'status': 'ok'},\n",
       " {'loss': -0.629724865003857, 'status': 'ok'},\n",
       " {'loss': -0.715350989971715, 'status': 'ok'},\n",
       " {'loss': -0.7120082283363333, 'status': 'ok'},\n",
       " {'loss': -0.7045512985343276, 'status': 'ok'},\n",
       " {'loss': -0.6590383131910517, 'status': 'ok'},\n",
       " {'loss': -0.672666495242993, 'status': 'ok'},\n",
       " {'loss': -0.7032656209822576, 'status': 'ok'},\n",
       " {'loss': -0.6981229107739779, 'status': 'ok'},\n",
       " {'loss': -0.6590383131910517, 'status': 'ok'},\n",
       " {'loss': -0.674209308305477, 'status': 'ok'},\n",
       " {'loss': -0.7091797377217793, 'status': 'ok'},\n",
       " {'loss': -0.6335818976600669, 'status': 'ok'},\n",
       " {'loss': -0.6279249164309592, 'status': 'ok'},\n",
       " {'loss': -0.6371817948058627, 'status': 'ok'},\n",
       " {'loss': -0.6896374389303163, 'status': 'ok'},\n",
       " {'loss': -0.7109796862946773, 'status': 'ok'},\n",
       " {'loss': -0.7006942658781178, 'status': 'ok'},\n",
       " {'loss': -0.6770377989200309, 'status': 'ok'},\n",
       " {'loss': -0.6711236821805091, 'status': 'ok'},\n",
       " {'loss': -0.6394960143995886, 'status': 'ok'},\n",
       " {'loss': -0.6862946772949344, 'status': 'ok'},\n",
       " {'loss': -0.7019799434301877, 'status': 'ok'},\n",
       " {'loss': -0.6572383646181538, 'status': 'ok'},\n",
       " {'loss': -0.6893803034199023, 'status': 'ok'},\n",
       " {'loss': -0.630239136024685, 'status': 'ok'},\n",
       " {'loss': -0.7027513499614296, 'status': 'ok'},\n",
       " {'loss': -0.7122653638467472, 'status': 'ok'},\n",
       " {'loss': -0.7089226022113654, 'status': 'ok'},\n",
       " {'loss': -0.7040370275134996, 'status': 'ok'},\n",
       " {'loss': -0.7009514013885317, 'status': 'ok'},\n",
       " {'loss': -0.7048084340447416, 'status': 'ok'},\n",
       " {'loss': -0.7094368732321933, 'status': 'ok'},\n",
       " {'loss': -0.714065312419645, 'status': 'ok'},\n",
       " {'loss': -0.7109796862946773, 'status': 'ok'},\n",
       " {'loss': -0.6991514528156338, 'status': 'ok'},\n",
       " {'loss': -0.6878374903574184, 'status': 'ok'},\n",
       " {'loss': -0.7081511956801234, 'status': 'ok'},\n",
       " {'loss': -0.7009514013885317, 'status': 'ok'},\n",
       " {'loss': -0.6852661352532785, 'status': 'ok'},\n",
       " {'loss': -0.7040370275134996, 'status': 'ok'},\n",
       " {'loss': -0.7094368732321933, 'status': 'ok'},\n",
       " {'loss': -0.6793520185137567, 'status': 'ok'},\n",
       " {'loss': -0.6855232707636925, 'status': 'ok'},\n",
       " {'loss': -0.6757521213679609, 'status': 'ok'},\n",
       " {'loss': -0.7009514013885317, 'status': 'ok'},\n",
       " {'loss': -0.7032656209822576, 'status': 'ok'},\n",
       " {'loss': -0.6999228593468758, 'status': 'ok'},\n",
       " {'loss': -0.6924659295448702, 'status': 'ok'},\n",
       " {'loss': -0.6909231164823862, 'status': 'ok'},\n",
       " {'loss': -0.6461815376703522, 'status': 'ok'},\n",
       " {'loss': -0.6865518128053484, 'status': 'ok'},\n",
       " {'loss': -0.6888660323990743, 'status': 'ok'},\n",
       " {'loss': -0.7099511442530214, 'status': 'ok'},\n",
       " {'loss': -0.6590383131910517, 'status': 'ok'},\n",
       " {'loss': -0.6986371817948058, 'status': 'ok'},\n",
       " {'loss': -0.695294420159424, 'status': 'ok'},\n",
       " {'loss': -0.6402674209308306, 'status': 'ok'},\n",
       " {'loss': -0.7071226536384675, 'status': 'ok'},\n",
       " {'loss': -0.7027513499614296, 'status': 'ok'},\n",
       " {'loss': -0.7091797377217793, 'status': 'ok'},\n",
       " {'loss': -0.7042941630239136, 'status': 'ok'},\n",
       " {'loss': -0.6870660838261764, 'status': 'ok'}]"
      ]
     },
     "execution_count": 219,
     "metadata": {},
     "output_type": "execute_result"
    }
   ],
   "source": [
    "trials.results"
   ]
  },
  {
   "cell_type": "code",
   "execution_count": 220,
   "metadata": {},
   "outputs": [
    {
     "data": {
      "text/plain": [
       "-0.715350989971715"
      ]
     },
     "execution_count": 220,
     "metadata": {},
     "output_type": "execute_result"
    }
   ],
   "source": [
    "trials.average_best_error()"
   ]
  },
  {
   "cell_type": "markdown",
   "metadata": {},
   "source": [
    "## Some concerns that seem pretty serious to me:\n",
    "1. Apparently, I can get the \"average_best_error()\" method returned for a Trials() object.  But this, apparently, is only going to give me the metric I'm returning as the loss function.  Can I incorporate other measures (accuracy, roc_auc) into the return that provides the .results attribute in Trials()?  Or is there some better, cleaner way to obtain the measures I want for the 'best hyperparameters' case?\n",
    "2. Of more practical concern: I was expecting the loss function to bounce around a little, but generally to trend toward some kind of minimum.  I don't see that **at all** in the above results - which makes me think that the problem isn't at all that max_evals is set too low.  (In some sandboxing, I found quite different results, but this was using hyperopt on simple algebraic functions of one variable.)  It really looks like the loss function is just bouncing around, as though hyperopt is just making shots in the dark.  I have to seriously question whether I would obtain even slightly consistent results if I were to repeat the optimization.\n",
    "3. If the average_best_error() provided above is correct, it corresponds to an F1 score of 0.7154.  This is mediocre at best, and, most troubling:  it's **substantially** lower than the F1 score (0.8704) for the corresponding XGBClassifier model that I ran using default hyperparameters - with no optimization of any kind.  Why would optimizing over a hyperparameter space give me WORSE results than using the defaults?\n",
    "4.  2 & 3 together suggest there is something wrong with this implementation of hyperopt; I've got to figure out what.  "
   ]
  },
  {
   "cell_type": "markdown",
   "metadata": {},
   "source": [
    "## MLP Classifier"
   ]
  },
  {
   "cell_type": "code",
   "execution_count": 136,
   "metadata": {},
   "outputs": [
    {
     "name": "stdout",
     "output_type": "stream",
     "text": [
      "MLPClassifier()\n",
      "Accuracy: 0.9928002057084083 F1: 0.9952436045764236\n"
     ]
    }
   ],
   "source": [
    "# I'm going to begin with a naive instance, using defaults.  MLPClassifier has a lot of hyperparameters.\n",
    "# Next try to apply hyperopt\n",
    "\n",
    "from sklearn.neural_network import MLPClassifier\n",
    "\n",
    "y = cu[dnacols]\n",
    "X = cu[codon_list]\n",
    "X_train, X_test, y_train, y_test = train_test_split(X, y, test_size=0.3, random_state=9091)\n",
    "\n",
    "mlp = MLPClassifier()\n",
    "mlp.fit(X_train, y_train)\n",
    "print(mlp)\n",
    "\n",
    "y_pred = mlp.predict(X_test)\n",
    "acc = accuracy_score(y_test, y_pred)\n",
    "f1 = f1_score(y_test, y_pred, average='micro')\n",
    "print(\"Accuracy:\", acc, \"F1:\", f1)\n"
   ]
  },
  {
   "cell_type": "code",
   "execution_count": 137,
   "metadata": {},
   "outputs": [
    {
     "data": {
      "text/plain": [
       "{'activation': 'relu',\n",
       " 'solver': 'adam',\n",
       " 'alpha': 0.0001,\n",
       " 'batch_size': 'auto',\n",
       " 'learning_rate': 'constant',\n",
       " 'learning_rate_init': 0.001,\n",
       " 'power_t': 0.5,\n",
       " 'max_iter': 200,\n",
       " 'loss': 'log_loss',\n",
       " 'hidden_layer_sizes': (100,),\n",
       " 'shuffle': True,\n",
       " 'random_state': None,\n",
       " 'tol': 0.0001,\n",
       " 'verbose': False,\n",
       " 'warm_start': False,\n",
       " 'momentum': 0.9,\n",
       " 'nesterovs_momentum': True,\n",
       " 'early_stopping': False,\n",
       " 'validation_fraction': 0.1,\n",
       " 'beta_1': 0.9,\n",
       " 'beta_2': 0.999,\n",
       " 'epsilon': 1e-08,\n",
       " 'n_iter_no_change': 10,\n",
       " 'max_fun': 15000,\n",
       " 'n_features_in_': 64,\n",
       " '_label_binarizer': LabelBinarizer(),\n",
       " 'classes_': array([0, 1, 2]),\n",
       " 'n_outputs_': 3,\n",
       " '_random_state': RandomState(MT19937) at 0x22C918A06A8,\n",
       " 'n_iter_': 116,\n",
       " 't_': 1052584,\n",
       " 'n_layers_': 3,\n",
       " 'out_activation_': 'logistic',\n",
       " 'coefs_': [array([[ 0.05723465,  0.00721495,  0.1727675 , ...,  0.07210188,\n",
       "           0.15823904,  0.11710234],\n",
       "         [ 0.18413282, -0.14306286,  0.42757171, ..., -0.48201121,\n",
       "           0.36486817,  0.33339406],\n",
       "         [-0.33046278, -0.15618905,  0.28651855, ..., -0.53374666,\n",
       "           0.34212993,  0.28175876],\n",
       "         ...,\n",
       "         [-0.45646799, -0.12742297, -0.04025821, ...,  0.01137665,\n",
       "           0.00548394, -0.07830894],\n",
       "         [-0.25964757, -0.07396154,  0.09846468, ..., -0.13221989,\n",
       "           0.05064972,  0.0480834 ],\n",
       "         [ 0.00264277, -0.21111437, -0.03837296, ..., -0.43090221,\n",
       "           0.0060353 ,  0.14207652]]),\n",
       "  array([[ 0.43561298,  0.1114126 , -0.70834262],\n",
       "         [-0.10944433, -0.23265955, -0.36787514],\n",
       "         [ 0.28440855, -0.28048727,  0.16545531],\n",
       "         [-0.10646342,  0.2653719 , -0.44659185],\n",
       "         [ 0.07947385,  0.1494687 , -0.57537036],\n",
       "         [-0.36745977,  0.37627744, -0.06895155],\n",
       "         [-0.39980609,  0.3209488 , -0.22274843],\n",
       "         [-0.20399545, -0.3369559 ,  0.28023765],\n",
       "         [-0.59937589, -0.27537638,  0.43916334],\n",
       "         [-0.10639831,  0.45593178, -0.45390994],\n",
       "         [ 0.29421701, -0.06243481,  0.19143403],\n",
       "         [ 0.03505504,  0.81278109, -0.55403841],\n",
       "         [ 0.04907142, -0.16429796, -0.22280118],\n",
       "         [-0.41466095,  0.24678196, -0.01779154],\n",
       "         [ 0.00872809, -0.34630396,  0.17141553],\n",
       "         [-0.26146389,  0.37500825, -0.34464675],\n",
       "         [-0.39907428,  0.29119567, -0.15317334],\n",
       "         [-0.74906073, -0.26866   ,  0.30712224],\n",
       "         [-0.34533493,  0.59470937, -0.12176846],\n",
       "         [ 0.46282328, -0.42025858,  0.15586306],\n",
       "         [-0.30161317,  0.86105259, -0.28922737],\n",
       "         [ 0.2966641 , -0.50485825, -0.06533373],\n",
       "         [ 0.15694379,  0.28131511, -0.06486974],\n",
       "         [-0.37746517,  0.52866491, -0.2516457 ],\n",
       "         [-0.77533173,  0.24748243,  0.61049842],\n",
       "         [-0.23550638, -0.3419871 ,  0.34062041],\n",
       "         [ 0.0324739 , -0.39773021,  0.36940554],\n",
       "         [-0.42165157,  0.00792113, -0.16596111],\n",
       "         [-0.07797244,  0.46197207, -0.4653399 ],\n",
       "         [ 0.27945209, -0.13571856,  0.07562243],\n",
       "         [ 0.35770112, -0.09785403, -0.70958421],\n",
       "         [-0.31869657,  0.39023706,  0.18792453],\n",
       "         [-0.40531498, -0.02843857,  0.47959334],\n",
       "         [ 0.0656785 ,  0.04966806,  0.35322642],\n",
       "         [-0.02740878,  0.37529239,  0.37035615],\n",
       "         [-0.2980418 ,  0.52748526,  0.18541304],\n",
       "         [-0.40138374,  0.14312436,  0.01885632],\n",
       "         [-0.2361154 ,  0.69913629,  0.14617273],\n",
       "         [ 0.21147584, -0.09746578, -0.19781064],\n",
       "         [-0.05314529, -0.37663585,  0.28911886],\n",
       "         [ 0.13500299,  0.31451064, -0.43030071],\n",
       "         [ 0.41254729, -0.12185961, -0.34181353],\n",
       "         [-0.54439894,  0.09862637,  0.28348894],\n",
       "         [-0.29480308,  0.28148434, -0.02615238],\n",
       "         [ 0.36619247, -0.49481184,  0.11153596],\n",
       "         [ 0.28705657, -0.37820841, -0.12781933],\n",
       "         [-0.60897498, -0.01888375,  0.282365  ],\n",
       "         [-0.58805599, -0.22974344,  0.48902867],\n",
       "         [-0.03566724, -0.55889949,  0.22286021],\n",
       "         [-0.40275762,  0.42834337, -0.15287104],\n",
       "         [-0.01145299,  0.37621663, -0.39227265],\n",
       "         [-0.52806261,  0.24241411,  0.29940781],\n",
       "         [-0.16331833,  0.39850413, -0.25716122],\n",
       "         [-0.56042364,  0.39198044,  0.13287774],\n",
       "         [-0.11158349,  0.28711596, -0.11147766],\n",
       "         [ 0.20897363,  0.01789395, -0.42173808],\n",
       "         [-0.25801996,  0.38066355, -0.17971228],\n",
       "         [ 0.0409854 ,  0.31107271, -0.4498017 ],\n",
       "         [-0.3148986 ,  0.60363059, -0.36777412],\n",
       "         [-0.08046374,  0.00643152, -0.43892833],\n",
       "         [-0.48700851,  0.26940355, -0.11351537],\n",
       "         [-0.27500036,  0.19384086, -0.45915924],\n",
       "         [-0.11420795, -0.09820806,  0.36267679],\n",
       "         [-0.04267035, -0.28918312,  0.02264556],\n",
       "         [-0.13935261, -0.02967745, -0.34854234],\n",
       "         [ 0.07774489, -0.31302663,  0.50339179],\n",
       "         [-0.53016028,  0.63628315, -0.16671551],\n",
       "         [-0.53740031,  0.29025769, -0.19064427],\n",
       "         [ 0.08922017,  0.06320592,  0.28110776],\n",
       "         [-0.19089877,  0.48776092, -0.70068168],\n",
       "         [-0.40794424, -0.48814146,  0.5012232 ],\n",
       "         [-0.59658776,  0.99496702, -0.22285523],\n",
       "         [ 0.34578139, -0.34738447, -0.06858556],\n",
       "         [ 0.22754824,  0.05886953, -0.51332766],\n",
       "         [ 0.37628008, -0.50260133, -0.32788631],\n",
       "         [ 0.29128249, -0.5082461 , -0.28758596],\n",
       "         [-0.36457205,  0.34165012, -0.09015023],\n",
       "         [-0.36095775,  0.1910462 , -0.2283843 ],\n",
       "         [ 0.15226616,  0.48467675, -0.11916284],\n",
       "         [-0.16775977, -0.39801072,  0.41724864],\n",
       "         [-0.26565853,  0.12940348, -0.57990643],\n",
       "         [ 0.29533513,  0.16626972, -0.22695808],\n",
       "         [-0.09449706,  0.75512706, -0.69241119],\n",
       "         [ 0.44363502, -0.11165866, -0.52891921],\n",
       "         [-0.01085603, -0.30491924,  0.23309569],\n",
       "         [ 0.08563334,  0.42404925, -0.48267669],\n",
       "         [ 0.02089934,  0.36431633, -0.01808283],\n",
       "         [ 0.04206503,  0.2341922 , -0.32502212],\n",
       "         [-0.28049576, -0.52112881,  0.44864799],\n",
       "         [-0.43118501, -0.07607366, -0.0881206 ],\n",
       "         [-0.36460659,  0.0501434 , -0.27456546],\n",
       "         [-0.30168585, -0.4188608 ,  0.3156602 ],\n",
       "         [-0.40493068,  0.35621913, -0.37722503],\n",
       "         [-0.34857865,  0.50047863, -0.3199938 ],\n",
       "         [-0.26969853,  0.48221442, -0.57850679],\n",
       "         [-0.00407924,  0.25470437, -0.40474119],\n",
       "         [-0.68605222, -0.28594763,  0.39609909],\n",
       "         [-0.55558897,  0.06743159, -0.46566006],\n",
       "         [ 0.08920181, -0.40316478,  0.29193536],\n",
       "         [-0.28164159, -0.38818465,  0.17239822]])],\n",
       " 'intercepts_': [array([-0.34851122,  0.15265796, -0.10330308,  0.34580618,  0.06083942,\n",
       "          0.34766747,  0.2840854 ,  0.0816984 ,  0.09552089,  0.44838456,\n",
       "         -0.02238266,  0.03831491, -0.12380748,  0.31443145, -0.00722319,\n",
       "          0.06720216,  0.24995738,  0.02525456,  0.33190432, -0.35946665,\n",
       "          0.59287227, -0.44877132, -0.06289447,  0.7928594 , -0.0293438 ,\n",
       "         -0.15503904, -0.14115653,  0.21197432,  0.28812915, -0.04804307,\n",
       "         -0.07331193,  0.25133677,  0.08645473,  0.04258033,  0.04564173,\n",
       "         -0.18802066,  0.4407379 ,  0.13056485, -0.13482333, -0.15309424,\n",
       "         -0.04954378, -0.2906163 ,  0.26601185,  0.2595776 , -0.28880625,\n",
       "         -0.0568905 ,  0.20472305,  0.03427666, -0.13976485,  0.2751689 ,\n",
       "          0.25563165,  0.35142565,  0.20651754,  0.5894124 ,  0.09303406,\n",
       "         -0.03008829,  0.16088725,  0.2783523 ,  0.27043   ,  0.46242016,\n",
       "          0.29666746,  0.2805731 ,  0.09826002,  0.1726893 ,  0.38344717,\n",
       "         -0.1473061 ,  0.36545863,  0.20689441, -0.00254126,  0.22763405,\n",
       "         -0.12453241,  0.18693919, -0.37738238, -0.27413943, -0.46727076,\n",
       "         -0.41504722,  0.30785438,  0.25760686,  0.03740256,  0.10227821,\n",
       "          0.2112363 , -0.17449062,  0.36228979, -0.57023993,  0.0559029 ,\n",
       "          0.38546497, -0.16040144,  0.17484273, -0.17618838, -0.00129588,\n",
       "          0.21612019,  0.33449355,  0.13419516,  0.15718912,  0.37984285,\n",
       "          0.32011691,  0.41174589,  0.20314311, -0.18675413,  0.13557254]),\n",
       "  array([-0.33718684, -0.05813129,  0.12996959])],\n",
       " 'loss_curve_': [0.9736709968718492,\n",
       "  0.2690704467122413,\n",
       "  0.15666887315130273,\n",
       "  0.11350264411414901,\n",
       "  0.09182885076705616,\n",
       "  0.07807805281444045,\n",
       "  0.06902225269233148,\n",
       "  0.0622728080242811,\n",
       "  0.056732399899192966,\n",
       "  0.05250916135903228,\n",
       "  0.04867233369844966,\n",
       "  0.04542372271299425,\n",
       "  0.04266048629231022,\n",
       "  0.040018994418403425,\n",
       "  0.03794199087981122,\n",
       "  0.035968812284562064,\n",
       "  0.034290168074333875,\n",
       "  0.03205742388576268,\n",
       "  0.030989822589056797,\n",
       "  0.029254047260049473,\n",
       "  0.028725940011069016,\n",
       "  0.02715391419335065,\n",
       "  0.02575030773687685,\n",
       "  0.025134304408001955,\n",
       "  0.024110630442029657,\n",
       "  0.02353522831932403,\n",
       "  0.022795488829744,\n",
       "  0.02128203049496574,\n",
       "  0.020717980439927848,\n",
       "  0.020244450146023024,\n",
       "  0.019188523726152432,\n",
       "  0.018929666007523983,\n",
       "  0.018571671552076764,\n",
       "  0.017602014852504354,\n",
       "  0.017138373427099222,\n",
       "  0.016750763528535117,\n",
       "  0.015888073151098255,\n",
       "  0.015391633870191433,\n",
       "  0.015257660188348236,\n",
       "  0.014730191274983326,\n",
       "  0.014265708403804003,\n",
       "  0.014019665936833698,\n",
       "  0.01340208963091757,\n",
       "  0.013242877909619966,\n",
       "  0.012538687251703514,\n",
       "  0.012721281477014568,\n",
       "  0.011956734794791745,\n",
       "  0.01163472332196592,\n",
       "  0.011535302789498363,\n",
       "  0.011053499445053088,\n",
       "  0.0108990480998232,\n",
       "  0.0106712978297315,\n",
       "  0.010243423877644528,\n",
       "  0.009894993277244689,\n",
       "  0.00959733342333393,\n",
       "  0.009378722215584036,\n",
       "  0.009123374369103543,\n",
       "  0.009539922894971074,\n",
       "  0.008719346894973305,\n",
       "  0.008333961189091273,\n",
       "  0.0085271650809609,\n",
       "  0.008178006204317892,\n",
       "  0.007901124461671426,\n",
       "  0.00787344487420419,\n",
       "  0.007469597588036269,\n",
       "  0.007360206918240095,\n",
       "  0.007378397118043854,\n",
       "  0.00711198367163895,\n",
       "  0.006673100503123811,\n",
       "  0.006367681185015769,\n",
       "  0.006441564493847619,\n",
       "  0.006242862565619746,\n",
       "  0.006212159281360339,\n",
       "  0.006193376229456324,\n",
       "  0.005736120366666129,\n",
       "  0.005474934224382279,\n",
       "  0.005334648723170355,\n",
       "  0.005214769414411798,\n",
       "  0.0051236850666521025,\n",
       "  0.005208029313674229,\n",
       "  0.005243520187580379,\n",
       "  0.00470522265668106,\n",
       "  0.004808022482713899,\n",
       "  0.0046846558455648805,\n",
       "  0.004551163751603177,\n",
       "  0.004366415422728575,\n",
       "  0.004331185448416143,\n",
       "  0.004551100345388491,\n",
       "  0.004351505163496611,\n",
       "  0.004061896634103815,\n",
       "  0.0037512774595337872,\n",
       "  0.0036866354679456577,\n",
       "  0.003721946982988612,\n",
       "  0.003436739776482694,\n",
       "  0.0034685757368776013,\n",
       "  0.003468311113877714,\n",
       "  0.0033354576860984094,\n",
       "  0.003534142909388459,\n",
       "  0.0032899006416098023,\n",
       "  0.003231278805954953,\n",
       "  0.0031474051783826995,\n",
       "  0.003351720968266318,\n",
       "  0.00307221920372236,\n",
       "  0.0032149905005036165,\n",
       "  0.002727613702528698,\n",
       "  0.003200586296694146,\n",
       "  0.002819249186240373,\n",
       "  0.002835682476629131,\n",
       "  0.0027019675554086167,\n",
       "  0.002728102749113531,\n",
       "  0.0028932803764090986,\n",
       "  0.002613532735397089,\n",
       "  0.0031445305643558875,\n",
       "  0.002691571831290433,\n",
       "  0.0030097245480287835,\n",
       "  0.002737663718249548],\n",
       " '_no_improvement_count': 11,\n",
       " 'best_loss_': 0.002613532735397089,\n",
       " '_optimizer': <sklearn.neural_network._stochastic_optimizers.AdamOptimizer at 0x22c9feb5788>,\n",
       " 'loss_': 0.002737663718249548}"
      ]
     },
     "execution_count": 137,
     "metadata": {},
     "output_type": "execute_result"
    }
   ],
   "source": [
    "mlp.__dict__\n"
   ]
  },
  {
   "cell_type": "markdown",
   "metadata": {},
   "source": [
    "Obviously there's a lot to explore in the MLPClassifier object; I need to read a lot more documentation.  Let's see if I can implement hyperopt over some of the hyperparameter space."
   ]
  },
  {
   "cell_type": "code",
   "execution_count": 150,
   "metadata": {},
   "outputs": [
    {
     "name": "stdout",
     "output_type": "stream",
     "text": [
      "F1 SCORE:                                              \n",
      "0.9951144253021342                                     \n",
      "F1 SCORE:                                                                         \n",
      "0.9953715608125482                                                                \n",
      "F1 SCORE:                                                                         \n",
      "0.9948572897917203                                                                \n",
      "F1 SCORE:                                                                         \n",
      "0.9966572383646182                                                                \n",
      "F1 SCORE:                                                                         \n",
      "0.9956286963229622                                                                \n",
      "F1 SCORE:                                                                         \n",
      "0.9956286963229622                                                                \n",
      "F1 SCORE:                                                                         \n",
      "0.9964001028542042                                                                \n",
      "F1 SCORE:                                                                         \n",
      "0.9925430701979944                                                                \n",
      "F1 SCORE:                                                                         \n",
      "0.9951144253021342                                                                \n",
      "F1 SCORE:                                                                         \n",
      "0.9966572383646182                                                                \n",
      "F1 SCORE:                                                                          \n",
      "0.9964001028542042                                                                 \n",
      "F1 SCORE:                                                                          \n",
      "0.9953715608125482                                                                 \n",
      "F1 SCORE:                                                                          \n",
      "0.9948572897917203                                                                 \n",
      "F1 SCORE:                                                                          \n",
      "0.9946001542813062                                                                 \n",
      "F1 SCORE:                                                                          \n",
      "0.9940858832604783                                                                 \n",
      "F1 SCORE:                                                                          \n",
      "0.9951144253021342                                                                 \n",
      "F1 SCORE:                                                                          \n",
      "0.9943430187708923                                                                 \n",
      "F1 SCORE:                                                                          \n",
      "0.9946001542813062                                                                 \n",
      "F1 SCORE:                                                                          \n",
      "0.9961429673437902                                                                 \n",
      "F1 SCORE:                                                                          \n",
      "0.9956286963229622                                                                 \n",
      "F1 SCORE:                                                                          \n",
      "0.9969143738750321                                                                 \n",
      "F1 SCORE:                                                                          \n",
      "0.9961429673437902                                                                 \n",
      "F1 SCORE:                                                                          \n",
      "0.9961429673437902                                                                 \n",
      "F1 SCORE:                                                                          \n",
      "0.9953715608125482                                                                 \n",
      "F1 SCORE:                                                                          \n",
      "0.9951144253021342                                                                 \n",
      "F1 SCORE:                                                                          \n",
      "0.9966572383646182                                                                 \n",
      "F1 SCORE:                                                                          \n",
      "0.9969143738750321                                                                 \n",
      "F1 SCORE:                                                                          \n",
      "0.9951144253021342                                                                 \n",
      "F1 SCORE:                                                                          \n",
      "0.9974286448958601                                                                 \n",
      "F1 SCORE:                                                                          \n",
      "0.9958858318333762                                                                 \n",
      "F1 SCORE:                                                                          \n",
      "0.9966572383646182                                                                 \n",
      "F1 SCORE:                                                                          \n",
      "0.9969143738750321                                                                 \n",
      "F1 SCORE:                                                                          \n",
      "0.9948572897917203                                                                 \n",
      "F1 SCORE:                                                                          \n",
      "0.9964001028542042                                                                 \n",
      "F1 SCORE:                                                                          \n",
      "0.9922859346875803                                                                 \n",
      "F1 SCORE:                                                                          \n",
      "0.9953715608125482                                                                 \n",
      "F1 SCORE:                                                                          \n",
      "0.9969143738750321                                                                 \n",
      "F1 SCORE:                                                                          \n",
      "0.9943430187708923                                                                 \n",
      "F1 SCORE:                                                                          \n",
      "0.9971715093854461                                                                 \n",
      "F1 SCORE:                                                                          \n",
      "0.9969143738750321                                                                 \n",
      "F1 SCORE:                                                                          \n",
      "0.9961429673437902                                                                 \n",
      "F1 SCORE:                                                                          \n",
      "0.9951144253021342                                                                 \n",
      "F1 SCORE:                                                                          \n",
      "0.9946001542813062                                                                 \n",
      "F1 SCORE:                                                                          \n",
      "0.9946001542813062                                                                 \n",
      "F1 SCORE:                                                                          \n",
      "0.9966572383646182                                                                 \n",
      "F1 SCORE:                                                                          \n",
      "0.9961429673437902                                                                 \n",
      "F1 SCORE:                                                                          \n",
      "0.9948572897917203                                                                 \n",
      "F1 SCORE:                                                                          \n",
      "0.9940858832604783                                                                 \n",
      "F1 SCORE:                                                                          \n",
      "0.9969143738750321                                                                 \n",
      "F1 SCORE:                                                                          \n",
      "0.9953715608125482                                                                 \n",
      "F1 SCORE:                                                                          \n",
      "0.9948572897917203                                                                 \n",
      "F1 SCORE:                                                                          \n",
      "0.9948572897917203                                                                 \n",
      "F1 SCORE:                                                                          \n",
      "0.9969143738750321                                                                 \n",
      "F1 SCORE:                                                                          \n",
      "0.9951144253021342                                                                 \n",
      "F1 SCORE:                                                                          \n",
      "0.9956286963229622                                                                 \n",
      "F1 SCORE:                                                                          \n",
      "0.9961429673437902                                                                 \n",
      "F1 SCORE:                                                                          \n",
      "0.9922859346875803                                                                 \n",
      " 57%|█████▋    | 57/100 [09:03<12:29, 17.44s/trial, best loss: -0.9974286448958601]"
     ]
    },
    {
     "name": "stderr",
     "output_type": "stream",
     "text": [
      "C:\\Users\\null\\Anaconda3\\lib\\site-packages\\sklearn\\neural_network\\_multilayer_perceptron.py:617: ConvergenceWarning: Stochastic Optimizer: Maximum iterations (200) reached and the optimization hasn't converged yet.\n",
      "  % self.max_iter, ConvergenceWarning)\n",
      "\n"
     ]
    },
    {
     "name": "stdout",
     "output_type": "stream",
     "text": [
      "F1 SCORE:                                                                          \n",
      "0.9964001028542042                                                                 \n",
      "F1 SCORE:                                                                          \n",
      "0.9958858318333762                                                                 \n",
      "F1 SCORE:                                                                          \n",
      "0.9953715608125482                                                                 \n",
      "F1 SCORE:                                                                          \n",
      "0.9956286963229622                                                                 \n",
      "F1 SCORE:                                                                          \n",
      "0.9946001542813062                                                                 \n",
      "F1 SCORE:                                                                          \n",
      "0.9958858318333762                                                                 \n",
      "F1 SCORE:                                                                          \n",
      "0.9958858318333762                                                                 \n",
      "F1 SCORE:                                                                          \n",
      "0.9946001542813062                                                                 \n",
      "F1 SCORE:                                                                          \n",
      "0.9971715093854461                                                                 \n",
      "F1 SCORE:                                                                          \n",
      "0.9958858318333762                                                                 \n",
      "F1 SCORE:                                                                          \n",
      "0.9956286963229622                                                                 \n",
      "F1 SCORE:                                                                          \n",
      "0.9946001542813062                                                                 \n",
      "F1 SCORE:                                                                          \n",
      "0.9956286963229622                                                                 \n",
      "F1 SCORE:                                                                          \n",
      "0.9966572383646182                                                                 \n",
      "F1 SCORE:                                                                          \n",
      "0.9964001028542042                                                                 \n",
      "F1 SCORE:                                                                          \n",
      "0.9933144767292363                                                                 \n",
      "F1 SCORE:                                                                          \n",
      "0.9966572383646182                                                                 \n",
      "F1 SCORE:                                                                          \n",
      "0.9925430701979944                                                                 \n",
      "F1 SCORE:                                                                          \n",
      "0.9969143738750321                                                                 \n",
      "F1 SCORE:                                                                          \n",
      "0.9961429673437902                                                                 \n",
      "F1 SCORE:                                                                          \n",
      "0.9943430187708923                                                                 \n",
      "F1 SCORE:                                                                          \n",
      "0.9971715093854461                                                                 \n",
      "F1 SCORE:                                                                          \n",
      "0.9943430187708923                                                                 \n",
      "F1 SCORE:                                                                          \n",
      "0.9948572897917203                                                                 \n",
      "F1 SCORE:                                                                          \n",
      "0.9956286963229622                                                                 \n",
      "F1 SCORE:                                                                          \n",
      "0.9946001542813062                                                                 \n",
      "F1 SCORE:                                                                          \n",
      "0.9948572897917203                                                                 \n",
      "F1 SCORE:                                                                          \n",
      "0.9958858318333762                                                                 \n",
      "F1 SCORE:                                                                          \n",
      "0.9889431730521985                                                                 \n",
      "F1 SCORE:                                                                          \n",
      "0.9969143738750321                                                                 \n",
      "F1 SCORE:                                                                          \n",
      "0.9961429673437902                                                                 \n",
      "F1 SCORE:                                                                          \n",
      "0.9946001542813062                                                                 \n",
      "F1 SCORE:                                                                          \n",
      "0.9951144253021342                                                                 \n",
      "F1 SCORE:                                                                          \n",
      "0.9964001028542042                                                                 \n",
      "F1 SCORE:                                                                          \n",
      "0.9951144253021342                                                                 \n",
      "F1 SCORE:                                                                          \n",
      "0.9958858318333762                                                                 \n",
      "F1 SCORE:                                                                          \n",
      "0.9961429673437902                                                                 \n",
      "F1 SCORE:                                                                          \n",
      "0.9953715608125482                                                                 \n",
      "F1 SCORE:                                                                          \n",
      "0.9961429673437902                                                                 \n",
      "F1 SCORE:                                                                          \n",
      "0.9946001542813062                                                                 \n",
      "F1 SCORE:                                                                          \n",
      "0.9938287477500642                                                                 \n",
      "F1 SCORE:                                                                          \n",
      "0.9958858318333762                                                                 \n",
      "F1 SCORE:                                                                          \n",
      "0.9958858318333762                                                                 \n",
      "100%|██████████| 100/100 [15:09<00:00,  9.10s/trial, best loss: -0.9974286448958601]\n",
      "The best hyperparameters are :  \n",
      "\n",
      "{'activation': 0, 'hidden_layer_sizes': 115.0, 'learning_rate_init': 0.005853263033198734}\n"
     ]
    }
   ],
   "source": [
    "y = cu['DNAtype']\n",
    "X = cu[codon_list]\n",
    "X_train, X_test, y_train, y_test = train_test_split(X, y, test_size=0.3, random_state=6919)\n",
    "\n",
    "space={'hidden_layer_sizes': hp.quniform(\"hidden_layer_sizes\", 50, 150, 1),\n",
    "       'activation': hp.choice('activation', ['relu', 'tanh', 'logistic']),\n",
    "        'learning_rate_init': hp.uniform('learning_rate_init', 0.0001,0.01)\n",
    "    }\n",
    "\n",
    "def objective(space):\n",
    "    model=MLPClassifier(\n",
    "                    hidden_layer_sizes = int(space['hidden_layer_sizes']),\n",
    "                    activation = space['activation'],\n",
    "                    learning_rate_init = space['learning_rate_init'])\n",
    "    \n",
    "    evaluation = [( X_train, y_train), ( X_test, y_test)]\n",
    "    \n",
    "    model.fit(X_train, y_train)\n",
    "    \n",
    "\n",
    "    y_pred = model.predict(X_test)\n",
    "    f1 = f1_score(y_test, y_pred, average='micro')\n",
    "    print (\"F1 SCORE:\", f1)\n",
    "    return {'loss': -f1, 'status': STATUS_OK }\n",
    "\n",
    "trials = Trials()\n",
    "\n",
    "best_hyperparams = hyperopt.fmin(fn = objective,\n",
    "                        space = space,\n",
    "                        algo = hyperopt.tpe.suggest,\n",
    "                        max_evals = 100,\n",
    "                        trials = trials)\n",
    "\n",
    "print(\"The best hyperparameters are : \",\"\\n\")\n",
    "print(best_hyperparams)\n"
   ]
  },
  {
   "cell_type": "markdown",
   "metadata": {},
   "source": [
    "That took a shockingly long time to run, and I was only including three hyperparameters in the space.  Perhaps more troubling, the 'best hyperparameters' included a value of zero for 'activation' - this isn't one of the values I provided in the space dictionary, NOR is it an admissible parameter value for MLPClassifier, so this is just baffling. It's interesting that absolutely all of the F1 scores listed are very high, regardless of the values chosen by hyperopt.   I'm also uncertain how to isolate the 'best hyperparameters' model so as to get measures like its accuracy and F1, make and assess predictions based on new data, etc.  However, for now, I'm going to see how this works out using amino_list as predictors."
   ]
  },
  {
   "cell_type": "code",
   "execution_count": 151,
   "metadata": {},
   "outputs": [
    {
     "name": "stdout",
     "output_type": "stream",
     "text": [
      "F1 SCORE:                                              \n",
      "0.9930573412188223                                     \n",
      "  1%|          | 1/100 [00:27<44:51, 27.19s/trial, best loss: -0.9930573412188223]"
     ]
    },
    {
     "name": "stderr",
     "output_type": "stream",
     "text": [
      "C:\\Users\\null\\Anaconda3\\lib\\site-packages\\sklearn\\neural_network\\_multilayer_perceptron.py:617: ConvergenceWarning: Stochastic Optimizer: Maximum iterations (200) reached and the optimization hasn't converged yet.\n",
      "  % self.max_iter, ConvergenceWarning)\n",
      "\n"
     ]
    },
    {
     "name": "stdout",
     "output_type": "stream",
     "text": [
      "F1 SCORE:                                                                         \n",
      "0.9920287991771664                                                                \n",
      "F1 SCORE:                                                                         \n",
      "0.9910002571355104                                                                \n",
      "F1 SCORE:                                                                         \n",
      "0.9910002571355104                                                                \n",
      "F1 SCORE:                                                                         \n",
      "0.9946001542813062                                                                \n",
      "F1 SCORE:                                                                         \n",
      "0.9922859346875803                                                                \n",
      "F1 SCORE:                                                                         \n",
      "0.9912573926459244                                                                \n",
      "F1 SCORE:                                                                         \n",
      "0.9897145795834404                                                                \n",
      "F1 SCORE:                                                                         \n",
      "0.9940858832604783                                                                \n",
      "F1 SCORE:                                                                         \n",
      "0.9922859346875803                                                                \n",
      " 10%|█         | 10/100 [02:30<25:54, 17.27s/trial, best loss: -0.9946001542813062]"
     ]
    },
    {
     "name": "stderr",
     "output_type": "stream",
     "text": [
      "C:\\Users\\null\\Anaconda3\\lib\\site-packages\\sklearn\\neural_network\\_multilayer_perceptron.py:617: ConvergenceWarning: Stochastic Optimizer: Maximum iterations (200) reached and the optimization hasn't converged yet.\n",
      "  % self.max_iter, ConvergenceWarning)\n",
      "\n"
     ]
    },
    {
     "name": "stdout",
     "output_type": "stream",
     "text": [
      "F1 SCORE:                                                                          \n",
      "0.9930573412188223                                                                 \n",
      "F1 SCORE:                                                                          \n",
      "0.9917716636667524                                                                 \n",
      "F1 SCORE:                                                                          \n",
      "0.9920287991771664                                                                 \n",
      "F1 SCORE:                                                                          \n",
      "0.9917716636667524                                                                 \n",
      "F1 SCORE:                                                                          \n",
      "0.9904859861146824                                                                 \n",
      "F1 SCORE:                                                                          \n",
      "0.9925430701979944                                                                 \n",
      "F1 SCORE:                                                                          \n",
      "0.9910002571355104                                                                 \n",
      "F1 SCORE:                                                                          \n",
      "0.9922859346875803                                                                 \n",
      "F1 SCORE:                                                                          \n",
      "0.9904859861146824                                                                 \n",
      "F1 SCORE:                                                                          \n",
      "0.9928002057084083                                                                 \n",
      "F1 SCORE:                                                                          \n",
      "0.9933144767292363                                                                 \n",
      "F1 SCORE:                                                                          \n",
      "0.9922859346875803                                                                 \n",
      "F1 SCORE:                                                                          \n",
      "0.9953715608125482                                                                 \n",
      "F1 SCORE:                                                                          \n",
      "0.9935716122396503                                                                 \n",
      "F1 SCORE:                                                                          \n",
      "0.9930573412188223                                                                 \n",
      "F1 SCORE:                                                                          \n",
      "0.9928002057084083                                                                 \n",
      "F1 SCORE:                                                                          \n",
      "0.977372075083569                                                                  \n",
      " 27%|██▋       | 27/100 [06:43<24:21, 20.02s/trial, best loss: -0.9953715608125482]"
     ]
    },
    {
     "name": "stderr",
     "output_type": "stream",
     "text": [
      "C:\\Users\\null\\Anaconda3\\lib\\site-packages\\sklearn\\neural_network\\_multilayer_perceptron.py:617: ConvergenceWarning: Stochastic Optimizer: Maximum iterations (200) reached and the optimization hasn't converged yet.\n",
      "  % self.max_iter, ConvergenceWarning)\n",
      "\n"
     ]
    },
    {
     "name": "stdout",
     "output_type": "stream",
     "text": [
      "F1 SCORE:                                                                          \n",
      "0.9940858832604783                                                                 \n",
      "F1 SCORE:                                                                          \n",
      "0.9938287477500642                                                                 \n",
      "F1 SCORE:                                                                          \n",
      "0.9930573412188223                                                                 \n",
      "F1 SCORE:                                                                          \n",
      "0.9928002057084083                                                                 \n",
      "F1 SCORE:                                                                          \n",
      "0.9935716122396503                                                                 \n",
      "F1 SCORE:                                                                          \n",
      "0.9938287477500642                                                                 \n",
      "F1 SCORE:                                                                          \n",
      "0.9917716636667524                                                                 \n",
      "F1 SCORE:                                                                          \n",
      "0.9943430187708923                                                                 \n",
      "F1 SCORE:                                                                          \n",
      "0.9943430187708923                                                                 \n",
      "F1 SCORE:                                                                          \n",
      "0.9940858832604783                                                                 \n",
      "F1 SCORE:                                                                          \n",
      "0.9940858832604783                                                                 \n",
      "F1 SCORE:                                                                          \n",
      "0.9938287477500642                                                                 \n",
      "F1 SCORE:                                                                          \n",
      "0.9940858832604783                                                                 \n",
      "F1 SCORE:                                                                          \n",
      "0.9938287477500642                                                                 \n",
      "F1 SCORE:                                                                          \n",
      "0.9928002057084083                                                                 \n",
      "F1 SCORE:                                                                          \n",
      "0.9948572897917203                                                                 \n",
      "F1 SCORE:                                                                          \n",
      "0.9925430701979944                                                                 \n",
      "F1 SCORE:                                                                          \n",
      "0.9922859346875803                                                                 \n",
      "F1 SCORE:                                                                          \n",
      "0.9935716122396503                                                                 \n",
      "F1 SCORE:                                                                          \n",
      "0.9935716122396503                                                                 \n",
      "F1 SCORE:                                                                          \n",
      "0.9899717150938545                                                                 \n",
      "F1 SCORE:                                                                          \n",
      "0.9935716122396503                                                                 \n",
      "F1 SCORE:                                                                          \n",
      "0.9917716636667524                                                                 \n",
      "F1 SCORE:                                                                          \n",
      "0.9922859346875803                                                                 \n",
      "F1 SCORE:                                                                          \n",
      "0.9928002057084083                                                                 \n",
      "F1 SCORE:                                                                          \n",
      "0.9928002057084083                                                                 \n",
      "F1 SCORE:                                                                          \n",
      "0.9899717150938545                                                                 \n",
      "F1 SCORE:                                                                          \n",
      "0.9938287477500642                                                                 \n",
      "F1 SCORE:                                                                          \n",
      "0.9940858832604783                                                                 \n",
      "F1 SCORE:                                                                          \n",
      "0.9938287477500642                                                                 \n",
      "F1 SCORE:                                                                          \n",
      "0.9940858832604783                                                                 \n",
      "F1 SCORE:                                                                          \n",
      "0.9874003599897145                                                                 \n",
      "F1 SCORE:                                                                          \n",
      "0.9922859346875803                                                                 \n",
      "F1 SCORE:                                                                          \n",
      "0.9943430187708923                                                                 \n",
      "F1 SCORE:                                                                          \n",
      "0.9938287477500642                                                                 \n",
      "F1 SCORE:                                                                          \n",
      "0.9938287477500642                                                                 \n",
      "F1 SCORE:                                                                          \n",
      "0.9915145281563383                                                                 \n",
      "F1 SCORE:                                                                          \n",
      "0.978400617125225                                                                  \n",
      " 65%|██████▌   | 65/100 [16:42<09:48, 16.81s/trial, best loss: -0.9953715608125482]"
     ]
    },
    {
     "name": "stderr",
     "output_type": "stream",
     "text": [
      "C:\\Users\\null\\Anaconda3\\lib\\site-packages\\sklearn\\neural_network\\_multilayer_perceptron.py:617: ConvergenceWarning: Stochastic Optimizer: Maximum iterations (200) reached and the optimization hasn't converged yet.\n",
      "  % self.max_iter, ConvergenceWarning)\n",
      "\n"
     ]
    },
    {
     "name": "stdout",
     "output_type": "stream",
     "text": [
      "F1 SCORE:                                                                          \n",
      "0.9938287477500642                                                                 \n",
      "F1 SCORE:                                                                          \n",
      "0.9935716122396503                                                                 \n",
      "F1 SCORE:                                                                          \n",
      "0.9938287477500642                                                                 \n",
      "F1 SCORE:                                                                          \n",
      "0.9933144767292363                                                                 \n",
      "F1 SCORE:                                                                          \n",
      "0.9946001542813062                                                                 \n",
      "F1 SCORE:                                                                          \n",
      "0.9940858832604783                                                                 \n",
      "F1 SCORE:                                                                          \n",
      "0.9938287477500642                                                                 \n",
      "F1 SCORE:                                                                          \n",
      "0.9933144767292363                                                                 \n",
      "F1 SCORE:                                                                          \n",
      "0.9935716122396503                                                                 \n",
      "F1 SCORE:                                                                          \n",
      "0.9935716122396503                                                                 \n",
      "F1 SCORE:                                                                          \n",
      "0.9938287477500642                                                                 \n",
      "F1 SCORE:                                                                          \n",
      "0.9933144767292363                                                                 \n",
      "F1 SCORE:                                                                          \n",
      "0.9933144767292363                                                                 \n",
      "F1 SCORE:                                                                          \n",
      "0.9948572897917203                                                                 \n",
      "F1 SCORE:                                                                          \n",
      "0.9920287991771664                                                                 \n",
      "F1 SCORE:                                                                          \n",
      "0.9935716122396503                                                                 \n",
      "F1 SCORE:                                                                          \n",
      "0.9935716122396503                                                                 \n",
      "F1 SCORE:                                                                          \n",
      "0.9930573412188223                                                                 \n",
      "F1 SCORE:                                                                          \n",
      "0.9938287477500642                                                                 \n",
      "F1 SCORE:                                                                          \n",
      "0.9904859861146824                                                                 \n",
      "F1 SCORE:                                                                          \n",
      "0.9938287477500642                                                                 \n",
      "F1 SCORE:                                                                          \n",
      "0.9943430187708923                                                                 \n",
      "F1 SCORE:                                                                          \n",
      "0.9935716122396503                                                                 \n",
      "F1 SCORE:                                                                          \n",
      "0.9935716122396503                                                                 \n",
      "F1 SCORE:                                                                          \n",
      "0.9925430701979944                                                                 \n",
      "F1 SCORE:                                                                          \n",
      "0.9925430701979944                                                                 \n",
      "F1 SCORE:                                                                          \n",
      "0.9922859346875803                                                                 \n",
      "F1 SCORE:                                                                          \n",
      "0.9935716122396503                                                                 \n",
      "F1 SCORE:                                                                          \n",
      "0.9948572897917203                                                                 \n",
      "F1 SCORE:                                                                          \n",
      "0.9917716636667524                                                                 \n",
      "F1 SCORE:                                                                          \n",
      "0.9917716636667524                                                                 \n",
      "F1 SCORE:                                                                          \n",
      "0.9925430701979944                                                                 \n",
      "F1 SCORE:                                                                          \n",
      "0.9935716122396503                                                                 \n",
      "F1 SCORE:                                                                          \n",
      "0.9935716122396503                                                                 \n",
      "F1 SCORE:                                                                          \n",
      "0.9928002057084083                                                                 \n",
      "100%|██████████| 100/100 [24:03<00:00, 14.44s/trial, best loss: -0.9953715608125482]\n",
      "The best hyperparameters are :  \n",
      "\n",
      "{'activation': 2, 'hidden_layer_sizes': 138.0, 'learning_rate_init': 0.007778381853578672}\n"
     ]
    }
   ],
   "source": [
    "X = cu[amino_list]\n",
    "X_train, X_test, y_train, y_test = train_test_split(X, y, test_size=0.3, random_state=4092)\n",
    "\n",
    "space={'hidden_layer_sizes': hp.quniform(\"hidden_layer_sizes\", 50, 150, 1),\n",
    "       'activation': hp.choice('activation', ['relu', 'tanh', 'logistic']),\n",
    "        'learning_rate_init': hp.uniform('learning_rate_init', 0.0001,0.01)\n",
    "    }\n",
    "\n",
    "def objective(space):\n",
    "    model=MLPClassifier(\n",
    "                    hidden_layer_sizes = int(space['hidden_layer_sizes']),\n",
    "                    activation = space['activation'],\n",
    "                    learning_rate_init = space['learning_rate_init'])\n",
    "    \n",
    "    evaluation = [( X_train, y_train), ( X_test, y_test)]\n",
    "    \n",
    "    model.fit(X_train, y_train)\n",
    "    \n",
    "\n",
    "    y_pred = model.predict(X_test)\n",
    "    f1 = f1_score(y_test, y_pred, average='micro')\n",
    "    print (\"F1 SCORE:\", f1)\n",
    "    return {'loss': -f1, 'status': STATUS_OK }\n",
    "\n",
    "trials = Trials()\n",
    "\n",
    "best_hyperparams = hyperopt.fmin(fn = objective,\n",
    "                        space = space,\n",
    "                        algo = hyperopt.tpe.suggest,\n",
    "                        max_evals = 100,\n",
    "                        trials = trials)\n",
    "\n",
    "print(\"The best hyperparameters are : \",\"\\n\")\n",
    "print(best_hyperparams)\n"
   ]
  },
  {
   "cell_type": "markdown",
   "metadata": {},
   "source": [
    "Again: the F1 scores are all very high and don't vary much, which is somewhat suspicious.  Also, the 'activation' hyperparameter is again yielding an invalid value.  And the optimization is taking a very long time to execute.  Worse, there are other relevant hyperparameters that should be tuned - I need to seek out  a little more information and make sure that nothing's terribly wrong here.  (Or is it normal to get F1 values this high with the MLPClassifier?)"
   ]
  },
  {
   "cell_type": "markdown",
   "metadata": {},
   "source": [
    "## Naive Bayes"
   ]
  },
  {
   "cell_type": "markdown",
   "metadata": {},
   "source": [
    "Note before beginning that all naive Bayes models make the assumption of independence among predictor variables.  **We can know to a certainty that this is not the case here**, but, looking at examples of successful applications of naive Bayes models, most of them don't really have independence either.  Nevertheless, such models have proven somewhat successful in practice."
   ]
  },
  {
   "cell_type": "code",
   "execution_count": 158,
   "metadata": {},
   "outputs": [
    {
     "name": "stdout",
     "output_type": "stream",
     "text": [
      "Accuracy: 0.9094883003342762 F1: 0.9094883003342762\n"
     ]
    }
   ],
   "source": [
    "# trying it on DNA and codons first\n",
    "# also apparently GaussianNB doesn't work with encoding\n",
    "\n",
    "from sklearn.naive_bayes import GaussianNB\n",
    "\n",
    "y = cu['DNAtype']\n",
    "X = cu[codon_list]\n",
    "X_train, X_test, y_train, y_test = train_test_split(X, y, test_size=0.3, random_state=101101)\n",
    "\n",
    "gnb = GaussianNB()\n",
    "gnb.fit(X_train, y_train)\n",
    "\n",
    "\n",
    "y_pred = gnb.predict(X_test)\n",
    "acc = accuracy_score(y_test, y_pred)\n",
    "f1 = f1_score(y_test, y_pred, average='micro')\n",
    "print(\"Accuracy:\", acc, \"F1:\", f1)\n",
    "\n"
   ]
  },
  {
   "cell_type": "markdown",
   "metadata": {},
   "source": [
    "It's rather odd that these are both equal.  And, again, I need to figure out which attributes and methods of the gnb model are useful."
   ]
  },
  {
   "cell_type": "code",
   "execution_count": 159,
   "metadata": {},
   "outputs": [
    {
     "data": {
      "text/plain": [
       "['__abstractmethods__',\n",
       " '__class__',\n",
       " '__delattr__',\n",
       " '__dict__',\n",
       " '__dir__',\n",
       " '__doc__',\n",
       " '__eq__',\n",
       " '__format__',\n",
       " '__ge__',\n",
       " '__getattribute__',\n",
       " '__getstate__',\n",
       " '__gt__',\n",
       " '__hash__',\n",
       " '__init__',\n",
       " '__init_subclass__',\n",
       " '__le__',\n",
       " '__lt__',\n",
       " '__module__',\n",
       " '__ne__',\n",
       " '__new__',\n",
       " '__reduce__',\n",
       " '__reduce_ex__',\n",
       " '__repr__',\n",
       " '__setattr__',\n",
       " '__setstate__',\n",
       " '__sizeof__',\n",
       " '__str__',\n",
       " '__subclasshook__',\n",
       " '__weakref__',\n",
       " '_abc_impl',\n",
       " '_check_X',\n",
       " '_check_n_features',\n",
       " '_estimator_type',\n",
       " '_get_param_names',\n",
       " '_get_tags',\n",
       " '_joint_log_likelihood',\n",
       " '_more_tags',\n",
       " '_partial_fit',\n",
       " '_repr_html_',\n",
       " '_repr_html_inner',\n",
       " '_repr_mimebundle_',\n",
       " '_update_mean_variance',\n",
       " '_validate_data',\n",
       " 'class_count_',\n",
       " 'class_prior_',\n",
       " 'classes_',\n",
       " 'epsilon_',\n",
       " 'fit',\n",
       " 'get_params',\n",
       " 'n_features_in_',\n",
       " 'partial_fit',\n",
       " 'predict',\n",
       " 'predict_log_proba',\n",
       " 'predict_proba',\n",
       " 'priors',\n",
       " 'score',\n",
       " 'set_params',\n",
       " 'sigma_',\n",
       " 'theta_',\n",
       " 'var_smoothing']"
      ]
     },
     "execution_count": 159,
     "metadata": {},
     "output_type": "execute_result"
    }
   ],
   "source": [
    "dir(gnb)"
   ]
  },
  {
   "cell_type": "code",
   "execution_count": 165,
   "metadata": {},
   "outputs": [
    {
     "data": {
      "text/plain": [
       "{'priors': None, 'var_smoothing': 1e-09}"
      ]
     },
     "execution_count": 165,
     "metadata": {},
     "output_type": "execute_result"
    }
   ],
   "source": [
    "gnb.get_params()"
   ]
  },
  {
   "cell_type": "markdown",
   "metadata": {},
   "source": [
    "It's shocking that there are only **two** parameters for this model.  Also, how can ANY Bayesian model tell me that 'priors' is 'None'?  It's fundamental to ALL Bayesian methods that there is an assumed prior distribution for any parameter to be estimated.  What does this even mean?  I need to read more about naive Bayes models, obviously.  But for now, it shouldn't be hard to apply this model to the three other potential model classes I'm exploring."
   ]
  },
  {
   "cell_type": "code",
   "execution_count": 168,
   "metadata": {},
   "outputs": [
    {
     "name": "stdout",
     "output_type": "stream",
     "text": [
      "Accuracy: 0.9722293648752893 F1: 0.9722293648752893\n"
     ]
    }
   ],
   "source": [
    "y = cu['DNAtype']\n",
    "X = cu[amino_list]\n",
    "X_train, X_test, y_train, y_test = train_test_split(X, y, test_size=0.3, random_state=109)\n",
    "\n",
    "gnb = GaussianNB()\n",
    "gnb.fit(X_train, y_train)\n",
    "\n",
    "\n",
    "y_pred = gnb.predict(X_test)\n",
    "acc = accuracy_score(y_test, y_pred)\n",
    "f1 = f1_score(y_test, y_pred, average='micro')\n",
    "print(\"Accuracy:\", acc, \"F1:\", f1)\n"
   ]
  },
  {
   "cell_type": "code",
   "execution_count": 171,
   "metadata": {},
   "outputs": [
    {
     "name": "stdout",
     "output_type": "stream",
     "text": [
      "Accuracy: 0.5757264078169195 F1: 0.5757264078169195\n"
     ]
    }
   ],
   "source": [
    "y = cu['Kingdom']\n",
    "X = cu[codon_list]\n",
    "X_train, X_test, y_train, y_test = train_test_split(X, y, test_size=0.3, random_state=823)\n",
    "\n",
    "gnb = GaussianNB()\n",
    "gnb.fit(X_train, y_train)\n",
    "\n",
    "\n",
    "y_pred = gnb.predict(X_test)\n",
    "acc = accuracy_score(y_test, y_pred)\n",
    "f1 = f1_score(y_test, y_pred, average='micro')\n",
    "print(\"Accuracy:\", acc, \"F1:\", f1)\n"
   ]
  },
  {
   "cell_type": "code",
   "execution_count": 172,
   "metadata": {},
   "outputs": [
    {
     "name": "stdout",
     "output_type": "stream",
     "text": [
      "Accuracy: 0.5844690151709951 F1: 0.5844690151709951\n"
     ]
    }
   ],
   "source": [
    "y = cu['Kingdom']\n",
    "X = cu[amino_list]\n",
    "X_train, X_test, y_train, y_test = train_test_split(X, y, test_size=0.3, random_state=8220)\n",
    "\n",
    "gnb = GaussianNB()\n",
    "gnb.fit(X_train, y_train)\n",
    "\n",
    "\n",
    "y_pred = gnb.predict(X_test)\n",
    "acc = accuracy_score(y_test, y_pred)\n",
    "f1 = f1_score(y_test, y_pred, average='micro')\n",
    "print(\"Accuracy:\", acc, \"F1:\", f1)\n"
   ]
  },
  {
   "cell_type": "markdown",
   "metadata": {},
   "source": [
    "Ok, so all I'm getting at this point is that the naive Bayes models are scoring FAR higher for predicting 'DNAtype' than for predicting 'Kingdom' - it's also worth noting that in all cases, accuracy and F1 score are coming back exactly equal.  (I need to consider what that means, and why that would be the case for these models.)  "
   ]
  },
  {
   "cell_type": "code",
   "execution_count": null,
   "metadata": {},
   "outputs": [],
   "source": []
  }
 ],
 "metadata": {
  "kernelspec": {
   "display_name": "Python 3",
   "language": "python",
   "name": "python3"
  },
  "language_info": {
   "codemirror_mode": {
    "name": "ipython",
    "version": 3
   },
   "file_extension": ".py",
   "mimetype": "text/x-python",
   "name": "python",
   "nbconvert_exporter": "python",
   "pygments_lexer": "ipython3",
   "version": "3.7.4"
  }
 },
 "nbformat": 4,
 "nbformat_minor": 2
}
