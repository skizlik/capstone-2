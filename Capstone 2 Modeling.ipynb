{
 "cells": [
  {
   "cell_type": "markdown",
   "metadata": {},
   "source": [
    "# Capstone 2 Modeling"
   ]
  },
  {
   "cell_type": "code",
   "execution_count": 7,
   "metadata": {},
   "outputs": [],
   "source": [
    "import pandas as pd\n",
    "import numpy as np\n",
    "import xgboost as xg\n",
    "from sklearn.model_selection import train_test_split\n",
    "from sklearn.neighbors import KNeighborsClassifier\n",
    "from sklearn.ensemble import RandomForestClassifier\n",
    "from sklearn.metrics import confusion_matrix\n",
    "#import warnings\n",
    "#warnings.filterwarnings('ignore')\n",
    "\n"
   ]
  },
  {
   "cell_type": "code",
   "execution_count": 8,
   "metadata": {},
   "outputs": [],
   "source": [
    "codon_list = ['UUU', 'UUC', 'UUA', 'UUG', 'CUU', 'CUC', 'CUA', 'CUG',\n",
    "       'AUU', 'AUC', 'AUA', 'AUG', 'GUU', 'GUC', 'GUA', 'GUG', 'GCU', 'GCC',\n",
    "       'GCA', 'GCG', 'CCU', 'CCC', 'CCA', 'CCG', 'UGG', 'GGU', 'GGC', 'GGA',\n",
    "       'GGG', 'UCU', 'UCC', 'UCA', 'UCG', 'AGU', 'AGC', 'ACU', 'ACC', 'ACA',\n",
    "       'ACG', 'UAU', 'UAC', 'CAA', 'CAG', 'AAU', 'AAC', 'UGU', 'UGC', 'CAU',\n",
    "       'CAC', 'AAA', 'AAG', 'CGU', 'CGC', 'CGA', 'CGG', 'AGA', 'AGG', 'GAU',\n",
    "       'GAC', 'GAA', 'GAG', 'UAA', 'UAG', 'UGA']\n",
    "\n",
    "amino_list = ['alanine', 'arginine',\n",
    "       'asparagine', 'aspartic acid', 'cysteine', 'glutamine', 'glutamic acid',\n",
    "       'glycine', 'histidine', 'isoleucine', 'leucine', 'lysine', 'methionine',\n",
    "       'phenylalanine', 'proline', 'serine', 'threonine', 'tryptophan',\n",
    "       'tyrosine', 'valine', 'start', 'stop']"
   ]
  },
  {
   "cell_type": "code",
   "execution_count": 9,
   "metadata": {},
   "outputs": [],
   "source": [
    "dnacols = ['D_chloroplast', 'D_genomic', 'D_mitochondrial']\n",
    "kingcols = ['K_bacteria', 'K_virus', 'K_plant', 'K_vertebrate', 'K_invertebrate',\n",
    "            'K_mammal', 'K_bacteriophage', 'K_rodent', 'K_primate', 'K_archaea']\n"
   ]
  },
  {
   "cell_type": "code",
   "execution_count": 10,
   "metadata": {},
   "outputs": [
    {
     "data": {
      "text/html": [
       "<div>\n",
       "<style scoped>\n",
       "    .dataframe tbody tr th:only-of-type {\n",
       "        vertical-align: middle;\n",
       "    }\n",
       "\n",
       "    .dataframe tbody tr th {\n",
       "        vertical-align: top;\n",
       "    }\n",
       "\n",
       "    .dataframe thead th {\n",
       "        text-align: right;\n",
       "    }\n",
       "</style>\n",
       "<table border=\"1\" class=\"dataframe\">\n",
       "  <thead>\n",
       "    <tr style=\"text-align: right;\">\n",
       "      <th></th>\n",
       "      <th>Unnamed: 0</th>\n",
       "      <th>SpeciesID</th>\n",
       "      <th>Ncodons</th>\n",
       "      <th>SpeciesName</th>\n",
       "      <th>UUU</th>\n",
       "      <th>UUC</th>\n",
       "      <th>UUA</th>\n",
       "      <th>UUG</th>\n",
       "      <th>CUU</th>\n",
       "      <th>CUC</th>\n",
       "      <th>...</th>\n",
       "      <th>K_invertebrate</th>\n",
       "      <th>K_mammal</th>\n",
       "      <th>K_plant</th>\n",
       "      <th>K_primate</th>\n",
       "      <th>K_rodent</th>\n",
       "      <th>K_vertebrate</th>\n",
       "      <th>K_virus</th>\n",
       "      <th>D_chloroplast</th>\n",
       "      <th>D_genomic</th>\n",
       "      <th>D_mitochondrial</th>\n",
       "    </tr>\n",
       "  </thead>\n",
       "  <tbody>\n",
       "    <tr>\n",
       "      <th>0</th>\n",
       "      <td>0</td>\n",
       "      <td>100217</td>\n",
       "      <td>-0.108063</td>\n",
       "      <td>Epizootic haematopoietic necrosis virus</td>\n",
       "      <td>-0.468279</td>\n",
       "      <td>-0.984617</td>\n",
       "      <td>-0.973734</td>\n",
       "      <td>-1.141636</td>\n",
       "      <td>-0.546242</td>\n",
       "      <td>0.942351</td>\n",
       "      <td>...</td>\n",
       "      <td>0</td>\n",
       "      <td>0</td>\n",
       "      <td>0</td>\n",
       "      <td>0</td>\n",
       "      <td>0</td>\n",
       "      <td>0</td>\n",
       "      <td>1</td>\n",
       "      <td>0</td>\n",
       "      <td>1</td>\n",
       "      <td>0</td>\n",
       "    </tr>\n",
       "    <tr>\n",
       "      <th>1</th>\n",
       "      <td>1</td>\n",
       "      <td>100220</td>\n",
       "      <td>-0.108785</td>\n",
       "      <td>Bohle iridovirus</td>\n",
       "      <td>0.139840</td>\n",
       "      <td>-0.851972</td>\n",
       "      <td>-0.964991</td>\n",
       "      <td>-0.788651</td>\n",
       "      <td>-1.297120</td>\n",
       "      <td>0.696126</td>\n",
       "      <td>...</td>\n",
       "      <td>0</td>\n",
       "      <td>0</td>\n",
       "      <td>0</td>\n",
       "      <td>0</td>\n",
       "      <td>0</td>\n",
       "      <td>0</td>\n",
       "      <td>1</td>\n",
       "      <td>0</td>\n",
       "      <td>1</td>\n",
       "      <td>0</td>\n",
       "    </tr>\n",
       "    <tr>\n",
       "      <th>2</th>\n",
       "      <td>2</td>\n",
       "      <td>100755</td>\n",
       "      <td>-0.104089</td>\n",
       "      <td>Sweet potato leaf curl virus</td>\n",
       "      <td>-0.284696</td>\n",
       "      <td>-0.143098</td>\n",
       "      <td>-0.338885</td>\n",
       "      <td>0.145086</td>\n",
       "      <td>-0.943377</td>\n",
       "      <td>-0.495909</td>\n",
       "      <td>...</td>\n",
       "      <td>0</td>\n",
       "      <td>0</td>\n",
       "      <td>0</td>\n",
       "      <td>0</td>\n",
       "      <td>0</td>\n",
       "      <td>0</td>\n",
       "      <td>1</td>\n",
       "      <td>0</td>\n",
       "      <td>1</td>\n",
       "      <td>0</td>\n",
       "    </tr>\n",
       "    <tr>\n",
       "      <th>3</th>\n",
       "      <td>3</td>\n",
       "      <td>100880</td>\n",
       "      <td>-0.108174</td>\n",
       "      <td>Northern cereal mosaic virus</td>\n",
       "      <td>-0.398861</td>\n",
       "      <td>-0.087111</td>\n",
       "      <td>-0.211624</td>\n",
       "      <td>-0.449699</td>\n",
       "      <td>-0.202875</td>\n",
       "      <td>-0.326500</td>\n",
       "      <td>...</td>\n",
       "      <td>0</td>\n",
       "      <td>0</td>\n",
       "      <td>0</td>\n",
       "      <td>0</td>\n",
       "      <td>0</td>\n",
       "      <td>0</td>\n",
       "      <td>1</td>\n",
       "      <td>0</td>\n",
       "      <td>1</td>\n",
       "      <td>0</td>\n",
       "    </tr>\n",
       "    <tr>\n",
       "      <th>4</th>\n",
       "      <td>4</td>\n",
       "      <td>100887</td>\n",
       "      <td>-0.079183</td>\n",
       "      <td>Soil-borne cereal mosaic virus</td>\n",
       "      <td>0.198357</td>\n",
       "      <td>-0.839913</td>\n",
       "      <td>-0.625466</td>\n",
       "      <td>2.450823</td>\n",
       "      <td>-0.379275</td>\n",
       "      <td>-0.882051</td>\n",
       "      <td>...</td>\n",
       "      <td>0</td>\n",
       "      <td>0</td>\n",
       "      <td>0</td>\n",
       "      <td>0</td>\n",
       "      <td>0</td>\n",
       "      <td>0</td>\n",
       "      <td>1</td>\n",
       "      <td>0</td>\n",
       "      <td>1</td>\n",
       "      <td>0</td>\n",
       "    </tr>\n",
       "  </tbody>\n",
       "</table>\n",
       "<p>5 rows × 103 columns</p>\n",
       "</div>"
      ],
      "text/plain": [
       "   Unnamed: 0  SpeciesID   Ncodons                              SpeciesName  \\\n",
       "0           0     100217 -0.108063  Epizootic haematopoietic necrosis virus   \n",
       "1           1     100220 -0.108785                         Bohle iridovirus   \n",
       "2           2     100755 -0.104089             Sweet potato leaf curl virus   \n",
       "3           3     100880 -0.108174             Northern cereal mosaic virus   \n",
       "4           4     100887 -0.079183           Soil-borne cereal mosaic virus   \n",
       "\n",
       "        UUU       UUC       UUA       UUG       CUU       CUC  ...  \\\n",
       "0 -0.468279 -0.984617 -0.973734 -1.141636 -0.546242  0.942351  ...   \n",
       "1  0.139840 -0.851972 -0.964991 -0.788651 -1.297120  0.696126  ...   \n",
       "2 -0.284696 -0.143098 -0.338885  0.145086 -0.943377 -0.495909  ...   \n",
       "3 -0.398861 -0.087111 -0.211624 -0.449699 -0.202875 -0.326500  ...   \n",
       "4  0.198357 -0.839913 -0.625466  2.450823 -0.379275 -0.882051  ...   \n",
       "\n",
       "   K_invertebrate  K_mammal  K_plant  K_primate  K_rodent  K_vertebrate  \\\n",
       "0               0         0        0          0         0             0   \n",
       "1               0         0        0          0         0             0   \n",
       "2               0         0        0          0         0             0   \n",
       "3               0         0        0          0         0             0   \n",
       "4               0         0        0          0         0             0   \n",
       "\n",
       "   K_virus  D_chloroplast  D_genomic  D_mitochondrial  \n",
       "0        1              0          1                0  \n",
       "1        1              0          1                0  \n",
       "2        1              0          1                0  \n",
       "3        1              0          1                0  \n",
       "4        1              0          1                0  \n",
       "\n",
       "[5 rows x 103 columns]"
      ]
     },
     "execution_count": 10,
     "metadata": {},
     "output_type": "execute_result"
    }
   ],
   "source": [
    "# importing the csv from the preprocessing notebook\n",
    "cu = pd.read_csv('codon_usage3.csv')\n",
    "cu.head()"
   ]
  },
  {
   "cell_type": "markdown",
   "metadata": {},
   "source": [
    "To start, let's use the codons as predictors, and DNAtype as outcome, with k-nearest neighbors.\n"
   ]
  },
  {
   "cell_type": "code",
   "execution_count": 11,
   "metadata": {},
   "outputs": [],
   "source": [
    "y = cu[dnacols]\n",
    "X = cu[codon_list]"
   ]
  },
  {
   "cell_type": "code",
   "execution_count": 11,
   "metadata": {},
   "outputs": [],
   "source": [
    "X_train, X_test, y_train, y_test = train_test_split(X, y, test_size=0.3, random_state=1331)"
   ]
  },
  {
   "cell_type": "code",
   "execution_count": 12,
   "metadata": {},
   "outputs": [
    {
     "name": "stdout",
     "output_type": "stream",
     "text": [
      "K = 1 train score: 0.9998897950187349 test score: 0.9940858832604783\n",
      "K = 2 train score: 0.9948203658805378 test score: 0.9897145795834404\n",
      "K = 3 train score: 0.9973550804496363 test score: 0.9933144767292363\n",
      "K = 4 train score: 0.994269340974212 test score: 0.9910002571355104\n",
      "K = 5 train score: 0.9958122107119242 test score: 0.9920287991771664\n",
      "K = 6 train score: 0.9936081110866212 test score: 0.9907431216250965\n",
      "K = 7 train score: 0.9950407758430682 test score: 0.9912573926459244\n",
      "K = 8 train score: 0.9933877011240908 test score: 0.9892003085626125\n",
      "K = 9 train score: 0.9943795459554772 test score: 0.9907431216250965\n",
      "K = 10 train score: 0.9926162662552347 test score: 0.9889431730521985\n",
      "K = 11 train score: 0.9931672911615606 test score: 0.9897145795834404\n",
      "K = 12 train score: 0.9915142164425832 test score: 0.9876574955001286\n",
      "K = 13 train score: 0.9925060612739696 test score: 0.9894574440730265\n",
      "K = 14 train score: 0.9912938064800529 test score: 0.9879146310105426\n"
     ]
    }
   ],
   "source": [
    "# considering values of hyperparameter k \n",
    "test_scores = []\n",
    "train_scores = []\n",
    "\n",
    "for i in range(1,15):\n",
    "\n",
    "    knn = KNeighborsClassifier(i)\n",
    "    knn.fit(X_train,y_train)\n",
    "    \n",
    "    train_scores.append(knn.score(X_train,y_train))\n",
    "    test_scores.append(knn.score(X_test,y_test))\n",
    "\n",
    "for i in range(len(test_scores)):\n",
    "    print(\"K =\", i+1, \"train score:\", train_scores[i], \"test score:\", test_scores[i])"
   ]
  },
  {
   "cell_type": "markdown",
   "metadata": {},
   "source": [
    "The overall accuracies given above seem suspiciously high.  I feel like I need to do some kind of model diagnostics.  Let's consider what we get using the aminos instead of the codons."
   ]
  },
  {
   "cell_type": "code",
   "execution_count": 13,
   "metadata": {},
   "outputs": [],
   "source": [
    "X = cu[amino_list]\n",
    "X_train, X_test, y_train, y_test = train_test_split(X, y, test_size=0.3, random_state=13131)"
   ]
  },
  {
   "cell_type": "code",
   "execution_count": 14,
   "metadata": {},
   "outputs": [
    {
     "name": "stdout",
     "output_type": "stream",
     "text": [
      "K = 1 train score: 0.9998897950187349 test score: 0.9922859346875803\n",
      "K = 2 train score: 0.9905223716111968 test score: 0.9853432759064027\n",
      "K = 3 train score: 0.9949305708618029 test score: 0.9935716122396503\n",
      "K = 4 train score: 0.9907427815737271 test score: 0.9915145281563383\n",
      "K = 5 train score: 0.9933877011240908 test score: 0.9922859346875803\n",
      "K = 6 train score: 0.9911836014987877 test score: 0.9915145281563383\n",
      "K = 7 train score: 0.9922856513114393 test score: 0.9930573412188223\n",
      "K = 8 train score: 0.9899713467048711 test score: 0.9907431216250965\n",
      "K = 9 train score: 0.9907427815737271 test score: 0.9920287991771664\n",
      "K = 10 train score: 0.9890897068547498 test score: 0.9889431730521985\n"
     ]
    }
   ],
   "source": [
    "# considering values of hyperparameter k \n",
    "test_scores = []\n",
    "train_scores = []\n",
    "\n",
    "for i in range(1,11):\n",
    "\n",
    "    knn = KNeighborsClassifier(i)\n",
    "    knn.fit(X_train,y_train)\n",
    "    \n",
    "    train_scores.append(knn.score(X_train,y_train))\n",
    "    test_scores.append(knn.score(X_test,y_test))\n",
    "\n",
    "for i in range(len(test_scores)):\n",
    "    print(\"K =\", i+1, \"train score:\", train_scores[i], \"test score:\", test_scores[i])"
   ]
  },
  {
   "cell_type": "markdown",
   "metadata": {},
   "source": [
    "Again, all of these scores seem very high indeed.  Also note that here, unlike in the preceding case, some of the test scores are higher than the train scores.  This is a sure sign that something has gone glaringly wrong. What's happening here?  What if we try to model the kingdom (rather than DNAtype, as in the preceding instances) using this method?\n"
   ]
  },
  {
   "cell_type": "code",
   "execution_count": 16,
   "metadata": {},
   "outputs": [],
   "source": [
    "y = cu[kingcols]\n",
    "X = cu[amino_list]\n",
    "X_train, X_test, y_train, y_test = train_test_split(X, y, test_size=0.3, random_state=212)"
   ]
  },
  {
   "cell_type": "code",
   "execution_count": 17,
   "metadata": {},
   "outputs": [
    {
     "name": "stdout",
     "output_type": "stream",
     "text": [
      "K = 1 train score: 1.0 test score: 0.8675752121367961\n",
      "K = 2 train score: 0.8642274630813312 test score: 0.780920545127282\n",
      "K = 3 train score: 0.910072735287635 test score: 0.8434044741578812\n",
      "K = 4 train score: 0.8442803614723385 test score: 0.7945487271792234\n",
      "K = 5 train score: 0.8749173462640512 test score: 0.8302905631267679\n",
      "K = 6 train score: 0.8288516640952172 test score: 0.7888917459501157\n",
      "K = 7 train score: 0.8547498346925281 test score: 0.8138338904602725\n",
      "K = 8 train score: 0.8160678862684594 test score: 0.7801491385960401\n",
      "K = 9 train score: 0.8363456028212475 test score: 0.8079197737207509\n",
      "K = 10 train score: 0.8009698038351334 test score: 0.7796348675752122\n"
     ]
    }
   ],
   "source": [
    "test_scores = []\n",
    "train_scores = []\n",
    "\n",
    "for i in range(1,11):\n",
    "\n",
    "    knn = KNeighborsClassifier(i)\n",
    "    knn.fit(X_train,y_train)\n",
    "    \n",
    "    train_scores.append(knn.score(X_train,y_train))\n",
    "    test_scores.append(knn.score(X_test,y_test))\n",
    "\n",
    "for i in range(len(test_scores)):\n",
    "    print(\"K =\", i+1, \"train score:\", train_scores[i], \"test score:\", test_scores[i])"
   ]
  },
  {
   "cell_type": "markdown",
   "metadata": {},
   "source": [
    "This is interesting - these results aren't suspiciously high.  Indeed, the k-NN models applied to kingdom as outcome have scores that look a little weak.  What if we use the codons (instead of aminos) to predict?\n"
   ]
  },
  {
   "cell_type": "code",
   "execution_count": 19,
   "metadata": {},
   "outputs": [],
   "source": [
    "X = cu[codon_list]\n",
    "X_train, X_test, y_train, y_test = train_test_split(X, y, test_size=0.3, random_state=2102)"
   ]
  },
  {
   "cell_type": "code",
   "execution_count": 20,
   "metadata": {},
   "outputs": [
    {
     "name": "stdout",
     "output_type": "stream",
     "text": [
      "K = 1 train score: 1.0 test score: 0.9362303934173309\n",
      "K = 2 train score: 0.9300198368966277 test score: 0.8889174595011571\n",
      "K = 3 train score: 0.9555873925501432 test score: 0.9244021599382874\n",
      "K = 4 train score: 0.915803394313423 test score: 0.8886603239907431\n",
      "K = 5 train score: 0.9355300859598854 test score: 0.913088197480072\n",
      "K = 6 train score: 0.9042318712805819 test score: 0.8835176137824634\n",
      "K = 7 train score: 0.9207626184703549 test score: 0.9004885574697866\n",
      "K = 8 train score: 0.8923297333039454 test score: 0.8768320905116996\n",
      "K = 9 train score: 0.9051135111307032 test score: 0.890460272563641\n",
      "K = 10 train score: 0.883403129821468 test score: 0.870917973772178\n"
     ]
    }
   ],
   "source": [
    "test_scores = []\n",
    "train_scores = []\n",
    "\n",
    "for i in range(1,11):\n",
    "\n",
    "    knn = KNeighborsClassifier(i)\n",
    "    knn.fit(X_train,y_train)\n",
    "    \n",
    "    train_scores.append(knn.score(X_train,y_train))\n",
    "    test_scores.append(knn.score(X_test,y_test))\n",
    "\n",
    "for i in range(len(test_scores)):\n",
    "    print(\"K =\", i+1, \"train score:\", train_scores[i], \"test score:\", test_scores[i])"
   ]
  },
  {
   "cell_type": "markdown",
   "metadata": {},
   "source": [
    "Interestingly, I'm not seeing the same problems when fitting kNN to model 'kingdom' that I did modeling 'DNAtype' - what explains this?  If there were some problem with the train test split, or normalization, wouldn't it impact both sets of models?  This is something that I really need to explain."
   ]
  },
  {
   "cell_type": "code",
   "execution_count": null,
   "metadata": {},
   "outputs": [],
   "source": []
  }
 ],
 "metadata": {
  "kernelspec": {
   "display_name": "Python 3",
   "language": "python",
   "name": "python3"
  },
  "language_info": {
   "codemirror_mode": {
    "name": "ipython",
    "version": 3
   },
   "file_extension": ".py",
   "mimetype": "text/x-python",
   "name": "python",
   "nbconvert_exporter": "python",
   "pygments_lexer": "ipython3",
   "version": "3.7.4"
  }
 },
 "nbformat": 4,
 "nbformat_minor": 2
}
