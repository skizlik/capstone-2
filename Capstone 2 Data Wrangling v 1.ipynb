{
 "cells": [
  {
   "cell_type": "markdown",
   "metadata": {},
   "source": [
    "# Capstone 2 Data Wrangling"
   ]
  },
  {
   "cell_type": "markdown",
   "metadata": {},
   "source": [
    "Having obtained data from http://archive.ics.uci.edu/ml/datasets/Codon+usage, I'll begin by importing some essential libraries and opening the csv."
   ]
  },
  {
   "cell_type": "code",
   "execution_count": 1,
   "metadata": {},
   "outputs": [
    {
     "name": "stderr",
     "output_type": "stream",
     "text": [
      "C:\\Users\\null\\Anaconda3\\lib\\site-packages\\IPython\\core\\interactiveshell.py:3058: DtypeWarning: Columns (5,6) have mixed types.Specify dtype option on import or set low_memory=False.\n",
      "  interactivity=interactivity, compiler=compiler, result=result)\n"
     ]
    }
   ],
   "source": [
    "import pandas as pd\n",
    "codon_usage = pd.read_csv('codon_usage.csv')"
   ]
  },
  {
   "cell_type": "code",
   "execution_count": 2,
   "metadata": {},
   "outputs": [
    {
     "name": "stdout",
     "output_type": "stream",
     "text": [
      "  Kingdom  DNAtype  SpeciesID  Ncodons  \\\n",
      "0     vrl        0     100217     1995   \n",
      "1     vrl        0     100220     1474   \n",
      "2     vrl        0     100755     4862   \n",
      "3     vrl        0     100880     1915   \n",
      "4     vrl        0     100887    22831   \n",
      "\n",
      "                               SpeciesName      UUU      UUC      UUA  \\\n",
      "0  Epizootic haematopoietic necrosis virus  0.01654  0.01203  0.00050   \n",
      "1                         Bohle iridovirus  0.02714  0.01357  0.00068   \n",
      "2             Sweet potato leaf curl virus  0.01974   0.0218  0.01357   \n",
      "3             Northern cereal mosaic virus  0.01775  0.02245  0.01619   \n",
      "4           Soil-borne cereal mosaic virus  0.02816  0.01371  0.00767   \n",
      "\n",
      "       UUG      CUU  ...      CGG      AGA      AGG      GAU      GAC  \\\n",
      "0  0.00351  0.01203  ...  0.00451  0.01303  0.03559  0.01003  0.04612   \n",
      "1  0.00678  0.00407  ...  0.00136  0.01696  0.03596  0.01221  0.04545   \n",
      "2  0.01543  0.00782  ...  0.00596  0.01974  0.02489  0.03126  0.02036   \n",
      "3  0.00992  0.01567  ...  0.00366  0.01410  0.01671  0.03760  0.01932   \n",
      "4  0.03679  0.01380  ...  0.00604  0.01494  0.01734  0.04148  0.02483   \n",
      "\n",
      "       GAA      GAG      UAA      UAG      UGA  \n",
      "0  0.01203  0.04361  0.00251  0.00050  0.00000  \n",
      "1  0.01560  0.04410  0.00271  0.00068  0.00000  \n",
      "2  0.02242  0.02468  0.00391  0.00000  0.00144  \n",
      "3  0.03029  0.03446  0.00261  0.00157  0.00000  \n",
      "4  0.03359  0.03679  0.00000  0.00044  0.00131  \n",
      "\n",
      "[5 rows x 69 columns]\n",
      "898932\n",
      "(13028, 69)\n"
     ]
    }
   ],
   "source": [
    "print(codon_usage.head())\n",
    "print(codon_usage.size)\n",
    "print(codon_usage.shape)"
   ]
  },
  {
   "cell_type": "markdown",
   "metadata": {},
   "source": [
    "This is more or less what was expected:  13028 observations of 69 variables.  With 4 distinct nucleotides and three nucleotides per codon, this gives us 4 ^ 3 = 64 variables representing the frequency of each codon.  The remaining five variables are descriptive:  kingdom, DNA type, species ID, number of codons, and species name.  \n",
    "\n",
    "It will be important to discover what is meant by \"DNA type\" - check to see if there's a note or a data dictionary associated with this file.\n",
    "\n",
    "It's also important to verify that the data types are what would be expected:  int for the species ID, DNA type, and number of codons; strings for the kingdom and species name; floating point numbers for the codon frequencies."
   ]
  },
  {
   "cell_type": "code",
   "execution_count": 3,
   "metadata": {},
   "outputs": [
    {
     "data": {
      "text/plain": [
       "Kingdom         object\n",
       "DNAtype          int64\n",
       "SpeciesID        int64\n",
       "Ncodons          int64\n",
       "SpeciesName     object\n",
       "                ...   \n",
       "GAA            float64\n",
       "GAG            float64\n",
       "UAA            float64\n",
       "UAG            float64\n",
       "UGA            float64\n",
       "Length: 69, dtype: object"
      ]
     },
     "execution_count": 3,
     "metadata": {},
     "output_type": "execute_result"
    }
   ],
   "source": [
    "codon_usage.dtypes"
   ]
  },
  {
   "cell_type": "markdown",
   "metadata": {},
   "source": [
    "It's a bit of a surprise that the 'Kingdom' and 'SpeciesName' variables are objects instead of strings.  This might cause complications that need to be remedied.  As we're interested in exploring relationships between codon usage frequencies and taxonomic levels, such as kingdoms (perhaps it would be fruitful to merge with another data set to expand the taxonomic variables if possible) - let's see the unique values for 'Kingdom'."
   ]
  },
  {
   "cell_type": "code",
   "execution_count": 4,
   "metadata": {},
   "outputs": [
    {
     "data": {
      "text/plain": [
       "array(['vrl', 'arc', 'bct', 'phg', 'plm', 'pln', 'inv', 'vrt', 'mam',\n",
       "       'rod', 'pri'], dtype=object)"
      ]
     },
     "execution_count": 4,
     "metadata": {},
     "output_type": "execute_result"
    }
   ],
   "source": [
    "codon_usage['Kingdom'].unique()"
   ]
  },
  {
   "cell_type": "markdown",
   "metadata": {},
   "source": [
    "Again, this is something of a surprise.  At a cursory glance, I might guess that 'vrl' refers to viruses - which seems supported by the .head() results.  I could speculate that 'arc' refers to archaea, 'bct' to bacteria, 'inv' to invertebrates and 'vrt' to vertebrates - but this needs to be explored further.  And it should be noted in passing that, if correct, some of these categories don't, in fact, refer to kingdoms, but indeed to other levels of the taxonomy of life.  However, looking back at the data source (in the link provided above) reveals what's meant by all of these values:\n",
    "\n",
    "The 'Kingdom' is a 3-letter code corresponding to `xxx' in the CUTG database name: 'arc'(archaea), 'bct'(bacteria), 'phg'(bacteriophage), 'plm' (plasmid), 'pln' (plant), 'inv' (invertebrate), 'vrt' (vertebrate), 'mam' (mammal), 'rod' (rodent), 'pri' (primate), and 'vrl'(virus) sequence entries.   Of course, this presents the problem that bacteriophages are a subset of viruses, and that primates and rodents are subsets of mammals, which in turn are a subset of vertebrates.  Is it perhaps reasonable to assume that we should consider these set relations under difference?  That is, to assume 'viruses' in this context refers to 'viruses that are not bacteriophages', and similarly that 'vertebrates' means 'vertebrates that are not mammals', and 'mammals' refers to 'mammals that are not rodents or primates'?  I don't know if it would be reasonable to bother the researcher who compiled and curated these data over this matter.\n",
    "\n",
    "The description page also clarifies what's meant by DNA type:\n",
    "\n",
    "The 'DNAtype' is denoted as an integer for the genomic composition in the species: 0-genomic, 1-mitochondrial, 2-chloroplast, 3-cyanelle, 4-plastid, 5-nucleomorph, 6-secondary_endosymbiont, 7-chromoplast, 8-leucoplast, 9-NA, 10-proplastid, 11-apicoplast, and 12-kinetoplast.\n",
    "\n",
    "At this point, my underlying knowledge of the subject matter fails me.  I understand what's meant by genomic, mitochondrial, and chloroplast DNA (the last of which should be found only in plants, I assume) but the other categories are unknown to me.    I'm going to have to read up a little just so that I have a basic understanding of what they are.  It's also a little alarming that they have an 'NA' value for this variable; what exactly this means is mysterious.  \n",
    "\n",
    "It's a bit odd that plasmid DNA is represented in the 'Kingdom' and not the 'DNAtype' variable. \n",
    "\n",
    "However, it also emerges as an interesting possibility to see if there are any significant associations between DNA type and codon frequency."
   ]
  },
  {
   "cell_type": "markdown",
   "metadata": {},
   "source": [
    "A bit of internet searching reveals the following basic facts, heretofore unknown to me:\n",
    "1.  A **cyanelle** is an organelle analogous to the chloroplast, found in glaucophytes, a grouping of freshwater algae.  \n",
    "2.  **Plastids** are a type of organelle found primarily in plants.  They include **chloroplasts**, **chromoplasts**, and **leucoplasts**, which exist as other values of the DNA type variable, which is somewhat confusing - to what DNA sources, exactly, do these records refer?\n",
    "3.  A **nucleomorph** is a vestigial nucleus found between the membrane pairs in some plastids.  There are only two groups of organisms in which they are known to exist.\n",
    "4.  **Secondary endosymbiosis** occurs when an eukaryotic cell engulfs and absorbs another eukaryotic cell which has already developed endosymbiosis with a prokaryotic cell.  The inner prokaryotic cell is considered the **secondary endosymbiont**.\n",
    "5.  **Chromoplasts** are a type of plastid used to synthesize and store carotenoid pigments, usually in flowers and fruit.\n",
    "6.  **Leucoplasts** are another type of plastid, used for synthesis and storage - usually of macronutrients.  Distinguished from chromoplasts and chromoplasts by the absence of photosynthesis and pigment, as well as a more 'amoeboid' morphology.\n",
    "7.  A **proplastid** is an undifferentiated plastid, formed generally in the meristem tissue of plants; all specialized plastids are derived from them.\n",
    "8.  **Apicoplasts** are plastids found in most, but not all, protozoan parasites.  Probably a case of secondary endosymbiosis, they are believed to derive from photosynthetic plastids, and have several plant-like properties that make them good targets for drugs.  This is important, as the species carrying apicoplastids can be serious disease agents - the parasite causing malaria, for example.\n",
    "9.  A **kinetoplast** is a circular complex of DNA found inside a large mitochondrion, carrying multiple copies of the mitochondrial genome.  They are known to exist only in a single phylum of flagellate protists. "
   ]
  },
  {
   "cell_type": "markdown",
   "metadata": {},
   "source": [
    "Having cleared up what the data labels mean - except for the troubling 'NA' in 'DNAtype' - it would be informative to take a look at the distribution of these values."
   ]
  },
  {
   "cell_type": "code",
   "execution_count": 5,
   "metadata": {},
   "outputs": [
    {
     "data": {
      "text/plain": [
       "bct    2920\n",
       "vrl    2832\n",
       "pln    2523\n",
       "vrt    2077\n",
       "inv    1345\n",
       "mam     572\n",
       "phg     220\n",
       "rod     215\n",
       "pri     180\n",
       "arc     126\n",
       "plm      18\n",
       "Name: Kingdom, dtype: int64"
      ]
     },
     "execution_count": 5,
     "metadata": {},
     "output_type": "execute_result"
    }
   ],
   "source": [
    "codon_usage['Kingdom'].value_counts()"
   ]
  },
  {
   "cell_type": "markdown",
   "metadata": {},
   "source": [
    "It looks like we have a pretty substantial number of cases for each 'Kingdom' other than plasmids.  (Plasmids are DNA sequences found in bacteria that are not part of the bacterial chromosome and replicate independently; bacteria can exchange plasmids with each other in a process called conjugation.)  Considering that plasmid DNA is unique in comparison to the other categories for this variable, and there are a mere 18 observations, perhaps it would be appropriate to omit these cases?\n"
   ]
  },
  {
   "cell_type": "code",
   "execution_count": 6,
   "metadata": {},
   "outputs": [
    {
     "data": {
      "text/plain": [
       "0     9267\n",
       "1     2899\n",
       "2      816\n",
       "4       31\n",
       "12       5\n",
       "9        2\n",
       "3        2\n",
       "11       2\n",
       "5        2\n",
       "6        1\n",
       "7        1\n",
       "Name: DNAtype, dtype: int64"
      ]
     },
     "execution_count": 6,
     "metadata": {},
     "output_type": "execute_result"
    }
   ],
   "source": [
    "codon_usage['DNAtype'].value_counts()"
   ]
  },
  {
   "cell_type": "markdown",
   "metadata": {},
   "source": [
    "Here we see that almost all observations fall into categories 0, 1, and 2 - genomic, mitochondrial, and chloroplast DNA.  Considering that we have only a very small number of observations for the other DNA types, as well as some unanswered questions about how these categories relate to each other (some being subsets of others, etc.) - perhaps it would be reasonable to restrict our analysis to only these three categories?"
   ]
  },
  {
   "cell_type": "markdown",
   "metadata": {},
   "source": [
    "Of course, another important step is to check to see how many missing values we have."
   ]
  },
  {
   "cell_type": "code",
   "execution_count": 7,
   "metadata": {},
   "outputs": [
    {
     "data": {
      "text/plain": [
       "0"
      ]
     },
     "execution_count": 7,
     "metadata": {},
     "output_type": "execute_result"
    }
   ],
   "source": [
    "codon_usage.isna().values.sum()"
   ]
  },
  {
   "cell_type": "markdown",
   "metadata": {},
   "source": [
    "Astonishingly, there are **zero** missing values in this csv.  These data are obviously well curated.  However, it will be helpful to relabel some of the categorical variables, particularly 'DNAtype'."
   ]
  },
  {
   "cell_type": "code",
   "execution_count": 8,
   "metadata": {},
   "outputs": [
    {
     "name": "stdout",
     "output_type": "stream",
     "text": [
      "  Kingdom  DNAtype\n",
      "0   virus  genomic\n",
      "1   virus  genomic\n",
      "2   virus  genomic\n",
      "3   virus  genomic\n",
      "4   virus  genomic\n",
      "Kingdoms: ['virus' 'archaea' 'bacteria' 'bacteriophage' 'plasmid' 'plant'\n",
      " 'invertebrate' 'vertebrate' 'mammal' 'rodent' 'primate'] \n",
      "DNA types: ['genomic' 'secondary_endosymbiont' 'plastid' 'chloroplast'\n",
      " 'mitochondrial' 'cyanelle' 'chromoplast' 'NA' 'nucleomorph' 'apicoplast'\n",
      " 'kinetoplast']\n"
     ]
    }
   ],
   "source": [
    "taxons_dict = {'arc': 'archaea', 'bct': 'bacteria', 'phg': 'bacteriophage', 'plm': 'plasmid', 'pln': 'plant', 'inv': 'invertebrate', 'vrt': 'vertebrate', 'mam': 'mammal', 'rod': 'rodent', 'pri': 'primate', 'vrl': 'virus'}\n",
    "DNA_dict = {0: 'genomic', 1: 'mitochondrial', 2: 'chloroplast', 3: 'cyanelle', 4: 'plastid', 5: 'nucleomorph', 6: 'secondary_endosymbiont', 7: 'chromoplast', 8: 'leucoplast', 9: 'NA', 10: 'proplastid', 11: 'apicoplast', 12: 'kinetoplast'}\n",
    "\n",
    "codon_usage['Kingdom'].replace(taxons_dict, inplace=True)\n",
    "codon_usage['DNAtype'].replace(DNA_dict, inplace=True)\n",
    "print(codon_usage[['Kingdom', 'DNAtype']].head())\n",
    "print(\"Kingdoms:\", codon_usage['Kingdom'].unique(), \"\\nDNA types:\", codon_usage['DNAtype'].unique())"
   ]
  },
  {
   "cell_type": "markdown",
   "metadata": {},
   "source": [
    "It looks like the abbreviations and integers have been replaced for these two variables throughout the dataframe; this may help avoid careless errors later.  It would also make me more comfortable to convert the columns with dtype 'object' to strings."
   ]
  },
  {
   "cell_type": "code",
   "execution_count": 9,
   "metadata": {},
   "outputs": [
    {
     "data": {
      "text/plain": [
       "Kingdom         object\n",
       "DNAtype         object\n",
       "SpeciesID        int64\n",
       "Ncodons          int64\n",
       "SpeciesName     object\n",
       "                ...   \n",
       "GAA            float64\n",
       "GAG            float64\n",
       "UAA            float64\n",
       "UAG            float64\n",
       "UGA            float64\n",
       "Length: 69, dtype: object"
      ]
     },
     "execution_count": 9,
     "metadata": {},
     "output_type": "execute_result"
    }
   ],
   "source": [
    "codon_usage['Kingdom'] = codon_usage['Kingdom'].astype('str')\n",
    "codon_usage['DNAtype'] = codon_usage['DNAtype'].astype('str')\n",
    "codon_usage['SpeciesName'] = codon_usage['SpeciesName'].astype('str')\n",
    "codon_usage.dtypes"
   ]
  },
  {
   "cell_type": "markdown",
   "metadata": {},
   "source": [
    "This somehow failed to convert the columns to strings as desired.  Searching the internet for solutions, I came across something akin to this:"
   ]
  },
  {
   "cell_type": "code",
   "execution_count": 35,
   "metadata": {},
   "outputs": [
    {
     "data": {
      "text/plain": [
       "Kingdom           |S13\n",
       "DNAtype           |S22\n",
       "SpeciesID        int64\n",
       "Ncodons          int64\n",
       "SpeciesName       |S67\n",
       "                ...   \n",
       "GAA            float64\n",
       "GAG            float64\n",
       "UAA            float64\n",
       "UAG            float64\n",
       "UGA            float64\n",
       "Length: 69, dtype: object"
      ]
     },
     "execution_count": 35,
     "metadata": {},
     "output_type": "execute_result"
    }
   ],
   "source": [
    "'''codon_usage['Kingdom'] = codon_usage['Kingdom'].astype('|S')\n",
    "codon_usage['DNAtype'] = codon_usage['DNAtype'].astype('|S')\n",
    "codon_usage['SpeciesName'] = codon_usage['SpeciesName'].astype('|S')\n",
    "codon_usage.dtypes'''"
   ]
  },
  {
   "cell_type": "markdown",
   "metadata": {},
   "source": [
    "This is something new to me.  I'm unfamiliar with the \"|Sn\" datatype, but looking at the values n, my first guess is that these represent string datatypes in which the n refers to the maximum string length.  I need to find some resources to read more about this.  However, I'll take it for granted that these are now string datatypes.  It would also be prudent to inspect some values:\n"
   ]
  },
  {
   "cell_type": "code",
   "execution_count": 36,
   "metadata": {
    "scrolled": true
   },
   "outputs": [
    {
     "name": "stdout",
     "output_type": "stream",
     "text": [
      "5150          b'Thermofilum pendens Hrk 5'\n",
      "5151    b'Desulfitobacterium dehalogenans'\n",
      "5152                b'Brucella melitensis'\n",
      "5153         b'Thiobacillus denitrificans'\n",
      "5154             b'Ideonella dechloratans'\n",
      "Name: SpeciesName, dtype: bytes536\n",
      "5150    b'genomic'\n",
      "5151    b'genomic'\n",
      "5152    b'genomic'\n",
      "5153    b'genomic'\n",
      "5154    b'genomic'\n",
      "Name: DNAtype, dtype: bytes176\n",
      "5150     b'archaea'\n",
      "5151    b'bacteria'\n",
      "5152    b'bacteria'\n",
      "5153    b'bacteria'\n",
      "5154    b'bacteria'\n",
      "Name: Kingdom, dtype: bytes104\n"
     ]
    }
   ],
   "source": [
    "'''print(codon_usage['SpeciesName'][5150:5155])\n",
    "print(codon_usage['DNAtype'][5150:5155])\n",
    "print(codon_usage['Kingdom'][5150:5155])\n",
    "'''\n"
   ]
  },
  {
   "cell_type": "markdown",
   "metadata": {},
   "source": [
    "Oddly, all of the values are now preceded by a lower case 'b', and then surrounded by single quotes.  This, too, should be cleaned up - or some other solution to the type conversion problem needs to be found.  (Update:  some other solution needs to be found.)"
   ]
  },
  {
   "cell_type": "code",
   "execution_count": 46,
   "metadata": {},
   "outputs": [
    {
     "name": "stdout",
     "output_type": "stream",
     "text": [
      "5150          Thermofilum pendens Hrk 5\n",
      "5151    Desulfitobacterium dehalogenans\n",
      "5152                Brucella melitensis\n",
      "5153         Thiobacillus denitrificans\n",
      "5154             Ideonella dechloratans\n",
      "Name: SpeciesName, dtype: object\n",
      "5150    genomic\n",
      "5151    genomic\n",
      "5152    genomic\n",
      "5153    genomic\n",
      "5154    genomic\n",
      "Name: DNAtype, dtype: object\n",
      "5150     archaea\n",
      "5151    bacteria\n",
      "5152    bacteria\n",
      "5153    bacteria\n",
      "5154    bacteria\n",
      "Name: Kingdom, dtype: object\n"
     ]
    }
   ],
   "source": [
    "print(codon_usage['SpeciesName'][5150:5155])\n",
    "print(codon_usage['DNAtype'][5150:5155])\n",
    "print(codon_usage['Kingdom'][5150:5155])"
   ]
  },
  {
   "cell_type": "markdown",
   "metadata": {},
   "source": [
    "Having commented out the \"|S\" conversion, the values seem to be reverted to normal.  Perhaps the fact that these data are \"object\" type isn't terribly important."
   ]
  },
  {
   "cell_type": "code",
   "execution_count": 53,
   "metadata": {},
   "outputs": [
    {
     "data": {
      "text/plain": [
       "dtype('O')"
      ]
     },
     "execution_count": 53,
     "metadata": {},
     "output_type": "execute_result"
    }
   ],
   "source": [
    "codon_usage[\"Kingdom\"].dtype"
   ]
  },
  {
   "cell_type": "code",
   "execution_count": 54,
   "metadata": {},
   "outputs": [
    {
     "data": {
      "text/plain": [
       "str"
      ]
     },
     "execution_count": 54,
     "metadata": {},
     "output_type": "execute_result"
    }
   ],
   "source": [
    "type(codon_usage[\"Kingdom\"][512])"
   ]
  },
  {
   "cell_type": "markdown",
   "metadata": {},
   "source": [
    "It appears that while the series themselves are objects, the individual values are strings.  Still, for those columns with many repeated values (that is, 'Kingdom' and 'DNAtype') it would be prudent to convert them to categories."
   ]
  },
  {
   "cell_type": "code",
   "execution_count": 10,
   "metadata": {},
   "outputs": [
    {
     "data": {
      "text/plain": [
       "Kingdom        category\n",
       "DNAtype        category\n",
       "SpeciesID         int64\n",
       "Ncodons           int64\n",
       "SpeciesName      object\n",
       "                 ...   \n",
       "GAA             float64\n",
       "GAG             float64\n",
       "UAA             float64\n",
       "UAG             float64\n",
       "UGA             float64\n",
       "Length: 69, dtype: object"
      ]
     },
     "execution_count": 10,
     "metadata": {},
     "output_type": "execute_result"
    }
   ],
   "source": [
    "codon_usage['Kingdom'] = codon_usage['Kingdom'].astype('category')\n",
    "codon_usage['DNAtype'] = codon_usage['DNAtype'].astype('category')\n",
    "codon_usage.dtypes"
   ]
  },
  {
   "cell_type": "markdown",
   "metadata": {},
   "source": [
    "That seems to have worked.  It will also be helpful, for some of the things that might be analyzed, to connect the codons to the amino acids they encode.  I'm going to attempt this by means of a dictionary."
   ]
  },
  {
   "cell_type": "code",
   "execution_count": 11,
   "metadata": {},
   "outputs": [
    {
     "data": {
      "text/plain": [
       "dict_items([('alanine', ['GCU', 'GCC', 'GCA', 'GCG']), ('arginine', ['CGU', 'CGC', 'CGA', 'CGG', 'AGA', 'AGG']), ('asparagine', ['AAU', 'AAC']), ('aspartic acid', ['GAU', 'GAC']), ('cysteine', ['UGU', 'UGC']), ('glutamine', ['CAA', 'CAG']), ('glutamic acid', ['GAA', 'GAG']), ('glycine', ['GGU', 'GGC', 'GGA', 'GGG']), ('histidine', ['CAU', 'CAC']), ('isoleucine', ['AUU', 'AUC', 'AUA']), ('leucine', ['CUU', 'CUC', 'CUA', 'CUG', 'UUA', 'UUG']), ('lysine', ['AAA', 'AAG']), ('methionine', ['AUG']), ('phenylalanine', ['UUU', 'UUC']), ('proline', ['CCU', 'CCC', 'CCA', 'CCG']), ('serine', ['UCU', 'UCC', 'UCA', 'UCG', 'AGU', 'AGC']), ('threonine', ['ACU', 'ACC', 'ACA', 'ACG']), ('tryptophan', ['UGG']), ('tyrosine', ['UAU', 'UAC']), ('valine', ['GUU', 'GUC', 'GUA', 'GUG']), ('start', ['AUG']), ('stop', ['UAA', 'UAG', 'UGA'])])"
      ]
     },
     "execution_count": 11,
     "metadata": {},
     "output_type": "execute_result"
    }
   ],
   "source": [
    "# Because one of the things I'd like to explore in this dataset is codon bias, I'm going to need to get the totals for\n",
    "# each amino acid. Here's a dictionary to link amino acids to codons, as taken from\n",
    "# https://teaching.healthtech.dtu.dk/22110/index.php/Codon_list\n",
    "\n",
    "# T's switched to U's, to conform with the original dataset\n",
    "\n",
    "amino_codons = {'alanine': ['GCU', 'GCC', 'GCA', 'GCG'], \n",
    "                'arginine': ['CGU', 'CGC', 'CGA', 'CGG', 'AGA', 'AGG'],\n",
    "                'asparagine': ['AAU', 'AAC'],\n",
    "                'aspartic acid': ['GAU', 'GAC'],\n",
    "                'cysteine': ['UGU', 'UGC'], \n",
    "                'glutamine': ['CAA', 'CAG'],\n",
    "                'glutamic acid': ['GAA', 'GAG'],\n",
    "                'glycine': ['GGU', 'GGC', 'GGA', 'GGG'],\n",
    "                'histidine': ['CAU', 'CAC'], \n",
    "                'isoleucine': ['AUU', 'AUC', 'AUA'], \n",
    "                'leucine': ['CUU', 'CUC', 'CUA', 'CUG', 'UUA', 'UUG'],\n",
    "                'lysine': ['AAA', 'AAG'], \n",
    "                'methionine': ['AUG'], \n",
    "                'phenylalanine': ['UUU', 'UUC'], \n",
    "                'proline': ['CCU', 'CCC', 'CCA', 'CCG'],\n",
    "                'serine': ['UCU', 'UCC', 'UCA', 'UCG', 'AGU', 'AGC'], \n",
    "                'threonine': ['ACU', 'ACC', 'ACA', 'ACG'], \n",
    "                'tryptophan': ['UGG'],\n",
    "                'tyrosine': ['UAU', 'UAC'], \n",
    "                'valine': ['GUU', 'GUC', 'GUA', 'GUG'], \n",
    "                'start': ['AUG'], \n",
    "                'stop': ['UAA', 'UAG', 'UGA']}\n",
    "\n",
    "amino_codons.items()"
   ]
  },
  {
   "cell_type": "code",
   "execution_count": 12,
   "metadata": {},
   "outputs": [
    {
     "ename": "TypeError",
     "evalue": "unsupported operand type(s) for +: 'int' and 'str'",
     "output_type": "error",
     "traceback": [
      "\u001b[1;31m---------------------------------------------------------------------------\u001b[0m",
      "\u001b[1;31mTypeError\u001b[0m                                 Traceback (most recent call last)",
      "\u001b[1;32m~\\Anaconda3\\lib\\site-packages\\pandas\\core\\ops\\array_ops.py\u001b[0m in \u001b[0;36m_na_arithmetic_op\u001b[1;34m(left, right, op, is_cmp)\u001b[0m\n\u001b[0;32m    141\u001b[0m     \u001b[1;32mtry\u001b[0m\u001b[1;33m:\u001b[0m\u001b[1;33m\u001b[0m\u001b[1;33m\u001b[0m\u001b[0m\n\u001b[1;32m--> 142\u001b[1;33m         \u001b[0mresult\u001b[0m \u001b[1;33m=\u001b[0m \u001b[0mexpressions\u001b[0m\u001b[1;33m.\u001b[0m\u001b[0mevaluate\u001b[0m\u001b[1;33m(\u001b[0m\u001b[0mop\u001b[0m\u001b[1;33m,\u001b[0m \u001b[0mleft\u001b[0m\u001b[1;33m,\u001b[0m \u001b[0mright\u001b[0m\u001b[1;33m)\u001b[0m\u001b[1;33m\u001b[0m\u001b[1;33m\u001b[0m\u001b[0m\n\u001b[0m\u001b[0;32m    143\u001b[0m     \u001b[1;32mexcept\u001b[0m \u001b[0mTypeError\u001b[0m\u001b[1;33m:\u001b[0m\u001b[1;33m\u001b[0m\u001b[1;33m\u001b[0m\u001b[0m\n",
      "\u001b[1;32m~\\Anaconda3\\lib\\site-packages\\pandas\\core\\computation\\expressions.py\u001b[0m in \u001b[0;36mevaluate\u001b[1;34m(op, a, b, use_numexpr)\u001b[0m\n\u001b[0;32m    234\u001b[0m             \u001b[1;31m# error: \"None\" not callable\u001b[0m\u001b[1;33m\u001b[0m\u001b[1;33m\u001b[0m\u001b[1;33m\u001b[0m\u001b[0m\n\u001b[1;32m--> 235\u001b[1;33m             \u001b[1;32mreturn\u001b[0m \u001b[0m_evaluate\u001b[0m\u001b[1;33m(\u001b[0m\u001b[0mop\u001b[0m\u001b[1;33m,\u001b[0m \u001b[0mop_str\u001b[0m\u001b[1;33m,\u001b[0m \u001b[0ma\u001b[0m\u001b[1;33m,\u001b[0m \u001b[0mb\u001b[0m\u001b[1;33m)\u001b[0m  \u001b[1;31m# type: ignore[misc]\u001b[0m\u001b[1;33m\u001b[0m\u001b[1;33m\u001b[0m\u001b[0m\n\u001b[0m\u001b[0;32m    236\u001b[0m     \u001b[1;32mreturn\u001b[0m \u001b[0m_evaluate_standard\u001b[0m\u001b[1;33m(\u001b[0m\u001b[0mop\u001b[0m\u001b[1;33m,\u001b[0m \u001b[0mop_str\u001b[0m\u001b[1;33m,\u001b[0m \u001b[0ma\u001b[0m\u001b[1;33m,\u001b[0m \u001b[0mb\u001b[0m\u001b[1;33m)\u001b[0m\u001b[1;33m\u001b[0m\u001b[1;33m\u001b[0m\u001b[0m\n",
      "\u001b[1;32m~\\Anaconda3\\lib\\site-packages\\pandas\\core\\computation\\expressions.py\u001b[0m in \u001b[0;36m_evaluate_numexpr\u001b[1;34m(op, op_str, a, b)\u001b[0m\n\u001b[0;32m    119\u001b[0m     \u001b[1;32mif\u001b[0m \u001b[0mresult\u001b[0m \u001b[1;32mis\u001b[0m \u001b[1;32mNone\u001b[0m\u001b[1;33m:\u001b[0m\u001b[1;33m\u001b[0m\u001b[1;33m\u001b[0m\u001b[0m\n\u001b[1;32m--> 120\u001b[1;33m         \u001b[0mresult\u001b[0m \u001b[1;33m=\u001b[0m \u001b[0m_evaluate_standard\u001b[0m\u001b[1;33m(\u001b[0m\u001b[0mop\u001b[0m\u001b[1;33m,\u001b[0m \u001b[0mop_str\u001b[0m\u001b[1;33m,\u001b[0m \u001b[0ma\u001b[0m\u001b[1;33m,\u001b[0m \u001b[0mb\u001b[0m\u001b[1;33m)\u001b[0m\u001b[1;33m\u001b[0m\u001b[1;33m\u001b[0m\u001b[0m\n\u001b[0m\u001b[0;32m    121\u001b[0m \u001b[1;33m\u001b[0m\u001b[0m\n",
      "\u001b[1;32m~\\Anaconda3\\lib\\site-packages\\pandas\\core\\computation\\expressions.py\u001b[0m in \u001b[0;36m_evaluate_standard\u001b[1;34m(op, op_str, a, b)\u001b[0m\n\u001b[0;32m     68\u001b[0m     \u001b[1;32mwith\u001b[0m \u001b[0mnp\u001b[0m\u001b[1;33m.\u001b[0m\u001b[0merrstate\u001b[0m\u001b[1;33m(\u001b[0m\u001b[0mall\u001b[0m\u001b[1;33m=\u001b[0m\u001b[1;34m\"ignore\"\u001b[0m\u001b[1;33m)\u001b[0m\u001b[1;33m:\u001b[0m\u001b[1;33m\u001b[0m\u001b[1;33m\u001b[0m\u001b[0m\n\u001b[1;32m---> 69\u001b[1;33m         \u001b[1;32mreturn\u001b[0m \u001b[0mop\u001b[0m\u001b[1;33m(\u001b[0m\u001b[0ma\u001b[0m\u001b[1;33m,\u001b[0m \u001b[0mb\u001b[0m\u001b[1;33m)\u001b[0m\u001b[1;33m\u001b[0m\u001b[1;33m\u001b[0m\u001b[0m\n\u001b[0m\u001b[0;32m     70\u001b[0m \u001b[1;33m\u001b[0m\u001b[0m\n",
      "\u001b[1;31mTypeError\u001b[0m: unsupported operand type(s) for +: 'int' and 'str'",
      "\nDuring handling of the above exception, another exception occurred:\n",
      "\u001b[1;31mTypeError\u001b[0m                                 Traceback (most recent call last)",
      "\u001b[1;32m<ipython-input-12-503e55b30452>\u001b[0m in \u001b[0;36m<module>\u001b[1;34m\u001b[0m\n\u001b[0;32m      5\u001b[0m     \u001b[0mcodon_usage\u001b[0m\u001b[1;33m[\u001b[0m\u001b[0mamino\u001b[0m\u001b[1;33m]\u001b[0m \u001b[1;33m=\u001b[0m \u001b[1;36m0\u001b[0m\u001b[1;33m\u001b[0m\u001b[1;33m\u001b[0m\u001b[0m\n\u001b[0;32m      6\u001b[0m     \u001b[1;32mfor\u001b[0m \u001b[0mcodon\u001b[0m \u001b[1;32min\u001b[0m \u001b[0mcodons\u001b[0m\u001b[1;33m:\u001b[0m\u001b[1;33m\u001b[0m\u001b[1;33m\u001b[0m\u001b[0m\n\u001b[1;32m----> 7\u001b[1;33m         \u001b[0mcodon_usage\u001b[0m\u001b[1;33m[\u001b[0m\u001b[0mamino\u001b[0m\u001b[1;33m]\u001b[0m \u001b[1;33m+=\u001b[0m \u001b[0mcodon_usage\u001b[0m\u001b[1;33m[\u001b[0m\u001b[0mcodon\u001b[0m\u001b[1;33m]\u001b[0m\u001b[1;33m\u001b[0m\u001b[1;33m\u001b[0m\u001b[0m\n\u001b[0m",
      "\u001b[1;32m~\\Anaconda3\\lib\\site-packages\\pandas\\core\\generic.py\u001b[0m in \u001b[0;36m__iadd__\u001b[1;34m(self, other)\u001b[0m\n\u001b[0;32m  11329\u001b[0m \u001b[1;33m\u001b[0m\u001b[0m\n\u001b[0;32m  11330\u001b[0m     \u001b[1;32mdef\u001b[0m \u001b[0m__iadd__\u001b[0m\u001b[1;33m(\u001b[0m\u001b[0mself\u001b[0m\u001b[1;33m,\u001b[0m \u001b[0mother\u001b[0m\u001b[1;33m)\u001b[0m\u001b[1;33m:\u001b[0m\u001b[1;33m\u001b[0m\u001b[1;33m\u001b[0m\u001b[0m\n\u001b[1;32m> 11331\u001b[1;33m         \u001b[1;32mreturn\u001b[0m \u001b[0mself\u001b[0m\u001b[1;33m.\u001b[0m\u001b[0m_inplace_method\u001b[0m\u001b[1;33m(\u001b[0m\u001b[0mother\u001b[0m\u001b[1;33m,\u001b[0m \u001b[0mtype\u001b[0m\u001b[1;33m(\u001b[0m\u001b[0mself\u001b[0m\u001b[1;33m)\u001b[0m\u001b[1;33m.\u001b[0m\u001b[0m__add__\u001b[0m\u001b[1;33m)\u001b[0m  \u001b[1;31m# type: ignore[operator]\u001b[0m\u001b[1;33m\u001b[0m\u001b[1;33m\u001b[0m\u001b[0m\n\u001b[0m\u001b[0;32m  11332\u001b[0m \u001b[1;33m\u001b[0m\u001b[0m\n\u001b[0;32m  11333\u001b[0m     \u001b[1;32mdef\u001b[0m \u001b[0m__isub__\u001b[0m\u001b[1;33m(\u001b[0m\u001b[0mself\u001b[0m\u001b[1;33m,\u001b[0m \u001b[0mother\u001b[0m\u001b[1;33m)\u001b[0m\u001b[1;33m:\u001b[0m\u001b[1;33m\u001b[0m\u001b[1;33m\u001b[0m\u001b[0m\n",
      "\u001b[1;32m~\\Anaconda3\\lib\\site-packages\\pandas\\core\\generic.py\u001b[0m in \u001b[0;36m_inplace_method\u001b[1;34m(self, other, op)\u001b[0m\n\u001b[0;32m  11307\u001b[0m         \u001b[0mWrap\u001b[0m \u001b[0marithmetic\u001b[0m \u001b[0mmethod\u001b[0m \u001b[0mto\u001b[0m \u001b[0moperate\u001b[0m \u001b[0minplace\u001b[0m\u001b[1;33m.\u001b[0m\u001b[1;33m\u001b[0m\u001b[1;33m\u001b[0m\u001b[0m\n\u001b[0;32m  11308\u001b[0m         \"\"\"\n\u001b[1;32m> 11309\u001b[1;33m         \u001b[0mresult\u001b[0m \u001b[1;33m=\u001b[0m \u001b[0mop\u001b[0m\u001b[1;33m(\u001b[0m\u001b[0mself\u001b[0m\u001b[1;33m,\u001b[0m \u001b[0mother\u001b[0m\u001b[1;33m)\u001b[0m\u001b[1;33m\u001b[0m\u001b[1;33m\u001b[0m\u001b[0m\n\u001b[0m\u001b[0;32m  11310\u001b[0m \u001b[1;33m\u001b[0m\u001b[0m\n\u001b[0;32m  11311\u001b[0m         if (\n",
      "\u001b[1;32m~\\Anaconda3\\lib\\site-packages\\pandas\\core\\ops\\common.py\u001b[0m in \u001b[0;36mnew_method\u001b[1;34m(self, other)\u001b[0m\n\u001b[0;32m     63\u001b[0m         \u001b[0mother\u001b[0m \u001b[1;33m=\u001b[0m \u001b[0mitem_from_zerodim\u001b[0m\u001b[1;33m(\u001b[0m\u001b[0mother\u001b[0m\u001b[1;33m)\u001b[0m\u001b[1;33m\u001b[0m\u001b[1;33m\u001b[0m\u001b[0m\n\u001b[0;32m     64\u001b[0m \u001b[1;33m\u001b[0m\u001b[0m\n\u001b[1;32m---> 65\u001b[1;33m         \u001b[1;32mreturn\u001b[0m \u001b[0mmethod\u001b[0m\u001b[1;33m(\u001b[0m\u001b[0mself\u001b[0m\u001b[1;33m,\u001b[0m \u001b[0mother\u001b[0m\u001b[1;33m)\u001b[0m\u001b[1;33m\u001b[0m\u001b[1;33m\u001b[0m\u001b[0m\n\u001b[0m\u001b[0;32m     66\u001b[0m \u001b[1;33m\u001b[0m\u001b[0m\n\u001b[0;32m     67\u001b[0m     \u001b[1;32mreturn\u001b[0m \u001b[0mnew_method\u001b[0m\u001b[1;33m\u001b[0m\u001b[1;33m\u001b[0m\u001b[0m\n",
      "\u001b[1;32m~\\Anaconda3\\lib\\site-packages\\pandas\\core\\arraylike.py\u001b[0m in \u001b[0;36m__add__\u001b[1;34m(self, other)\u001b[0m\n\u001b[0;32m     87\u001b[0m     \u001b[1;33m@\u001b[0m\u001b[0munpack_zerodim_and_defer\u001b[0m\u001b[1;33m(\u001b[0m\u001b[1;34m\"__add__\"\u001b[0m\u001b[1;33m)\u001b[0m\u001b[1;33m\u001b[0m\u001b[1;33m\u001b[0m\u001b[0m\n\u001b[0;32m     88\u001b[0m     \u001b[1;32mdef\u001b[0m \u001b[0m__add__\u001b[0m\u001b[1;33m(\u001b[0m\u001b[0mself\u001b[0m\u001b[1;33m,\u001b[0m \u001b[0mother\u001b[0m\u001b[1;33m)\u001b[0m\u001b[1;33m:\u001b[0m\u001b[1;33m\u001b[0m\u001b[1;33m\u001b[0m\u001b[0m\n\u001b[1;32m---> 89\u001b[1;33m         \u001b[1;32mreturn\u001b[0m \u001b[0mself\u001b[0m\u001b[1;33m.\u001b[0m\u001b[0m_arith_method\u001b[0m\u001b[1;33m(\u001b[0m\u001b[0mother\u001b[0m\u001b[1;33m,\u001b[0m \u001b[0moperator\u001b[0m\u001b[1;33m.\u001b[0m\u001b[0madd\u001b[0m\u001b[1;33m)\u001b[0m\u001b[1;33m\u001b[0m\u001b[1;33m\u001b[0m\u001b[0m\n\u001b[0m\u001b[0;32m     90\u001b[0m \u001b[1;33m\u001b[0m\u001b[0m\n\u001b[0;32m     91\u001b[0m     \u001b[1;33m@\u001b[0m\u001b[0munpack_zerodim_and_defer\u001b[0m\u001b[1;33m(\u001b[0m\u001b[1;34m\"__radd__\"\u001b[0m\u001b[1;33m)\u001b[0m\u001b[1;33m\u001b[0m\u001b[1;33m\u001b[0m\u001b[0m\n",
      "\u001b[1;32m~\\Anaconda3\\lib\\site-packages\\pandas\\core\\series.py\u001b[0m in \u001b[0;36m_arith_method\u001b[1;34m(self, other, op)\u001b[0m\n\u001b[0;32m   4996\u001b[0m         \u001b[0mlvalues\u001b[0m \u001b[1;33m=\u001b[0m \u001b[0mextract_array\u001b[0m\u001b[1;33m(\u001b[0m\u001b[0mself\u001b[0m\u001b[1;33m,\u001b[0m \u001b[0mextract_numpy\u001b[0m\u001b[1;33m=\u001b[0m\u001b[1;32mTrue\u001b[0m\u001b[1;33m)\u001b[0m\u001b[1;33m\u001b[0m\u001b[1;33m\u001b[0m\u001b[0m\n\u001b[0;32m   4997\u001b[0m         \u001b[0mrvalues\u001b[0m \u001b[1;33m=\u001b[0m \u001b[0mextract_array\u001b[0m\u001b[1;33m(\u001b[0m\u001b[0mother\u001b[0m\u001b[1;33m,\u001b[0m \u001b[0mextract_numpy\u001b[0m\u001b[1;33m=\u001b[0m\u001b[1;32mTrue\u001b[0m\u001b[1;33m)\u001b[0m\u001b[1;33m\u001b[0m\u001b[1;33m\u001b[0m\u001b[0m\n\u001b[1;32m-> 4998\u001b[1;33m         \u001b[0mresult\u001b[0m \u001b[1;33m=\u001b[0m \u001b[0mops\u001b[0m\u001b[1;33m.\u001b[0m\u001b[0marithmetic_op\u001b[0m\u001b[1;33m(\u001b[0m\u001b[0mlvalues\u001b[0m\u001b[1;33m,\u001b[0m \u001b[0mrvalues\u001b[0m\u001b[1;33m,\u001b[0m \u001b[0mop\u001b[0m\u001b[1;33m)\u001b[0m\u001b[1;33m\u001b[0m\u001b[1;33m\u001b[0m\u001b[0m\n\u001b[0m\u001b[0;32m   4999\u001b[0m \u001b[1;33m\u001b[0m\u001b[0m\n\u001b[0;32m   5000\u001b[0m         \u001b[1;32mreturn\u001b[0m \u001b[0mself\u001b[0m\u001b[1;33m.\u001b[0m\u001b[0m_construct_result\u001b[0m\u001b[1;33m(\u001b[0m\u001b[0mresult\u001b[0m\u001b[1;33m,\u001b[0m \u001b[0mname\u001b[0m\u001b[1;33m=\u001b[0m\u001b[0mres_name\u001b[0m\u001b[1;33m)\u001b[0m\u001b[1;33m\u001b[0m\u001b[1;33m\u001b[0m\u001b[0m\n",
      "\u001b[1;32m~\\Anaconda3\\lib\\site-packages\\pandas\\core\\ops\\array_ops.py\u001b[0m in \u001b[0;36marithmetic_op\u001b[1;34m(left, right, op)\u001b[0m\n\u001b[0;32m    187\u001b[0m     \u001b[1;32melse\u001b[0m\u001b[1;33m:\u001b[0m\u001b[1;33m\u001b[0m\u001b[1;33m\u001b[0m\u001b[0m\n\u001b[0;32m    188\u001b[0m         \u001b[1;32mwith\u001b[0m \u001b[0mnp\u001b[0m\u001b[1;33m.\u001b[0m\u001b[0merrstate\u001b[0m\u001b[1;33m(\u001b[0m\u001b[0mall\u001b[0m\u001b[1;33m=\u001b[0m\u001b[1;34m\"ignore\"\u001b[0m\u001b[1;33m)\u001b[0m\u001b[1;33m:\u001b[0m\u001b[1;33m\u001b[0m\u001b[1;33m\u001b[0m\u001b[0m\n\u001b[1;32m--> 189\u001b[1;33m             \u001b[0mres_values\u001b[0m \u001b[1;33m=\u001b[0m \u001b[0m_na_arithmetic_op\u001b[0m\u001b[1;33m(\u001b[0m\u001b[0mlvalues\u001b[0m\u001b[1;33m,\u001b[0m \u001b[0mrvalues\u001b[0m\u001b[1;33m,\u001b[0m \u001b[0mop\u001b[0m\u001b[1;33m)\u001b[0m\u001b[1;33m\u001b[0m\u001b[1;33m\u001b[0m\u001b[0m\n\u001b[0m\u001b[0;32m    190\u001b[0m \u001b[1;33m\u001b[0m\u001b[0m\n\u001b[0;32m    191\u001b[0m     \u001b[1;32mreturn\u001b[0m \u001b[0mres_values\u001b[0m\u001b[1;33m\u001b[0m\u001b[1;33m\u001b[0m\u001b[0m\n",
      "\u001b[1;32m~\\Anaconda3\\lib\\site-packages\\pandas\\core\\ops\\array_ops.py\u001b[0m in \u001b[0;36m_na_arithmetic_op\u001b[1;34m(left, right, op, is_cmp)\u001b[0m\n\u001b[0;32m    147\u001b[0m             \u001b[1;31m#  will handle complex numbers incorrectly, see GH#32047\u001b[0m\u001b[1;33m\u001b[0m\u001b[1;33m\u001b[0m\u001b[1;33m\u001b[0m\u001b[0m\n\u001b[0;32m    148\u001b[0m             \u001b[1;32mraise\u001b[0m\u001b[1;33m\u001b[0m\u001b[1;33m\u001b[0m\u001b[0m\n\u001b[1;32m--> 149\u001b[1;33m         \u001b[0mresult\u001b[0m \u001b[1;33m=\u001b[0m \u001b[0m_masked_arith_op\u001b[0m\u001b[1;33m(\u001b[0m\u001b[0mleft\u001b[0m\u001b[1;33m,\u001b[0m \u001b[0mright\u001b[0m\u001b[1;33m,\u001b[0m \u001b[0mop\u001b[0m\u001b[1;33m)\u001b[0m\u001b[1;33m\u001b[0m\u001b[1;33m\u001b[0m\u001b[0m\n\u001b[0m\u001b[0;32m    150\u001b[0m \u001b[1;33m\u001b[0m\u001b[0m\n\u001b[0;32m    151\u001b[0m     \u001b[1;32mif\u001b[0m \u001b[0mis_cmp\u001b[0m \u001b[1;32mand\u001b[0m \u001b[1;33m(\u001b[0m\u001b[0mis_scalar\u001b[0m\u001b[1;33m(\u001b[0m\u001b[0mresult\u001b[0m\u001b[1;33m)\u001b[0m \u001b[1;32mor\u001b[0m \u001b[0mresult\u001b[0m \u001b[1;32mis\u001b[0m \u001b[0mNotImplemented\u001b[0m\u001b[1;33m)\u001b[0m\u001b[1;33m:\u001b[0m\u001b[1;33m\u001b[0m\u001b[1;33m\u001b[0m\u001b[0m\n",
      "\u001b[1;32m~\\Anaconda3\\lib\\site-packages\\pandas\\core\\ops\\array_ops.py\u001b[0m in \u001b[0;36m_masked_arith_op\u001b[1;34m(x, y, op)\u001b[0m\n\u001b[0;32m     89\u001b[0m         \u001b[1;32mif\u001b[0m \u001b[0mmask\u001b[0m\u001b[1;33m.\u001b[0m\u001b[0many\u001b[0m\u001b[1;33m(\u001b[0m\u001b[1;33m)\u001b[0m\u001b[1;33m:\u001b[0m\u001b[1;33m\u001b[0m\u001b[1;33m\u001b[0m\u001b[0m\n\u001b[0;32m     90\u001b[0m             \u001b[1;32mwith\u001b[0m \u001b[0mnp\u001b[0m\u001b[1;33m.\u001b[0m\u001b[0merrstate\u001b[0m\u001b[1;33m(\u001b[0m\u001b[0mall\u001b[0m\u001b[1;33m=\u001b[0m\u001b[1;34m\"ignore\"\u001b[0m\u001b[1;33m)\u001b[0m\u001b[1;33m:\u001b[0m\u001b[1;33m\u001b[0m\u001b[1;33m\u001b[0m\u001b[0m\n\u001b[1;32m---> 91\u001b[1;33m                 \u001b[0mresult\u001b[0m\u001b[1;33m[\u001b[0m\u001b[0mmask\u001b[0m\u001b[1;33m]\u001b[0m \u001b[1;33m=\u001b[0m \u001b[0mop\u001b[0m\u001b[1;33m(\u001b[0m\u001b[0mxrav\u001b[0m\u001b[1;33m[\u001b[0m\u001b[0mmask\u001b[0m\u001b[1;33m]\u001b[0m\u001b[1;33m,\u001b[0m \u001b[0myrav\u001b[0m\u001b[1;33m[\u001b[0m\u001b[0mmask\u001b[0m\u001b[1;33m]\u001b[0m\u001b[1;33m)\u001b[0m\u001b[1;33m\u001b[0m\u001b[1;33m\u001b[0m\u001b[0m\n\u001b[0m\u001b[0;32m     92\u001b[0m \u001b[1;33m\u001b[0m\u001b[0m\n\u001b[0;32m     93\u001b[0m     \u001b[1;32melse\u001b[0m\u001b[1;33m:\u001b[0m\u001b[1;33m\u001b[0m\u001b[1;33m\u001b[0m\u001b[0m\n",
      "\u001b[1;31mTypeError\u001b[0m: unsupported operand type(s) for +: 'int' and 'str'"
     ]
    }
   ],
   "source": [
    "# Now for the tricky part:  creating a new column for the frequency of each amino acid, taking the sum of all of the \n",
    "# frequencies of the codons that correspond to that amino acid\n",
    "\n",
    "for amino, codons in amino_codons.items():\n",
    "    codon_usage[amino] = 0\n",
    "    for codon in codons:\n",
    "        codon_usage[amino] += codon_usage[codon]\n"
   ]
  },
  {
   "cell_type": "markdown",
   "metadata": {},
   "source": [
    "This is unexpected and unfortunate.  I sandboxed this method and it worked beautifully.  What's the issue?  Why would any of these values present as strings?"
   ]
  },
  {
   "cell_type": "code",
   "execution_count": 13,
   "metadata": {},
   "outputs": [
    {
     "name": "stdout",
     "output_type": "stream",
     "text": [
      "GCU: float64\n",
      "GCC: float64\n",
      "GCA: float64\n",
      "GCG: float64\n",
      "CGU: float64\n",
      "CGC: float64\n",
      "CGA: float64\n",
      "CGG: float64\n",
      "AGA: float64\n",
      "AGG: float64\n",
      "AAU: float64\n",
      "AAC: float64\n",
      "GAU: float64\n",
      "GAC: float64\n",
      "UGU: float64\n",
      "UGC: float64\n",
      "CAA: float64\n",
      "CAG: float64\n",
      "GAA: float64\n",
      "GAG: float64\n",
      "GGU: float64\n",
      "GGC: float64\n",
      "GGA: float64\n",
      "GGG: float64\n",
      "CAU: float64\n",
      "CAC: float64\n",
      "AUU: float64\n",
      "AUC: float64\n",
      "AUA: float64\n",
      "CUU: float64\n",
      "CUC: float64\n",
      "CUA: float64\n",
      "CUG: float64\n",
      "UUA: float64\n",
      "UUG: float64\n",
      "AAA: float64\n",
      "AAG: float64\n",
      "AUG: float64\n",
      "UUU: object\n",
      "UUC: object\n",
      "CCU: float64\n",
      "CCC: float64\n",
      "CCA: float64\n",
      "CCG: float64\n",
      "UCU: float64\n",
      "UCC: float64\n",
      "UCA: float64\n",
      "UCG: float64\n",
      "AGU: float64\n",
      "AGC: float64\n",
      "ACU: float64\n",
      "ACC: float64\n",
      "ACA: float64\n",
      "ACG: float64\n",
      "UGG: float64\n",
      "UAU: float64\n",
      "UAC: float64\n",
      "GUU: float64\n",
      "GUC: float64\n",
      "GUA: float64\n",
      "GUG: float64\n",
      "AUG: float64\n",
      "UAA: float64\n",
      "UAG: float64\n",
      "UGA: float64\n"
     ]
    }
   ],
   "source": [
    "\n",
    "\n",
    "for amino, codons in amino_codons.items():\n",
    "    for codon in codons:\n",
    "        print(codon+':', codon_usage[codon].dtype)\n"
   ]
  },
  {
   "cell_type": "markdown",
   "metadata": {},
   "source": [
    "Ok, so now codons 'UUU' and 'UUC' are appearing as objects?  Interestingly, these are the two codons that correspond to phenylalanine."
   ]
  },
  {
   "cell_type": "code",
   "execution_count": 14,
   "metadata": {},
   "outputs": [
    {
     "data": {
      "text/html": [
       "<div>\n",
       "<style scoped>\n",
       "    .dataframe tbody tr th:only-of-type {\n",
       "        vertical-align: middle;\n",
       "    }\n",
       "\n",
       "    .dataframe tbody tr th {\n",
       "        vertical-align: top;\n",
       "    }\n",
       "\n",
       "    .dataframe thead th {\n",
       "        text-align: right;\n",
       "    }\n",
       "</style>\n",
       "<table border=\"1\" class=\"dataframe\">\n",
       "  <thead>\n",
       "    <tr style=\"text-align: right;\">\n",
       "      <th></th>\n",
       "      <th>UUU</th>\n",
       "      <th>UUC</th>\n",
       "    </tr>\n",
       "  </thead>\n",
       "  <tbody>\n",
       "    <tr>\n",
       "      <th>0</th>\n",
       "      <td>0.01654</td>\n",
       "      <td>0.01203</td>\n",
       "    </tr>\n",
       "    <tr>\n",
       "      <th>1</th>\n",
       "      <td>0.02714</td>\n",
       "      <td>0.01357</td>\n",
       "    </tr>\n",
       "    <tr>\n",
       "      <th>2</th>\n",
       "      <td>0.01974</td>\n",
       "      <td>0.0218</td>\n",
       "    </tr>\n",
       "    <tr>\n",
       "      <th>3</th>\n",
       "      <td>0.01775</td>\n",
       "      <td>0.02245</td>\n",
       "    </tr>\n",
       "    <tr>\n",
       "      <th>4</th>\n",
       "      <td>0.02816</td>\n",
       "      <td>0.01371</td>\n",
       "    </tr>\n",
       "  </tbody>\n",
       "</table>\n",
       "</div>"
      ],
      "text/plain": [
       "       UUU      UUC\n",
       "0  0.01654  0.01203\n",
       "1  0.02714  0.01357\n",
       "2  0.01974   0.0218\n",
       "3  0.01775  0.02245\n",
       "4  0.02816  0.01371"
      ]
     },
     "execution_count": 14,
     "metadata": {},
     "output_type": "execute_result"
    }
   ],
   "source": [
    "codon_usage[['UUU', 'UUC']].head()\n"
   ]
  },
  {
   "cell_type": "markdown",
   "metadata": {},
   "source": [
    "This looks normal enough!  Perhaps a simple type conversion will fix this."
   ]
  },
  {
   "cell_type": "code",
   "execution_count": 15,
   "metadata": {},
   "outputs": [
    {
     "ename": "ValueError",
     "evalue": "could not convert string to float: 'non-B hepatitis virus'",
     "output_type": "error",
     "traceback": [
      "\u001b[1;31m---------------------------------------------------------------------------\u001b[0m",
      "\u001b[1;31mValueError\u001b[0m                                Traceback (most recent call last)",
      "\u001b[1;32m<ipython-input-15-60dac27861ec>\u001b[0m in \u001b[0;36m<module>\u001b[1;34m\u001b[0m\n\u001b[1;32m----> 1\u001b[1;33m \u001b[0mcodon_usage\u001b[0m\u001b[1;33m[\u001b[0m\u001b[1;34m'UUU'\u001b[0m\u001b[1;33m]\u001b[0m \u001b[1;33m=\u001b[0m \u001b[0mcodon_usage\u001b[0m\u001b[1;33m[\u001b[0m\u001b[1;34m'UUU'\u001b[0m\u001b[1;33m]\u001b[0m\u001b[1;33m.\u001b[0m\u001b[0mastype\u001b[0m\u001b[1;33m(\u001b[0m\u001b[1;34m'float64'\u001b[0m\u001b[1;33m)\u001b[0m\u001b[1;33m\u001b[0m\u001b[1;33m\u001b[0m\u001b[0m\n\u001b[0m\u001b[0;32m      2\u001b[0m \u001b[0mcodon_usage\u001b[0m\u001b[1;33m[\u001b[0m\u001b[1;34m'UUC'\u001b[0m\u001b[1;33m]\u001b[0m \u001b[1;33m=\u001b[0m \u001b[0mcodon_usage\u001b[0m\u001b[1;33m[\u001b[0m\u001b[1;34m'UUC'\u001b[0m\u001b[1;33m]\u001b[0m\u001b[1;33m.\u001b[0m\u001b[0mastype\u001b[0m\u001b[1;33m(\u001b[0m\u001b[1;34m'float64'\u001b[0m\u001b[1;33m)\u001b[0m\u001b[1;33m\u001b[0m\u001b[1;33m\u001b[0m\u001b[0m\n",
      "\u001b[1;32m~\\Anaconda3\\lib\\site-packages\\pandas\\core\\generic.py\u001b[0m in \u001b[0;36mastype\u001b[1;34m(self, dtype, copy, errors)\u001b[0m\n\u001b[0;32m   5875\u001b[0m         \u001b[1;32melse\u001b[0m\u001b[1;33m:\u001b[0m\u001b[1;33m\u001b[0m\u001b[1;33m\u001b[0m\u001b[0m\n\u001b[0;32m   5876\u001b[0m             \u001b[1;31m# else, only a single dtype is given\u001b[0m\u001b[1;33m\u001b[0m\u001b[1;33m\u001b[0m\u001b[1;33m\u001b[0m\u001b[0m\n\u001b[1;32m-> 5877\u001b[1;33m             \u001b[0mnew_data\u001b[0m \u001b[1;33m=\u001b[0m \u001b[0mself\u001b[0m\u001b[1;33m.\u001b[0m\u001b[0m_mgr\u001b[0m\u001b[1;33m.\u001b[0m\u001b[0mastype\u001b[0m\u001b[1;33m(\u001b[0m\u001b[0mdtype\u001b[0m\u001b[1;33m=\u001b[0m\u001b[0mdtype\u001b[0m\u001b[1;33m,\u001b[0m \u001b[0mcopy\u001b[0m\u001b[1;33m=\u001b[0m\u001b[0mcopy\u001b[0m\u001b[1;33m,\u001b[0m \u001b[0merrors\u001b[0m\u001b[1;33m=\u001b[0m\u001b[0merrors\u001b[0m\u001b[1;33m)\u001b[0m\u001b[1;33m\u001b[0m\u001b[1;33m\u001b[0m\u001b[0m\n\u001b[0m\u001b[0;32m   5878\u001b[0m             \u001b[1;32mreturn\u001b[0m \u001b[0mself\u001b[0m\u001b[1;33m.\u001b[0m\u001b[0m_constructor\u001b[0m\u001b[1;33m(\u001b[0m\u001b[0mnew_data\u001b[0m\u001b[1;33m)\u001b[0m\u001b[1;33m.\u001b[0m\u001b[0m__finalize__\u001b[0m\u001b[1;33m(\u001b[0m\u001b[0mself\u001b[0m\u001b[1;33m,\u001b[0m \u001b[0mmethod\u001b[0m\u001b[1;33m=\u001b[0m\u001b[1;34m\"astype\"\u001b[0m\u001b[1;33m)\u001b[0m\u001b[1;33m\u001b[0m\u001b[1;33m\u001b[0m\u001b[0m\n\u001b[0;32m   5879\u001b[0m \u001b[1;33m\u001b[0m\u001b[0m\n",
      "\u001b[1;32m~\\Anaconda3\\lib\\site-packages\\pandas\\core\\internals\\managers.py\u001b[0m in \u001b[0;36mastype\u001b[1;34m(self, dtype, copy, errors)\u001b[0m\n\u001b[0;32m    629\u001b[0m         \u001b[0mself\u001b[0m\u001b[1;33m,\u001b[0m \u001b[0mdtype\u001b[0m\u001b[1;33m,\u001b[0m \u001b[0mcopy\u001b[0m\u001b[1;33m:\u001b[0m \u001b[0mbool\u001b[0m \u001b[1;33m=\u001b[0m \u001b[1;32mFalse\u001b[0m\u001b[1;33m,\u001b[0m \u001b[0merrors\u001b[0m\u001b[1;33m:\u001b[0m \u001b[0mstr\u001b[0m \u001b[1;33m=\u001b[0m \u001b[1;34m\"raise\"\u001b[0m\u001b[1;33m\u001b[0m\u001b[1;33m\u001b[0m\u001b[0m\n\u001b[0;32m    630\u001b[0m     ) -> \"BlockManager\":\n\u001b[1;32m--> 631\u001b[1;33m         \u001b[1;32mreturn\u001b[0m \u001b[0mself\u001b[0m\u001b[1;33m.\u001b[0m\u001b[0mapply\u001b[0m\u001b[1;33m(\u001b[0m\u001b[1;34m\"astype\"\u001b[0m\u001b[1;33m,\u001b[0m \u001b[0mdtype\u001b[0m\u001b[1;33m=\u001b[0m\u001b[0mdtype\u001b[0m\u001b[1;33m,\u001b[0m \u001b[0mcopy\u001b[0m\u001b[1;33m=\u001b[0m\u001b[0mcopy\u001b[0m\u001b[1;33m,\u001b[0m \u001b[0merrors\u001b[0m\u001b[1;33m=\u001b[0m\u001b[0merrors\u001b[0m\u001b[1;33m)\u001b[0m\u001b[1;33m\u001b[0m\u001b[1;33m\u001b[0m\u001b[0m\n\u001b[0m\u001b[0;32m    632\u001b[0m \u001b[1;33m\u001b[0m\u001b[0m\n\u001b[0;32m    633\u001b[0m     def convert(\n",
      "\u001b[1;32m~\\Anaconda3\\lib\\site-packages\\pandas\\core\\internals\\managers.py\u001b[0m in \u001b[0;36mapply\u001b[1;34m(self, f, align_keys, ignore_failures, **kwargs)\u001b[0m\n\u001b[0;32m    425\u001b[0m                     \u001b[0mapplied\u001b[0m \u001b[1;33m=\u001b[0m \u001b[0mb\u001b[0m\u001b[1;33m.\u001b[0m\u001b[0mapply\u001b[0m\u001b[1;33m(\u001b[0m\u001b[0mf\u001b[0m\u001b[1;33m,\u001b[0m \u001b[1;33m**\u001b[0m\u001b[0mkwargs\u001b[0m\u001b[1;33m)\u001b[0m\u001b[1;33m\u001b[0m\u001b[1;33m\u001b[0m\u001b[0m\n\u001b[0;32m    426\u001b[0m                 \u001b[1;32melse\u001b[0m\u001b[1;33m:\u001b[0m\u001b[1;33m\u001b[0m\u001b[1;33m\u001b[0m\u001b[0m\n\u001b[1;32m--> 427\u001b[1;33m                     \u001b[0mapplied\u001b[0m \u001b[1;33m=\u001b[0m \u001b[0mgetattr\u001b[0m\u001b[1;33m(\u001b[0m\u001b[0mb\u001b[0m\u001b[1;33m,\u001b[0m \u001b[0mf\u001b[0m\u001b[1;33m)\u001b[0m\u001b[1;33m(\u001b[0m\u001b[1;33m**\u001b[0m\u001b[0mkwargs\u001b[0m\u001b[1;33m)\u001b[0m\u001b[1;33m\u001b[0m\u001b[1;33m\u001b[0m\u001b[0m\n\u001b[0m\u001b[0;32m    428\u001b[0m             \u001b[1;32mexcept\u001b[0m \u001b[1;33m(\u001b[0m\u001b[0mTypeError\u001b[0m\u001b[1;33m,\u001b[0m \u001b[0mNotImplementedError\u001b[0m\u001b[1;33m)\u001b[0m\u001b[1;33m:\u001b[0m\u001b[1;33m\u001b[0m\u001b[1;33m\u001b[0m\u001b[0m\n\u001b[0;32m    429\u001b[0m                 \u001b[1;32mif\u001b[0m \u001b[1;32mnot\u001b[0m \u001b[0mignore_failures\u001b[0m\u001b[1;33m:\u001b[0m\u001b[1;33m\u001b[0m\u001b[1;33m\u001b[0m\u001b[0m\n",
      "\u001b[1;32m~\\Anaconda3\\lib\\site-packages\\pandas\\core\\internals\\blocks.py\u001b[0m in \u001b[0;36mastype\u001b[1;34m(self, dtype, copy, errors)\u001b[0m\n\u001b[0;32m    671\u001b[0m             \u001b[0mvals1d\u001b[0m \u001b[1;33m=\u001b[0m \u001b[0mvalues\u001b[0m\u001b[1;33m.\u001b[0m\u001b[0mravel\u001b[0m\u001b[1;33m(\u001b[0m\u001b[1;33m)\u001b[0m\u001b[1;33m\u001b[0m\u001b[1;33m\u001b[0m\u001b[0m\n\u001b[0;32m    672\u001b[0m             \u001b[1;32mtry\u001b[0m\u001b[1;33m:\u001b[0m\u001b[1;33m\u001b[0m\u001b[1;33m\u001b[0m\u001b[0m\n\u001b[1;32m--> 673\u001b[1;33m                 \u001b[0mvalues\u001b[0m \u001b[1;33m=\u001b[0m \u001b[0mastype_nansafe\u001b[0m\u001b[1;33m(\u001b[0m\u001b[0mvals1d\u001b[0m\u001b[1;33m,\u001b[0m \u001b[0mdtype\u001b[0m\u001b[1;33m,\u001b[0m \u001b[0mcopy\u001b[0m\u001b[1;33m=\u001b[0m\u001b[1;32mTrue\u001b[0m\u001b[1;33m)\u001b[0m\u001b[1;33m\u001b[0m\u001b[1;33m\u001b[0m\u001b[0m\n\u001b[0m\u001b[0;32m    674\u001b[0m             \u001b[1;32mexcept\u001b[0m \u001b[1;33m(\u001b[0m\u001b[0mValueError\u001b[0m\u001b[1;33m,\u001b[0m \u001b[0mTypeError\u001b[0m\u001b[1;33m)\u001b[0m\u001b[1;33m:\u001b[0m\u001b[1;33m\u001b[0m\u001b[1;33m\u001b[0m\u001b[0m\n\u001b[0;32m    675\u001b[0m                 \u001b[1;31m# e.g. astype_nansafe can fail on object-dtype of strings\u001b[0m\u001b[1;33m\u001b[0m\u001b[1;33m\u001b[0m\u001b[1;33m\u001b[0m\u001b[0m\n",
      "\u001b[1;32m~\\Anaconda3\\lib\\site-packages\\pandas\\core\\dtypes\\cast.py\u001b[0m in \u001b[0;36mastype_nansafe\u001b[1;34m(arr, dtype, copy, skipna)\u001b[0m\n\u001b[0;32m   1095\u001b[0m     \u001b[1;32mif\u001b[0m \u001b[0mcopy\u001b[0m \u001b[1;32mor\u001b[0m \u001b[0mis_object_dtype\u001b[0m\u001b[1;33m(\u001b[0m\u001b[0marr\u001b[0m\u001b[1;33m)\u001b[0m \u001b[1;32mor\u001b[0m \u001b[0mis_object_dtype\u001b[0m\u001b[1;33m(\u001b[0m\u001b[0mdtype\u001b[0m\u001b[1;33m)\u001b[0m\u001b[1;33m:\u001b[0m\u001b[1;33m\u001b[0m\u001b[1;33m\u001b[0m\u001b[0m\n\u001b[0;32m   1096\u001b[0m         \u001b[1;31m# Explicit copy, or required since NumPy can't view from / to object.\u001b[0m\u001b[1;33m\u001b[0m\u001b[1;33m\u001b[0m\u001b[1;33m\u001b[0m\u001b[0m\n\u001b[1;32m-> 1097\u001b[1;33m         \u001b[1;32mreturn\u001b[0m \u001b[0marr\u001b[0m\u001b[1;33m.\u001b[0m\u001b[0mastype\u001b[0m\u001b[1;33m(\u001b[0m\u001b[0mdtype\u001b[0m\u001b[1;33m,\u001b[0m \u001b[0mcopy\u001b[0m\u001b[1;33m=\u001b[0m\u001b[1;32mTrue\u001b[0m\u001b[1;33m)\u001b[0m\u001b[1;33m\u001b[0m\u001b[1;33m\u001b[0m\u001b[0m\n\u001b[0m\u001b[0;32m   1098\u001b[0m \u001b[1;33m\u001b[0m\u001b[0m\n\u001b[0;32m   1099\u001b[0m     \u001b[1;32mreturn\u001b[0m \u001b[0marr\u001b[0m\u001b[1;33m.\u001b[0m\u001b[0mview\u001b[0m\u001b[1;33m(\u001b[0m\u001b[0mdtype\u001b[0m\u001b[1;33m)\u001b[0m\u001b[1;33m\u001b[0m\u001b[1;33m\u001b[0m\u001b[0m\n",
      "\u001b[1;31mValueError\u001b[0m: could not convert string to float: 'non-B hepatitis virus'"
     ]
    }
   ],
   "source": [
    "codon_usage['UUU'] = codon_usage['UUU'].astype('float64')\n",
    "codon_usage['UUC'] = codon_usage['UUC'].astype('float64')"
   ]
  },
  {
   "cell_type": "markdown",
   "metadata": {},
   "source": [
    "This is alarming!  Perhaps these data are not as clean as I had thought?  Presumably, this is occurring only in these two columns - otherwise, how could they be showing a float64 type?  I need to find a way to check for values that can't possibly be numeric."
   ]
  },
  {
   "cell_type": "markdown",
   "metadata": {},
   "source": [
    "After several failed efforts, it looks like I can replace botched values with NaN's>"
   ]
  },
  {
   "cell_type": "code",
   "execution_count": 16,
   "metadata": {},
   "outputs": [],
   "source": [
    "codon_usage['UUU'] = pd.to_numeric(codon_usage['UUU'], errors='coerce')\n",
    "codon_usage['UUC'] = pd.to_numeric(codon_usage['UUC'], errors='coerce')"
   ]
  },
  {
   "cell_type": "markdown",
   "metadata": {},
   "source": [
    "Previously, we found a total of zero NA values in the dataframe.  How many have we uncovered?"
   ]
  },
  {
   "cell_type": "code",
   "execution_count": 17,
   "metadata": {},
   "outputs": [
    {
     "name": "stdout",
     "output_type": "stream",
     "text": [
      "UUU: 2 UUC: 1\n"
     ]
    }
   ],
   "source": [
    "print(\"UUU:\", codon_usage['UUU'].isna().values.sum(), \"UUC:\", codon_usage['UUC'].isna().values.sum())"
   ]
  },
  {
   "cell_type": "markdown",
   "metadata": {},
   "source": [
    "That's a total of three missing values out of 13028.  If there were more, it might be worthwhile to apply an imputation - in fact, it could even be done exactly, as the relative frequencies of codons across each row should sum to 1.  But for three values I'm not convinced that's worth the time.  I'm going to fill them with zeroes."
   ]
  },
  {
   "cell_type": "code",
   "execution_count": 18,
   "metadata": {},
   "outputs": [
    {
     "name": "stdout",
     "output_type": "stream",
     "text": [
      "UUU: 0 UUC: 0\n"
     ]
    }
   ],
   "source": [
    "codon_usage['UUU'] = codon_usage['UUU'].fillna(0)\n",
    "codon_usage['UUC'] = codon_usage['UUC'].fillna(0)\n",
    "\n",
    "# and check:\n",
    "\n",
    "print(\"UUU:\", codon_usage['UUU'].isna().values.sum(), \"UUC:\", codon_usage['UUC'].isna().values.sum())"
   ]
  },
  {
   "cell_type": "markdown",
   "metadata": {},
   "source": [
    "Now it should be simple to retype these variables, and apply the summation I attempted to so many cells above.\n"
   ]
  },
  {
   "cell_type": "code",
   "execution_count": 19,
   "metadata": {},
   "outputs": [],
   "source": [
    "codon_usage['UUU'] = codon_usage['UUU'].astype('float64')\n",
    "codon_usage['UUC'] = codon_usage['UUC'].astype('float64')"
   ]
  },
  {
   "cell_type": "code",
   "execution_count": 20,
   "metadata": {},
   "outputs": [],
   "source": [
    "for amino, codons in amino_codons.items():\n",
    "    codon_usage[amino] = 0\n",
    "    for codon in codons:\n",
    "        codon_usage[amino] += codon_usage[codon]"
   ]
  },
  {
   "cell_type": "markdown",
   "metadata": {},
   "source": [
    "Let's check to make sure that worked as intended.  There should be an additional 22 (20 amino acids, start, and stop) columns in the dataframe."
   ]
  },
  {
   "cell_type": "code",
   "execution_count": 21,
   "metadata": {},
   "outputs": [
    {
     "data": {
      "text/plain": [
       "(13028, 91)"
      ]
     },
     "execution_count": 21,
     "metadata": {},
     "output_type": "execute_result"
    }
   ],
   "source": [
    "codon_usage.shape"
   ]
  },
  {
   "cell_type": "markdown",
   "metadata": {},
   "source": [
    "Well, 22 columns added to the 69 that already existed does indeed give us 91.  But some further examination is needed."
   ]
  },
  {
   "cell_type": "code",
   "execution_count": 22,
   "metadata": {},
   "outputs": [
    {
     "data": {
      "text/html": [
       "<div>\n",
       "<style scoped>\n",
       "    .dataframe tbody tr th:only-of-type {\n",
       "        vertical-align: middle;\n",
       "    }\n",
       "\n",
       "    .dataframe tbody tr th {\n",
       "        vertical-align: top;\n",
       "    }\n",
       "\n",
       "    .dataframe thead th {\n",
       "        text-align: right;\n",
       "    }\n",
       "</style>\n",
       "<table border=\"1\" class=\"dataframe\">\n",
       "  <thead>\n",
       "    <tr style=\"text-align: right;\">\n",
       "      <th></th>\n",
       "      <th>alanine</th>\n",
       "      <th>arginine</th>\n",
       "      <th>asparagine</th>\n",
       "      <th>aspartic acid</th>\n",
       "      <th>cysteine</th>\n",
       "      <th>glutamine</th>\n",
       "      <th>glutamic acid</th>\n",
       "      <th>glycine</th>\n",
       "      <th>histidine</th>\n",
       "      <th>isoleucine</th>\n",
       "      <th>...</th>\n",
       "      <th>methionine</th>\n",
       "      <th>phenylalanine</th>\n",
       "      <th>proline</th>\n",
       "      <th>serine</th>\n",
       "      <th>threonine</th>\n",
       "      <th>tryptophan</th>\n",
       "      <th>tyrosine</th>\n",
       "      <th>valine</th>\n",
       "      <th>start</th>\n",
       "      <th>stop</th>\n",
       "    </tr>\n",
       "  </thead>\n",
       "  <tbody>\n",
       "    <tr>\n",
       "      <th>0</th>\n",
       "      <td>0.08673</td>\n",
       "      <td>0.06817</td>\n",
       "      <td>0.03008</td>\n",
       "      <td>0.05615</td>\n",
       "      <td>0.01404</td>\n",
       "      <td>0.03409</td>\n",
       "      <td>0.05564</td>\n",
       "      <td>0.08722</td>\n",
       "      <td>0.02857</td>\n",
       "      <td>0.03308</td>\n",
       "      <td>...</td>\n",
       "      <td>0.02506</td>\n",
       "      <td>0.02857</td>\n",
       "      <td>0.07268</td>\n",
       "      <td>0.06115</td>\n",
       "      <td>0.04561</td>\n",
       "      <td>0.01003</td>\n",
       "      <td>0.02757</td>\n",
       "      <td>0.09423</td>\n",
       "      <td>0.02506</td>\n",
       "      <td>0.00301</td>\n",
       "    </tr>\n",
       "    <tr>\n",
       "      <th>1</th>\n",
       "      <td>0.08548</td>\n",
       "      <td>0.06378</td>\n",
       "      <td>0.03799</td>\n",
       "      <td>0.05766</td>\n",
       "      <td>0.01899</td>\n",
       "      <td>0.02781</td>\n",
       "      <td>0.05970</td>\n",
       "      <td>0.06716</td>\n",
       "      <td>0.02171</td>\n",
       "      <td>0.04545</td>\n",
       "      <td>...</td>\n",
       "      <td>0.03324</td>\n",
       "      <td>0.04071</td>\n",
       "      <td>0.05020</td>\n",
       "      <td>0.06581</td>\n",
       "      <td>0.05768</td>\n",
       "      <td>0.01425</td>\n",
       "      <td>0.03392</td>\n",
       "      <td>0.08955</td>\n",
       "      <td>0.03324</td>\n",
       "      <td>0.00339</td>\n",
       "    </tr>\n",
       "    <tr>\n",
       "      <th>2</th>\n",
       "      <td>0.05594</td>\n",
       "      <td>0.07445</td>\n",
       "      <td>0.04751</td>\n",
       "      <td>0.05162</td>\n",
       "      <td>0.02859</td>\n",
       "      <td>0.03887</td>\n",
       "      <td>0.04710</td>\n",
       "      <td>0.05779</td>\n",
       "      <td>0.03291</td>\n",
       "      <td>0.05203</td>\n",
       "      <td>...</td>\n",
       "      <td>0.02180</td>\n",
       "      <td>0.04154</td>\n",
       "      <td>0.06232</td>\n",
       "      <td>0.08289</td>\n",
       "      <td>0.05491</td>\n",
       "      <td>0.01728</td>\n",
       "      <td>0.03887</td>\n",
       "      <td>0.05780</td>\n",
       "      <td>0.02180</td>\n",
       "      <td>0.00535</td>\n",
       "    </tr>\n",
       "    <tr>\n",
       "      <th>3</th>\n",
       "      <td>0.05587</td>\n",
       "      <td>0.04596</td>\n",
       "      <td>0.03656</td>\n",
       "      <td>0.05692</td>\n",
       "      <td>0.01880</td>\n",
       "      <td>0.02820</td>\n",
       "      <td>0.06475</td>\n",
       "      <td>0.06423</td>\n",
       "      <td>0.01462</td>\n",
       "      <td>0.07154</td>\n",
       "      <td>...</td>\n",
       "      <td>0.02924</td>\n",
       "      <td>0.04020</td>\n",
       "      <td>0.03760</td>\n",
       "      <td>0.09191</td>\n",
       "      <td>0.06215</td>\n",
       "      <td>0.01201</td>\n",
       "      <td>0.03029</td>\n",
       "      <td>0.07885</td>\n",
       "      <td>0.02924</td>\n",
       "      <td>0.00418</td>\n",
       "    </tr>\n",
       "    <tr>\n",
       "      <th>4</th>\n",
       "      <td>0.06601</td>\n",
       "      <td>0.05789</td>\n",
       "      <td>0.04534</td>\n",
       "      <td>0.06631</td>\n",
       "      <td>0.01787</td>\n",
       "      <td>0.03311</td>\n",
       "      <td>0.07038</td>\n",
       "      <td>0.05658</td>\n",
       "      <td>0.02032</td>\n",
       "      <td>0.04893</td>\n",
       "      <td>...</td>\n",
       "      <td>0.02773</td>\n",
       "      <td>0.04187</td>\n",
       "      <td>0.02798</td>\n",
       "      <td>0.06893</td>\n",
       "      <td>0.06745</td>\n",
       "      <td>0.01205</td>\n",
       "      <td>0.03456</td>\n",
       "      <td>0.07196</td>\n",
       "      <td>0.02773</td>\n",
       "      <td>0.00175</td>\n",
       "    </tr>\n",
       "  </tbody>\n",
       "</table>\n",
       "<p>5 rows × 22 columns</p>\n",
       "</div>"
      ],
      "text/plain": [
       "   alanine  arginine  asparagine  aspartic acid  cysteine  glutamine  \\\n",
       "0  0.08673   0.06817     0.03008        0.05615   0.01404    0.03409   \n",
       "1  0.08548   0.06378     0.03799        0.05766   0.01899    0.02781   \n",
       "2  0.05594   0.07445     0.04751        0.05162   0.02859    0.03887   \n",
       "3  0.05587   0.04596     0.03656        0.05692   0.01880    0.02820   \n",
       "4  0.06601   0.05789     0.04534        0.06631   0.01787    0.03311   \n",
       "\n",
       "   glutamic acid  glycine  histidine  isoleucine  ...  methionine  \\\n",
       "0        0.05564  0.08722    0.02857     0.03308  ...     0.02506   \n",
       "1        0.05970  0.06716    0.02171     0.04545  ...     0.03324   \n",
       "2        0.04710  0.05779    0.03291     0.05203  ...     0.02180   \n",
       "3        0.06475  0.06423    0.01462     0.07154  ...     0.02924   \n",
       "4        0.07038  0.05658    0.02032     0.04893  ...     0.02773   \n",
       "\n",
       "   phenylalanine  proline   serine  threonine  tryptophan  tyrosine   valine  \\\n",
       "0        0.02857  0.07268  0.06115    0.04561     0.01003   0.02757  0.09423   \n",
       "1        0.04071  0.05020  0.06581    0.05768     0.01425   0.03392  0.08955   \n",
       "2        0.04154  0.06232  0.08289    0.05491     0.01728   0.03887  0.05780   \n",
       "3        0.04020  0.03760  0.09191    0.06215     0.01201   0.03029  0.07885   \n",
       "4        0.04187  0.02798  0.06893    0.06745     0.01205   0.03456  0.07196   \n",
       "\n",
       "     start     stop  \n",
       "0  0.02506  0.00301  \n",
       "1  0.03324  0.00339  \n",
       "2  0.02180  0.00535  \n",
       "3  0.02924  0.00418  \n",
       "4  0.02773  0.00175  \n",
       "\n",
       "[5 rows x 22 columns]"
      ]
     },
     "execution_count": 22,
     "metadata": {},
     "output_type": "execute_result"
    }
   ],
   "source": [
    "aminos = ['alanine', 'arginine', 'asparagine', 'aspartic acid', 'cysteine', 'glutamine', 'glutamic acid', 'glycine', 'histidine',\n",
    "          'isoleucine', 'leucine', 'lysine', 'methionine', 'phenylalanine', 'proline', 'serine', 'threonine', 'tryptophan',\n",
    "          'tyrosine', 'valine', 'start', 'stop']\n",
    "codon_usage[aminos].head()"
   ]
  },
  {
   "cell_type": "markdown",
   "metadata": {},
   "source": [
    "In theory, these columns should sum to one.  (In practice, this isn't going to be so, because the 'start' codon also represents one of the amino acids.)"
   ]
  },
  {
   "cell_type": "code",
   "execution_count": 23,
   "metadata": {},
   "outputs": [
    {
     "name": "stdout",
     "output_type": "stream",
     "text": [
      "0.99758 1.00017\n"
     ]
    }
   ],
   "source": [
    "codon_usage['aminosum'] = 0\n",
    "for amino in aminos:\n",
    "    codon_usage['aminosum'] += codon_usage[amino]\n",
    "codon_usage['aminosum'] -= codon_usage['start']    \n",
    "print(codon_usage['aminosum'].min(), codon_usage['aminosum'].max())"
   ]
  },
  {
   "cell_type": "markdown",
   "metadata": {},
   "source": [
    "These are close enough to 1 to rule out any gross errors; the discrepancies are probably attributable to rounding.  Dropping the 'aminosum' column leaves us with a dataframe ready for subsequent analysis."
   ]
  },
  {
   "cell_type": "code",
   "execution_count": 24,
   "metadata": {},
   "outputs": [
    {
     "data": {
      "text/plain": [
       "(13028, 92)"
      ]
     },
     "execution_count": 24,
     "metadata": {},
     "output_type": "execute_result"
    }
   ],
   "source": [
    "codon_usage.shape\n"
   ]
  },
  {
   "cell_type": "code",
   "execution_count": 25,
   "metadata": {},
   "outputs": [
    {
     "data": {
      "text/plain": [
       "(13028, 91)"
      ]
     },
     "execution_count": 25,
     "metadata": {},
     "output_type": "execute_result"
    }
   ],
   "source": [
    "codon_usage.drop('aminosum', axis=1, inplace=True)\n",
    "codon_usage.shape"
   ]
  },
  {
   "cell_type": "code",
   "execution_count": 27,
   "metadata": {},
   "outputs": [],
   "source": [
    "# save file for subsequent EDA\n",
    "codon_usage.to_csv('codon_usage2.csv')"
   ]
  }
 ],
 "metadata": {
  "kernelspec": {
   "display_name": "Python 3",
   "language": "python",
   "name": "python3"
  },
  "language_info": {
   "codemirror_mode": {
    "name": "ipython",
    "version": 3
   },
   "file_extension": ".py",
   "mimetype": "text/x-python",
   "name": "python",
   "nbconvert_exporter": "python",
   "pygments_lexer": "ipython3",
   "version": "3.7.4"
  }
 },
 "nbformat": 4,
 "nbformat_minor": 2
}
