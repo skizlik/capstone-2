{
 "cells": [
  {
   "cell_type": "markdown",
   "metadata": {},
   "source": [
    "## An illustration of a problem I'm trying to solve"
   ]
  },
  {
   "cell_type": "markdown",
   "metadata": {},
   "source": [
    "Basically, I want to do the reverse of eval(): given a variable, I want to have the NAME of the variable as a string."
   ]
  },
  {
   "cell_type": "markdown",
   "metadata": {},
   "source": [
    "To illustrate this, let's imagine an inventory system implemented INCREDIBLY poorly:"
   ]
  },
  {
   "cell_type": "code",
   "execution_count": 1,
   "metadata": {},
   "outputs": [],
   "source": [
    "# items in inventory represented by dicts\n",
    "\n",
    "sunglasses = {'price':24.99, 'inventory':31, 'description':'a pair of sunglasses'}\n",
    "flipflops = {'price':14.95, 'inventory':100, 'description':'sandals with no back strap'}\n",
    "tshirt = {'price':19.99, 'inventory':60, 'decription':'basic t-shirt'}\n",
    "tshirt2 = {'price':29.99, 'inventory':20, 'description':'t-shirt with improved logo'}\n",
    "cooler = {'price':9.95, 'inventory':27, 'description':'disposable styrofoam cooler'}\n",
    "\n",
    "# regular customers get represented by dicts too... I know, nobody would do this, but bear with me\n",
    "\n",
    "sean = {'credit':0, 'purchases':3}\n",
    "jill = {'credit':-10.75, 'purchases':11}\n",
    "bill = {'credit':5.50, 'purchases':8}\n"
   ]
  },
  {
   "cell_type": "markdown",
   "metadata": {},
   "source": [
    "Let's suppose further that, despite having these entities represented as dicts, the person responsible for this wishes to store a transaction log as a dataframe."
   ]
  },
  {
   "cell_type": "code",
   "execution_count": 2,
   "metadata": {},
   "outputs": [],
   "source": [
    "from datetime import date\n",
    "import pandas as pd\n",
    "t_cols = ['date', 'item', 'customer', 'quantity', 'total']\n",
    "transactions = pd.DataFrame(columns=t_cols)\n"
   ]
  },
  {
   "cell_type": "markdown",
   "metadata": {},
   "source": [
    "Probably the 'transactions' dataframe would already have something in it."
   ]
  },
  {
   "cell_type": "code",
   "execution_count": 3,
   "metadata": {},
   "outputs": [
    {
     "data": {
      "text/html": [
       "<div>\n",
       "<style scoped>\n",
       "    .dataframe tbody tr th:only-of-type {\n",
       "        vertical-align: middle;\n",
       "    }\n",
       "\n",
       "    .dataframe tbody tr th {\n",
       "        vertical-align: top;\n",
       "    }\n",
       "\n",
       "    .dataframe thead th {\n",
       "        text-align: right;\n",
       "    }\n",
       "</style>\n",
       "<table border=\"1\" class=\"dataframe\">\n",
       "  <thead>\n",
       "    <tr style=\"text-align: right;\">\n",
       "      <th></th>\n",
       "      <th>date</th>\n",
       "      <th>item</th>\n",
       "      <th>customer</th>\n",
       "      <th>quantity</th>\n",
       "      <th>total</th>\n",
       "    </tr>\n",
       "  </thead>\n",
       "  <tbody>\n",
       "    <tr>\n",
       "      <th>0</th>\n",
       "      <td>09/02/2021</td>\n",
       "      <td>sunglasses</td>\n",
       "      <td>jill</td>\n",
       "      <td>1</td>\n",
       "      <td>24.99</td>\n",
       "    </tr>\n",
       "    <tr>\n",
       "      <th>1</th>\n",
       "      <td>09/26/2021</td>\n",
       "      <td>tshirt2</td>\n",
       "      <td>bill</td>\n",
       "      <td>1</td>\n",
       "      <td>29.99</td>\n",
       "    </tr>\n",
       "    <tr>\n",
       "      <th>2</th>\n",
       "      <td>10/13/2021</td>\n",
       "      <td>tshirt</td>\n",
       "      <td>sean</td>\n",
       "      <td>2</td>\n",
       "      <td>49.98</td>\n",
       "    </tr>\n",
       "  </tbody>\n",
       "</table>\n",
       "</div>"
      ],
      "text/plain": [
       "         date        item customer quantity  total\n",
       "0  09/02/2021  sunglasses     jill        1  24.99\n",
       "1  09/26/2021     tshirt2     bill        1  29.99\n",
       "2  10/13/2021      tshirt     sean        2  49.98"
      ]
     },
     "execution_count": 3,
     "metadata": {},
     "output_type": "execute_result"
    }
   ],
   "source": [
    "sale = ['09/02/2021', 'sunglasses', 'jill', '1', 24.99]\n",
    "transactions = transactions.append(dict(zip(t_cols, sale)), ignore_index=True)\n",
    "sale = ['09/26/2021', 'tshirt2', 'bill', '1', 29.99]\n",
    "transactions = transactions.append(dict(zip(t_cols, sale)), ignore_index=True)\n",
    "sale = ['10/13/2021', 'tshirt', 'sean', '2', 49.98]\n",
    "transactions = transactions.append(dict(zip(t_cols, sale)), ignore_index=True)\n",
    "transactions"
   ]
  },
  {
   "cell_type": "markdown",
   "metadata": {},
   "source": [
    "Ok.  So now let's suppose we want to write a function to log sales.  I would like to do something like this... (yes, this is a bad function in many ways, but bear with me)"
   ]
  },
  {
   "cell_type": "code",
   "execution_count": 4,
   "metadata": {},
   "outputs": [],
   "source": [
    "def log_sale(customer, item, quantity=1, date=date.today()):\n",
    "    output = pd.DataFrame(columns=t_cols)\n",
    "    total = item['price']*quantity\n",
    "    item['inventory'] = item['inventory'] - quantity\n",
    "    customer['purchases'] = customer['purchases'] + quantity\n",
    "    customer['credit'] = customer['credit'] - total\n",
    "# THERE IS NO 'NAME_OF' FUNCTION... or is there?\n",
    "    this_sale = [date, NAME_OF(item), NAME_OF(customer), quantity, total]\n",
    "    output = output.append(dict(zip(t_cols, this_sale)), ignore_index=True)\n",
    "    \n",
    "    return output\n",
    "    "
   ]
  },
  {
   "cell_type": "markdown",
   "metadata": {},
   "source": [
    "This will simply fail to run, and nothing I've tried has done what I want NAME_OF() to do.  In order to do what I intend requires this monstrosity:"
   ]
  },
  {
   "cell_type": "code",
   "execution_count": 5,
   "metadata": {},
   "outputs": [],
   "source": [
    "def log_sale_bad(customer, customer_name, item, item_name, quantity=1, date=date.today()):\n",
    "    output = pd.DataFrame(columns=t_cols)\n",
    "    total = item['price']*quantity\n",
    "    item['inventory'] = item['inventory'] - quantity\n",
    "    customer['purchases'] = customer['purchases'] + quantity\n",
    "    customer['credit'] = customer['credit'] - total\n",
    "    this_sale = [date, item_name, customer_name, quantity, total]\n",
    "    output = output.append(dict(zip(t_cols, this_sale)), ignore_index=True)\n",
    "    \n",
    "    return output"
   ]
  },
  {
   "cell_type": "code",
   "execution_count": 6,
   "metadata": {},
   "outputs": [
    {
     "data": {
      "text/html": [
       "<div>\n",
       "<style scoped>\n",
       "    .dataframe tbody tr th:only-of-type {\n",
       "        vertical-align: middle;\n",
       "    }\n",
       "\n",
       "    .dataframe tbody tr th {\n",
       "        vertical-align: top;\n",
       "    }\n",
       "\n",
       "    .dataframe thead th {\n",
       "        text-align: right;\n",
       "    }\n",
       "</style>\n",
       "<table border=\"1\" class=\"dataframe\">\n",
       "  <thead>\n",
       "    <tr style=\"text-align: right;\">\n",
       "      <th></th>\n",
       "      <th>date</th>\n",
       "      <th>item</th>\n",
       "      <th>customer</th>\n",
       "      <th>quantity</th>\n",
       "      <th>total</th>\n",
       "    </tr>\n",
       "  </thead>\n",
       "  <tbody>\n",
       "    <tr>\n",
       "      <th>0</th>\n",
       "      <td>2021-11-11</td>\n",
       "      <td>sunglasses</td>\n",
       "      <td>jill</td>\n",
       "      <td>4</td>\n",
       "      <td>99.96</td>\n",
       "    </tr>\n",
       "  </tbody>\n",
       "</table>\n",
       "</div>"
      ],
      "text/plain": [
       "         date        item customer quantity  total\n",
       "0  2021-11-11  sunglasses     jill        4  99.96"
      ]
     },
     "execution_count": 6,
     "metadata": {},
     "output_type": "execute_result"
    }
   ],
   "source": [
    "log_sale_bad(jill, 'jill', sunglasses, 'sunglasses', 4)"
   ]
  },
  {
   "cell_type": "markdown",
   "metadata": {},
   "source": [
    "You can see how awkward this is.  Additionally, I can't seem to make such a function append to the transactions dataframe from within the function.  It's also awkward that, to update the dataframe, I must invoke something like:"
   ]
  },
  {
   "cell_type": "code",
   "execution_count": 7,
   "metadata": {},
   "outputs": [
    {
     "data": {
      "text/html": [
       "<div>\n",
       "<style scoped>\n",
       "    .dataframe tbody tr th:only-of-type {\n",
       "        vertical-align: middle;\n",
       "    }\n",
       "\n",
       "    .dataframe tbody tr th {\n",
       "        vertical-align: top;\n",
       "    }\n",
       "\n",
       "    .dataframe thead th {\n",
       "        text-align: right;\n",
       "    }\n",
       "</style>\n",
       "<table border=\"1\" class=\"dataframe\">\n",
       "  <thead>\n",
       "    <tr style=\"text-align: right;\">\n",
       "      <th></th>\n",
       "      <th>date</th>\n",
       "      <th>item</th>\n",
       "      <th>customer</th>\n",
       "      <th>quantity</th>\n",
       "      <th>total</th>\n",
       "    </tr>\n",
       "  </thead>\n",
       "  <tbody>\n",
       "    <tr>\n",
       "      <th>0</th>\n",
       "      <td>09/02/2021</td>\n",
       "      <td>sunglasses</td>\n",
       "      <td>jill</td>\n",
       "      <td>1</td>\n",
       "      <td>24.99</td>\n",
       "    </tr>\n",
       "    <tr>\n",
       "      <th>1</th>\n",
       "      <td>09/26/2021</td>\n",
       "      <td>tshirt2</td>\n",
       "      <td>bill</td>\n",
       "      <td>1</td>\n",
       "      <td>29.99</td>\n",
       "    </tr>\n",
       "    <tr>\n",
       "      <th>2</th>\n",
       "      <td>10/13/2021</td>\n",
       "      <td>tshirt</td>\n",
       "      <td>sean</td>\n",
       "      <td>2</td>\n",
       "      <td>49.98</td>\n",
       "    </tr>\n",
       "    <tr>\n",
       "      <th>3</th>\n",
       "      <td>2021-11-11</td>\n",
       "      <td>sunglasses</td>\n",
       "      <td>jill</td>\n",
       "      <td>4</td>\n",
       "      <td>99.96</td>\n",
       "    </tr>\n",
       "  </tbody>\n",
       "</table>\n",
       "</div>"
      ],
      "text/plain": [
       "         date        item customer quantity  total\n",
       "0  09/02/2021  sunglasses     jill        1  24.99\n",
       "1  09/26/2021     tshirt2     bill        1  29.99\n",
       "2  10/13/2021      tshirt     sean        2  49.98\n",
       "3  2021-11-11  sunglasses     jill        4  99.96"
      ]
     },
     "execution_count": 7,
     "metadata": {},
     "output_type": "execute_result"
    }
   ],
   "source": [
    "transactions=transactions.append(log_sale_bad(jill, 'jill', sunglasses, 'sunglasses', 4), ignore_index=True)\n",
    "transactions"
   ]
  },
  {
   "cell_type": "code",
   "execution_count": null,
   "metadata": {},
   "outputs": [],
   "source": []
  }
 ],
 "metadata": {
  "kernelspec": {
   "display_name": "Python 3",
   "language": "python",
   "name": "python3"
  },
  "language_info": {
   "codemirror_mode": {
    "name": "ipython",
    "version": 3
   },
   "file_extension": ".py",
   "mimetype": "text/x-python",
   "name": "python",
   "nbconvert_exporter": "python",
   "pygments_lexer": "ipython3",
   "version": "3.7.4"
  }
 },
 "nbformat": 4,
 "nbformat_minor": 2
}
