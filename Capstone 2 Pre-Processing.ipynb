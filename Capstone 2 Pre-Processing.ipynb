{
 "cells": [
  {
   "cell_type": "markdown",
   "metadata": {},
   "source": [
    "# Capstone 2 Pre-Processing"
   ]
  },
  {
   "cell_type": "markdown",
   "metadata": {},
   "source": [
    "Having completed some preliminary EDA, I'm ready to pre-process the data in preparation for fitting some models.  This will entail examining and removing some very sparse categories, scaling the quantitative variables, and encoding categorical variables."
   ]
  },
  {
   "cell_type": "code",
   "execution_count": 30,
   "metadata": {},
   "outputs": [],
   "source": [
    "# some easily anticipated imports\n",
    "import pandas as pd\n",
    "import numpy as np\n",
    "from sklearn.preprocessing import StandardScaler\n",
    "from sklearn.preprocessing import OneHotEncoder\n",
    "from sklearn.preprocessing import LabelEncoder\n",
    "from sklearn.preprocessing import LabelBinarizer\n",
    "\n",
    "\n",
    "#import warnings\n",
    "#warnings.filterwarnings('ignore')"
   ]
  },
  {
   "cell_type": "code",
   "execution_count": 31,
   "metadata": {},
   "outputs": [],
   "source": [
    "# these could prove useful later:\n",
    "codon_list = ['UUU', 'UUC', 'UUA', 'UUG', 'CUU', 'CUC', 'CUA', 'CUG',\n",
    "       'AUU', 'AUC', 'AUA', 'AUG', 'GUU', 'GUC', 'GUA', 'GUG', 'GCU', 'GCC',\n",
    "       'GCA', 'GCG', 'CCU', 'CCC', 'CCA', 'CCG', 'UGG', 'GGU', 'GGC', 'GGA',\n",
    "       'GGG', 'UCU', 'UCC', 'UCA', 'UCG', 'AGU', 'AGC', 'ACU', 'ACC', 'ACA',\n",
    "       'ACG', 'UAU', 'UAC', 'CAA', 'CAG', 'AAU', 'AAC', 'UGU', 'UGC', 'CAU',\n",
    "       'CAC', 'AAA', 'AAG', 'CGU', 'CGC', 'CGA', 'CGG', 'AGA', 'AGG', 'GAU',\n",
    "       'GAC', 'GAA', 'GAG', 'UAA', 'UAG', 'UGA']\n",
    "\n",
    "amino_list = ['alanine', 'arginine',\n",
    "       'asparagine', 'aspartic acid', 'cysteine', 'glutamine', 'glutamic acid',\n",
    "       'glycine', 'histidine', 'isoleucine', 'leucine', 'lysine', 'methionine',\n",
    "       'phenylalanine', 'proline', 'serine', 'threonine', 'tryptophan',\n",
    "       'tyrosine', 'valine', 'start', 'stop']\n",
    "\n",
    "# might strip 'start' and 'stop' from the above list but let's leave it for now\n",
    "\n",
    "# this dictionary, from the preceding notebook, could also prove quite useful\n",
    "amino_codons = {'alanine': ['GCU', 'GCC', 'GCA', 'GCG'], \n",
    "                'arginine': ['CGU', 'CGC', 'CGA', 'CGG', 'AGA', 'AGG'],\n",
    "                'asparagine': ['AAU', 'AAC'],\n",
    "                'aspartic acid': ['GAU', 'GAC'],\n",
    "                'cysteine': ['UGU', 'UGC'], \n",
    "                'glutamine': ['CAA', 'CAG'],\n",
    "                'glutamic acid': ['GAA', 'GAG'],\n",
    "                'glycine': ['GGU', 'GGC', 'GGA', 'GGG'],\n",
    "                'histidine': ['CAU', 'CAC'], \n",
    "                'isoleucine': ['AUU', 'AUC', 'AUA'], \n",
    "                'leucine': ['CUU', 'CUC', 'CUA', 'CUG', 'UUA', 'UUG'],\n",
    "                'lysine': ['AAA', 'AAG'], \n",
    "                'methionine': ['AUG'], \n",
    "                'phenylalanine': ['UUU', 'UUC'], \n",
    "                'proline': ['CCU', 'CCC', 'CCA', 'CCG'],\n",
    "                'serine': ['UCU', 'UCC', 'UCA', 'UCG', 'AGU', 'AGC'], \n",
    "                'threonine': ['ACU', 'ACC', 'ACA', 'ACG'], \n",
    "                'tryptophan': ['UGG'],\n",
    "                'tyrosine': ['UAU', 'UAC'], \n",
    "                'valine': ['GUU', 'GUC', 'GUA', 'GUG'], \n",
    "                'start': ['AUG'], \n",
    "                'stop': ['UAA', 'UAG', 'UGA']}"
   ]
  },
  {
   "cell_type": "code",
   "execution_count": 32,
   "metadata": {},
   "outputs": [
    {
     "data": {
      "text/plain": [
       "(13028, 92)"
      ]
     },
     "execution_count": 32,
     "metadata": {},
     "output_type": "execute_result"
    }
   ],
   "source": [
    "# the file prepared in the wrangling notebook\n",
    "codon_usage = pd.read_csv('codon_usage2.csv')\n",
    "codon_usage.shape"
   ]
  },
  {
   "cell_type": "markdown",
   "metadata": {},
   "source": [
    "The variables that I'd like to model as outcomes are 'Kingdom' and 'DNAtype'; I'd like to take another look at their value counts."
   ]
  },
  {
   "cell_type": "code",
   "execution_count": 33,
   "metadata": {},
   "outputs": [
    {
     "data": {
      "text/plain": [
       "bacteria         2920\n",
       "virus            2832\n",
       "plant            2523\n",
       "vertebrate       2077\n",
       "invertebrate     1345\n",
       "mammal            572\n",
       "bacteriophage     220\n",
       "rodent            215\n",
       "primate           180\n",
       "archaea           126\n",
       "plasmid            18\n",
       "Name: Kingdom, dtype: int64"
      ]
     },
     "execution_count": 33,
     "metadata": {},
     "output_type": "execute_result"
    }
   ],
   "source": [
    "codon_usage['Kingdom'].value_counts()"
   ]
  },
  {
   "cell_type": "code",
   "execution_count": 34,
   "metadata": {},
   "outputs": [
    {
     "data": {
      "text/plain": [
       "genomic                   9267\n",
       "mitochondrial             2899\n",
       "chloroplast                816\n",
       "plastid                     31\n",
       "kinetoplast                  5\n",
       "cyanelle                     2\n",
       "nucleomorph                  2\n",
       "apicoplast                   2\n",
       "secondary_endosymbiont       1\n",
       "chromoplast                  1\n",
       "Name: DNAtype, dtype: int64"
      ]
     },
     "execution_count": 34,
     "metadata": {},
     "output_type": "execute_result"
    }
   ],
   "source": [
    "codon_usage['DNAtype'].value_counts()"
   ]
  },
  {
   "cell_type": "markdown",
   "metadata": {},
   "source": [
    "We can see that among the 'DNAtype' values, almost all are 'genomic', 'mitochondrial', or 'chloroplast'.  With 'Kingdom', there's a reasonable number of all cases except for 'plasmid'.  All of these observations should be dropped, so that we can produce models not unduly leveraged by them."
   ]
  },
  {
   "cell_type": "code",
   "execution_count": 35,
   "metadata": {},
   "outputs": [
    {
     "data": {
      "text/plain": [
       "(13010, 92)"
      ]
     },
     "execution_count": 35,
     "metadata": {},
     "output_type": "execute_result"
    }
   ],
   "source": [
    "# tried and failed to do this with df.drop() but this seems to work:\n",
    "codon_usage = codon_usage[codon_usage['Kingdom'] != 'plasmid']\n",
    "codon_usage.shape"
   ]
  },
  {
   "cell_type": "code",
   "execution_count": 36,
   "metadata": {},
   "outputs": [
    {
     "data": {
      "text/plain": [
       "(12966, 92)"
      ]
     },
     "execution_count": 36,
     "metadata": {},
     "output_type": "execute_result"
    }
   ],
   "source": [
    "# I'm absolutely positive there's a better way to do this.\n",
    "drop_types = ['plastid', 'kinetoplast', 'nucleomorph', 'cyanelle', 'apicoplast', 'secondary_endosymbiont', 'chromoplast']\n",
    "for drop in drop_types:\n",
    "    codon_usage = codon_usage[codon_usage['DNAtype'] != drop]\n",
    "\n",
    "codon_usage.shape\n"
   ]
  },
  {
   "cell_type": "markdown",
   "metadata": {},
   "source": [
    "This removed 44 rows from the dataframe, which is what was expected."
   ]
  },
  {
   "cell_type": "code",
   "execution_count": 37,
   "metadata": {},
   "outputs": [
    {
     "data": {
      "text/plain": [
       "Kingdom        DNAtype      \n",
       "bacteria       genomic          2918\n",
       "virus          genomic          2832\n",
       "vertebrate     mitochondrial    1613\n",
       "plant          genomic          1523\n",
       "invertebrate   genomic           922\n",
       "plant          chloroplast       815\n",
       "mammal         mitochondrial     470\n",
       "vertebrate     genomic           464\n",
       "invertebrate   mitochondrial     411\n",
       "bacteriophage  genomic           220\n",
       "rodent         mitochondrial     156\n",
       "plant          mitochondrial     152\n",
       "archaea        genomic           126\n",
       "mammal         genomic           102\n",
       "primate        mitochondrial      97\n",
       "               genomic            83\n",
       "rodent         genomic            59\n",
       "invertebrate   chloroplast         1\n",
       "dtype: int64"
      ]
     },
     "execution_count": 37,
     "metadata": {},
     "output_type": "execute_result"
    }
   ],
   "source": [
    "codon_usage[['Kingdom', 'DNAtype']].value_counts()"
   ]
  },
  {
   "cell_type": "markdown",
   "metadata": {},
   "source": [
    "This didn't produce quite the results intended.  But one thing stands out here as unusual:  there's a single observation of an organism with 'Kingdom' being 'invertebrate', but 'DNAtype' being 'chloroplast' - to the best of my knowledge, chloroplasts are exclusive to photosynthetic life, and an invertebrate shouldn't have any.  What's going on here?"
   ]
  },
  {
   "cell_type": "code",
   "execution_count": 38,
   "metadata": {},
   "outputs": [
    {
     "data": {
      "text/html": [
       "<div>\n",
       "<style scoped>\n",
       "    .dataframe tbody tr th:only-of-type {\n",
       "        vertical-align: middle;\n",
       "    }\n",
       "\n",
       "    .dataframe tbody tr th {\n",
       "        vertical-align: top;\n",
       "    }\n",
       "\n",
       "    .dataframe thead th {\n",
       "        text-align: right;\n",
       "    }\n",
       "</style>\n",
       "<table border=\"1\" class=\"dataframe\">\n",
       "  <thead>\n",
       "    <tr style=\"text-align: right;\">\n",
       "      <th></th>\n",
       "      <th>Unnamed: 0</th>\n",
       "      <th>Kingdom</th>\n",
       "      <th>DNAtype</th>\n",
       "      <th>SpeciesID</th>\n",
       "      <th>Ncodons</th>\n",
       "      <th>SpeciesName</th>\n",
       "      <th>UUU</th>\n",
       "      <th>UUC</th>\n",
       "      <th>UUA</th>\n",
       "      <th>UUG</th>\n",
       "      <th>...</th>\n",
       "      <th>methionine</th>\n",
       "      <th>phenylalanine</th>\n",
       "      <th>proline</th>\n",
       "      <th>serine</th>\n",
       "      <th>threonine</th>\n",
       "      <th>tryptophan</th>\n",
       "      <th>tyrosine</th>\n",
       "      <th>valine</th>\n",
       "      <th>start</th>\n",
       "      <th>stop</th>\n",
       "    </tr>\n",
       "  </thead>\n",
       "  <tbody>\n",
       "    <tr>\n",
       "      <th>9400</th>\n",
       "      <td>9400</td>\n",
       "      <td>invertebrate</td>\n",
       "      <td>chloroplast</td>\n",
       "      <td>5811</td>\n",
       "      <td>6158</td>\n",
       "      <td>chloroplast Toxoplasma gondii</td>\n",
       "      <td>0.08412</td>\n",
       "      <td>0.00438</td>\n",
       "      <td>0.11725</td>\n",
       "      <td>0.00244</td>\n",
       "      <td>...</td>\n",
       "      <td>0.01234</td>\n",
       "      <td>0.0885</td>\n",
       "      <td>0.01851</td>\n",
       "      <td>0.05927</td>\n",
       "      <td>0.04319</td>\n",
       "      <td>0.0026</td>\n",
       "      <td>0.06528</td>\n",
       "      <td>0.02517</td>\n",
       "      <td>0.01234</td>\n",
       "      <td>0.0086</td>\n",
       "    </tr>\n",
       "  </tbody>\n",
       "</table>\n",
       "<p>1 rows × 92 columns</p>\n",
       "</div>"
      ],
      "text/plain": [
       "      Unnamed: 0       Kingdom      DNAtype  SpeciesID  Ncodons  \\\n",
       "9400        9400  invertebrate  chloroplast       5811     6158   \n",
       "\n",
       "                        SpeciesName      UUU      UUC      UUA      UUG  ...  \\\n",
       "9400  chloroplast Toxoplasma gondii  0.08412  0.00438  0.11725  0.00244  ...   \n",
       "\n",
       "      methionine  phenylalanine  proline   serine  threonine  tryptophan  \\\n",
       "9400     0.01234         0.0885  0.01851  0.05927    0.04319      0.0026   \n",
       "\n",
       "      tyrosine   valine    start    stop  \n",
       "9400   0.06528  0.02517  0.01234  0.0086  \n",
       "\n",
       "[1 rows x 92 columns]"
      ]
     },
     "execution_count": 38,
     "metadata": {},
     "output_type": "execute_result"
    }
   ],
   "source": [
    "codon_usage.loc[(codon_usage['Kingdom'] == 'invertebrate') & (codon_usage['DNAtype'] == 'chloroplast')]"
   ]
  },
  {
   "cell_type": "markdown",
   "metadata": {},
   "source": [
    "A bit of searching on the subject of 'chloroplast Toxoplasma gondii' suggests that what's meant by this is the apicoplast present in T. gondii which is believed to be a vestige of a chloroplast in the evolutionary history of several organisms.  (See https://www.ncbi.nlm.nih.gov/pmc/articles/PMC3166169/)  At any rate, it is at least highly questionable that this is really chloroplast DNA, and the observation should simply be dropped."
   ]
  },
  {
   "cell_type": "code",
   "execution_count": 39,
   "metadata": {},
   "outputs": [
    {
     "data": {
      "text/plain": [
       "(12965, 92)"
      ]
     },
     "execution_count": 39,
     "metadata": {},
     "output_type": "execute_result"
    }
   ],
   "source": [
    "codon_usage.drop(9400, inplace=True)\n",
    "codon_usage.shape"
   ]
  },
  {
   "cell_type": "markdown",
   "metadata": {},
   "source": [
    "The above results also show that there's still a column that duplicates the index.  This could be trimmed as well."
   ]
  },
  {
   "cell_type": "code",
   "execution_count": 40,
   "metadata": {},
   "outputs": [
    {
     "data": {
      "text/html": [
       "<div>\n",
       "<style scoped>\n",
       "    .dataframe tbody tr th:only-of-type {\n",
       "        vertical-align: middle;\n",
       "    }\n",
       "\n",
       "    .dataframe tbody tr th {\n",
       "        vertical-align: top;\n",
       "    }\n",
       "\n",
       "    .dataframe thead th {\n",
       "        text-align: right;\n",
       "    }\n",
       "</style>\n",
       "<table border=\"1\" class=\"dataframe\">\n",
       "  <thead>\n",
       "    <tr style=\"text-align: right;\">\n",
       "      <th></th>\n",
       "      <th>Kingdom</th>\n",
       "      <th>DNAtype</th>\n",
       "      <th>SpeciesID</th>\n",
       "      <th>Ncodons</th>\n",
       "      <th>SpeciesName</th>\n",
       "      <th>UUU</th>\n",
       "      <th>UUC</th>\n",
       "      <th>UUA</th>\n",
       "      <th>UUG</th>\n",
       "      <th>CUU</th>\n",
       "      <th>...</th>\n",
       "      <th>methionine</th>\n",
       "      <th>phenylalanine</th>\n",
       "      <th>proline</th>\n",
       "      <th>serine</th>\n",
       "      <th>threonine</th>\n",
       "      <th>tryptophan</th>\n",
       "      <th>tyrosine</th>\n",
       "      <th>valine</th>\n",
       "      <th>start</th>\n",
       "      <th>stop</th>\n",
       "    </tr>\n",
       "  </thead>\n",
       "  <tbody>\n",
       "    <tr>\n",
       "      <th>0</th>\n",
       "      <td>virus</td>\n",
       "      <td>genomic</td>\n",
       "      <td>100217</td>\n",
       "      <td>1995</td>\n",
       "      <td>Epizootic haematopoietic necrosis virus</td>\n",
       "      <td>0.01654</td>\n",
       "      <td>0.01203</td>\n",
       "      <td>0.00050</td>\n",
       "      <td>0.00351</td>\n",
       "      <td>0.01203</td>\n",
       "      <td>...</td>\n",
       "      <td>0.02506</td>\n",
       "      <td>0.02857</td>\n",
       "      <td>0.07268</td>\n",
       "      <td>0.06115</td>\n",
       "      <td>0.04561</td>\n",
       "      <td>0.01003</td>\n",
       "      <td>0.02757</td>\n",
       "      <td>0.09423</td>\n",
       "      <td>0.02506</td>\n",
       "      <td>0.00301</td>\n",
       "    </tr>\n",
       "    <tr>\n",
       "      <th>1</th>\n",
       "      <td>virus</td>\n",
       "      <td>genomic</td>\n",
       "      <td>100220</td>\n",
       "      <td>1474</td>\n",
       "      <td>Bohle iridovirus</td>\n",
       "      <td>0.02714</td>\n",
       "      <td>0.01357</td>\n",
       "      <td>0.00068</td>\n",
       "      <td>0.00678</td>\n",
       "      <td>0.00407</td>\n",
       "      <td>...</td>\n",
       "      <td>0.03324</td>\n",
       "      <td>0.04071</td>\n",
       "      <td>0.05020</td>\n",
       "      <td>0.06581</td>\n",
       "      <td>0.05768</td>\n",
       "      <td>0.01425</td>\n",
       "      <td>0.03392</td>\n",
       "      <td>0.08955</td>\n",
       "      <td>0.03324</td>\n",
       "      <td>0.00339</td>\n",
       "    </tr>\n",
       "    <tr>\n",
       "      <th>2</th>\n",
       "      <td>virus</td>\n",
       "      <td>genomic</td>\n",
       "      <td>100755</td>\n",
       "      <td>4862</td>\n",
       "      <td>Sweet potato leaf curl virus</td>\n",
       "      <td>0.01974</td>\n",
       "      <td>0.02180</td>\n",
       "      <td>0.01357</td>\n",
       "      <td>0.01543</td>\n",
       "      <td>0.00782</td>\n",
       "      <td>...</td>\n",
       "      <td>0.02180</td>\n",
       "      <td>0.04154</td>\n",
       "      <td>0.06232</td>\n",
       "      <td>0.08289</td>\n",
       "      <td>0.05491</td>\n",
       "      <td>0.01728</td>\n",
       "      <td>0.03887</td>\n",
       "      <td>0.05780</td>\n",
       "      <td>0.02180</td>\n",
       "      <td>0.00535</td>\n",
       "    </tr>\n",
       "    <tr>\n",
       "      <th>3</th>\n",
       "      <td>virus</td>\n",
       "      <td>genomic</td>\n",
       "      <td>100880</td>\n",
       "      <td>1915</td>\n",
       "      <td>Northern cereal mosaic virus</td>\n",
       "      <td>0.01775</td>\n",
       "      <td>0.02245</td>\n",
       "      <td>0.01619</td>\n",
       "      <td>0.00992</td>\n",
       "      <td>0.01567</td>\n",
       "      <td>...</td>\n",
       "      <td>0.02924</td>\n",
       "      <td>0.04020</td>\n",
       "      <td>0.03760</td>\n",
       "      <td>0.09191</td>\n",
       "      <td>0.06215</td>\n",
       "      <td>0.01201</td>\n",
       "      <td>0.03029</td>\n",
       "      <td>0.07885</td>\n",
       "      <td>0.02924</td>\n",
       "      <td>0.00418</td>\n",
       "    </tr>\n",
       "    <tr>\n",
       "      <th>4</th>\n",
       "      <td>virus</td>\n",
       "      <td>genomic</td>\n",
       "      <td>100887</td>\n",
       "      <td>22831</td>\n",
       "      <td>Soil-borne cereal mosaic virus</td>\n",
       "      <td>0.02816</td>\n",
       "      <td>0.01371</td>\n",
       "      <td>0.00767</td>\n",
       "      <td>0.03679</td>\n",
       "      <td>0.01380</td>\n",
       "      <td>...</td>\n",
       "      <td>0.02773</td>\n",
       "      <td>0.04187</td>\n",
       "      <td>0.02798</td>\n",
       "      <td>0.06893</td>\n",
       "      <td>0.06745</td>\n",
       "      <td>0.01205</td>\n",
       "      <td>0.03456</td>\n",
       "      <td>0.07196</td>\n",
       "      <td>0.02773</td>\n",
       "      <td>0.00175</td>\n",
       "    </tr>\n",
       "  </tbody>\n",
       "</table>\n",
       "<p>5 rows × 91 columns</p>\n",
       "</div>"
      ],
      "text/plain": [
       "  Kingdom  DNAtype  SpeciesID  Ncodons  \\\n",
       "0   virus  genomic     100217     1995   \n",
       "1   virus  genomic     100220     1474   \n",
       "2   virus  genomic     100755     4862   \n",
       "3   virus  genomic     100880     1915   \n",
       "4   virus  genomic     100887    22831   \n",
       "\n",
       "                               SpeciesName      UUU      UUC      UUA  \\\n",
       "0  Epizootic haematopoietic necrosis virus  0.01654  0.01203  0.00050   \n",
       "1                         Bohle iridovirus  0.02714  0.01357  0.00068   \n",
       "2             Sweet potato leaf curl virus  0.01974  0.02180  0.01357   \n",
       "3             Northern cereal mosaic virus  0.01775  0.02245  0.01619   \n",
       "4           Soil-borne cereal mosaic virus  0.02816  0.01371  0.00767   \n",
       "\n",
       "       UUG      CUU  ...  methionine  phenylalanine  proline   serine  \\\n",
       "0  0.00351  0.01203  ...     0.02506        0.02857  0.07268  0.06115   \n",
       "1  0.00678  0.00407  ...     0.03324        0.04071  0.05020  0.06581   \n",
       "2  0.01543  0.00782  ...     0.02180        0.04154  0.06232  0.08289   \n",
       "3  0.00992  0.01567  ...     0.02924        0.04020  0.03760  0.09191   \n",
       "4  0.03679  0.01380  ...     0.02773        0.04187  0.02798  0.06893   \n",
       "\n",
       "   threonine  tryptophan  tyrosine   valine    start     stop  \n",
       "0    0.04561     0.01003   0.02757  0.09423  0.02506  0.00301  \n",
       "1    0.05768     0.01425   0.03392  0.08955  0.03324  0.00339  \n",
       "2    0.05491     0.01728   0.03887  0.05780  0.02180  0.00535  \n",
       "3    0.06215     0.01201   0.03029  0.07885  0.02924  0.00418  \n",
       "4    0.06745     0.01205   0.03456  0.07196  0.02773  0.00175  \n",
       "\n",
       "[5 rows x 91 columns]"
      ]
     },
     "execution_count": 40,
     "metadata": {},
     "output_type": "execute_result"
    }
   ],
   "source": [
    "codon_usage.drop('Unnamed: 0', axis=1, inplace=True)\n",
    "codon_usage.head()"
   ]
  },
  {
   "cell_type": "code",
   "execution_count": 41,
   "metadata": {},
   "outputs": [
    {
     "data": {
      "text/plain": [
       "bacteria         2918\n",
       "virus            2832\n",
       "plant            2492\n",
       "vertebrate       2077\n",
       "invertebrate     1333\n",
       "mammal            572\n",
       "bacteriophage     220\n",
       "rodent            215\n",
       "primate           180\n",
       "archaea           126\n",
       "Name: Kingdom, dtype: int64"
      ]
     },
     "execution_count": 41,
     "metadata": {},
     "output_type": "execute_result"
    }
   ],
   "source": [
    "codon_usage['Kingdom'].value_counts()"
   ]
  },
  {
   "cell_type": "code",
   "execution_count": 42,
   "metadata": {},
   "outputs": [
    {
     "data": {
      "text/plain": [
       "genomic          9249\n",
       "mitochondrial    2899\n",
       "chloroplast       815\n",
       "Name: DNAtype, dtype: int64"
      ]
     },
     "execution_count": 42,
     "metadata": {},
     "output_type": "execute_result"
    }
   ],
   "source": [
    "codon_usage['DNAtype'].value_counts()"
   ]
  },
  {
   "cell_type": "markdown",
   "metadata": {},
   "source": [
    "It looks like we've successfully trimmed the data of these sparse categories.  We should also check for missing values."
   ]
  },
  {
   "cell_type": "code",
   "execution_count": 43,
   "metadata": {},
   "outputs": [
    {
     "data": {
      "text/plain": [
       "Kingdom        0\n",
       "DNAtype        2\n",
       "SpeciesID      0\n",
       "Ncodons        0\n",
       "SpeciesName    0\n",
       "              ..\n",
       "tryptophan     0\n",
       "tyrosine       0\n",
       "valine         0\n",
       "start          0\n",
       "stop           0\n",
       "Length: 91, dtype: int64"
      ]
     },
     "execution_count": 43,
     "metadata": {},
     "output_type": "execute_result"
    }
   ],
   "source": [
    "codon_usage.isna().sum()"
   ]
  },
  {
   "cell_type": "markdown",
   "metadata": {},
   "source": [
    "It looks like we still have two missing values for 'DNAtype' - let's drop those rows, too."
   ]
  },
  {
   "cell_type": "code",
   "execution_count": 44,
   "metadata": {},
   "outputs": [
    {
     "data": {
      "text/plain": [
       "(12963, 91)"
      ]
     },
     "execution_count": 44,
     "metadata": {},
     "output_type": "execute_result"
    }
   ],
   "source": [
    "codon_usage.dropna(inplace=True)\n",
    "codon_usage.shape"
   ]
  },
  {
   "cell_type": "markdown",
   "metadata": {},
   "source": [
    "The next major task is to standardize the values.  In general, the variances among the codon and amino acid frequencies shouldn't be so dissimilar as to matter much, but it's good practice, and of course the 'Ncodons' variable has a completely different scale."
   ]
  },
  {
   "cell_type": "markdown",
   "metadata": {},
   "source": [
    "**EDIT:** I'm going to postpone using StandardScaler() until after train_test_split in the modeling notebook to avoid data leakage."
   ]
  },
  {
   "cell_type": "code",
   "execution_count": 45,
   "metadata": {},
   "outputs": [],
   "source": [
    "ss = StandardScaler()"
   ]
  },
  {
   "cell_type": "markdown",
   "metadata": {},
   "source": [
    "Perhaps this is bad practice but I'm making a copy of the df as it exists now."
   ]
  },
  {
   "cell_type": "code",
   "execution_count": 46,
   "metadata": {},
   "outputs": [],
   "source": [
    "cu = codon_usage\n",
    "#transform_cols = codon_list + amino_list\n",
    "\n",
    "# almost forgot this one\n",
    "#transform_cols.append('Ncodons')\n",
    "\n",
    "#cu[transform_cols] = ss.fit_transform(cu[transform_cols])"
   ]
  },
  {
   "cell_type": "code",
   "execution_count": 47,
   "metadata": {},
   "outputs": [
    {
     "data": {
      "text/plain": [
       "alanine          0.074558\n",
       "arginine         0.046398\n",
       "asparagine       0.044485\n",
       "aspartic acid    0.045349\n",
       "cysteine         0.014894\n",
       "glutamine        0.034859\n",
       "glutamic acid    0.049967\n",
       "glycine          0.065279\n",
       "histidine        0.023725\n",
       "isoleucine       0.071653\n",
       "leucine          0.108339\n",
       "lysine           0.049951\n",
       "methionine       0.021138\n",
       "phenylalanine    0.048164\n",
       "proline          0.049957\n",
       "serine           0.071232\n",
       "threonine        0.062768\n",
       "tryptophan       0.011608\n",
       "tyrosine         0.034324\n",
       "valine           0.062914\n",
       "start            0.021138\n",
       "stop             0.008439\n",
       "dtype: float64"
      ]
     },
     "execution_count": 47,
     "metadata": {},
     "output_type": "execute_result"
    }
   ],
   "source": [
    "cu[amino_list].mean()\n"
   ]
  },
  {
   "cell_type": "code",
   "execution_count": 48,
   "metadata": {},
   "outputs": [
    {
     "data": {
      "text/plain": [
       "alanine          0.024743\n",
       "arginine         0.019469\n",
       "asparagine       0.014036\n",
       "aspartic acid    0.017574\n",
       "cysteine         0.010467\n",
       "glutamine        0.014234\n",
       "glutamic acid    0.019885\n",
       "glycine          0.017717\n",
       "histidine        0.007686\n",
       "isoleucine       0.032334\n",
       "leucine          0.036654\n",
       "lysine           0.021793\n",
       "methionine       0.008160\n",
       "phenylalanine    0.017163\n",
       "proline          0.014653\n",
       "serine           0.015628\n",
       "threonine        0.019275\n",
       "tryptophan       0.006574\n",
       "tyrosine         0.010434\n",
       "valine           0.015595\n",
       "start            0.008160\n",
       "stop             0.011069\n",
       "dtype: float64"
      ]
     },
     "execution_count": 48,
     "metadata": {},
     "output_type": "execute_result"
    }
   ],
   "source": [
    "cu[amino_list].std()"
   ]
  },
  {
   "cell_type": "markdown",
   "metadata": {},
   "source": [
    "All of the means are within rounding error of zero, and the standard deviations very close to one, as we would expect after converting to standard scores.  Next, we need to replace the categorical variables 'Kingdom' and 'DNAtype' with dummy variables.  There are a variety of ways to do this; I'm going to try pd.get_dummies()"
   ]
  },
  {
   "cell_type": "code",
   "execution_count": 49,
   "metadata": {},
   "outputs": [
    {
     "data": {
      "text/html": [
       "<div>\n",
       "<style scoped>\n",
       "    .dataframe tbody tr th:only-of-type {\n",
       "        vertical-align: middle;\n",
       "    }\n",
       "\n",
       "    .dataframe tbody tr th {\n",
       "        vertical-align: top;\n",
       "    }\n",
       "\n",
       "    .dataframe thead th {\n",
       "        text-align: right;\n",
       "    }\n",
       "</style>\n",
       "<table border=\"1\" class=\"dataframe\">\n",
       "  <thead>\n",
       "    <tr style=\"text-align: right;\">\n",
       "      <th></th>\n",
       "      <th>K_archaea</th>\n",
       "      <th>K_bacteria</th>\n",
       "      <th>K_bacteriophage</th>\n",
       "      <th>K_invertebrate</th>\n",
       "      <th>K_mammal</th>\n",
       "      <th>K_plant</th>\n",
       "      <th>K_primate</th>\n",
       "      <th>K_rodent</th>\n",
       "      <th>K_vertebrate</th>\n",
       "      <th>K_virus</th>\n",
       "    </tr>\n",
       "  </thead>\n",
       "  <tbody>\n",
       "    <tr>\n",
       "      <th>0</th>\n",
       "      <td>0</td>\n",
       "      <td>0</td>\n",
       "      <td>0</td>\n",
       "      <td>0</td>\n",
       "      <td>0</td>\n",
       "      <td>0</td>\n",
       "      <td>0</td>\n",
       "      <td>0</td>\n",
       "      <td>0</td>\n",
       "      <td>1</td>\n",
       "    </tr>\n",
       "    <tr>\n",
       "      <th>1</th>\n",
       "      <td>0</td>\n",
       "      <td>0</td>\n",
       "      <td>0</td>\n",
       "      <td>0</td>\n",
       "      <td>0</td>\n",
       "      <td>0</td>\n",
       "      <td>0</td>\n",
       "      <td>0</td>\n",
       "      <td>0</td>\n",
       "      <td>1</td>\n",
       "    </tr>\n",
       "    <tr>\n",
       "      <th>2</th>\n",
       "      <td>0</td>\n",
       "      <td>0</td>\n",
       "      <td>0</td>\n",
       "      <td>0</td>\n",
       "      <td>0</td>\n",
       "      <td>0</td>\n",
       "      <td>0</td>\n",
       "      <td>0</td>\n",
       "      <td>0</td>\n",
       "      <td>1</td>\n",
       "    </tr>\n",
       "    <tr>\n",
       "      <th>3</th>\n",
       "      <td>0</td>\n",
       "      <td>0</td>\n",
       "      <td>0</td>\n",
       "      <td>0</td>\n",
       "      <td>0</td>\n",
       "      <td>0</td>\n",
       "      <td>0</td>\n",
       "      <td>0</td>\n",
       "      <td>0</td>\n",
       "      <td>1</td>\n",
       "    </tr>\n",
       "    <tr>\n",
       "      <th>4</th>\n",
       "      <td>0</td>\n",
       "      <td>0</td>\n",
       "      <td>0</td>\n",
       "      <td>0</td>\n",
       "      <td>0</td>\n",
       "      <td>0</td>\n",
       "      <td>0</td>\n",
       "      <td>0</td>\n",
       "      <td>0</td>\n",
       "      <td>1</td>\n",
       "    </tr>\n",
       "  </tbody>\n",
       "</table>\n",
       "</div>"
      ],
      "text/plain": [
       "   K_archaea  K_bacteria  K_bacteriophage  K_invertebrate  K_mammal  K_plant  \\\n",
       "0          0           0                0               0         0        0   \n",
       "1          0           0                0               0         0        0   \n",
       "2          0           0                0               0         0        0   \n",
       "3          0           0                0               0         0        0   \n",
       "4          0           0                0               0         0        0   \n",
       "\n",
       "   K_primate  K_rodent  K_vertebrate  K_virus  \n",
       "0          0         0             0        1  \n",
       "1          0         0             0        1  \n",
       "2          0         0             0        1  \n",
       "3          0         0             0        1  \n",
       "4          0         0             0        1  "
      ]
     },
     "execution_count": 49,
     "metadata": {},
     "output_type": "execute_result"
    }
   ],
   "source": [
    "# should I be using drop_first=True?\n",
    "kingdoms = pd.get_dummies(cu['Kingdom'], prefix='K')\n",
    "kingdoms.head()"
   ]
  },
  {
   "cell_type": "code",
   "execution_count": 50,
   "metadata": {},
   "outputs": [
    {
     "data": {
      "text/html": [
       "<div>\n",
       "<style scoped>\n",
       "    .dataframe tbody tr th:only-of-type {\n",
       "        vertical-align: middle;\n",
       "    }\n",
       "\n",
       "    .dataframe tbody tr th {\n",
       "        vertical-align: top;\n",
       "    }\n",
       "\n",
       "    .dataframe thead th {\n",
       "        text-align: right;\n",
       "    }\n",
       "</style>\n",
       "<table border=\"1\" class=\"dataframe\">\n",
       "  <thead>\n",
       "    <tr style=\"text-align: right;\">\n",
       "      <th></th>\n",
       "      <th>D_chloroplast</th>\n",
       "      <th>D_genomic</th>\n",
       "      <th>D_mitochondrial</th>\n",
       "    </tr>\n",
       "  </thead>\n",
       "  <tbody>\n",
       "    <tr>\n",
       "      <th>0</th>\n",
       "      <td>0</td>\n",
       "      <td>1</td>\n",
       "      <td>0</td>\n",
       "    </tr>\n",
       "    <tr>\n",
       "      <th>1</th>\n",
       "      <td>0</td>\n",
       "      <td>1</td>\n",
       "      <td>0</td>\n",
       "    </tr>\n",
       "    <tr>\n",
       "      <th>2</th>\n",
       "      <td>0</td>\n",
       "      <td>1</td>\n",
       "      <td>0</td>\n",
       "    </tr>\n",
       "    <tr>\n",
       "      <th>3</th>\n",
       "      <td>0</td>\n",
       "      <td>1</td>\n",
       "      <td>0</td>\n",
       "    </tr>\n",
       "    <tr>\n",
       "      <th>4</th>\n",
       "      <td>0</td>\n",
       "      <td>1</td>\n",
       "      <td>0</td>\n",
       "    </tr>\n",
       "  </tbody>\n",
       "</table>\n",
       "</div>"
      ],
      "text/plain": [
       "   D_chloroplast  D_genomic  D_mitochondrial\n",
       "0              0          1                0\n",
       "1              0          1                0\n",
       "2              0          1                0\n",
       "3              0          1                0\n",
       "4              0          1                0"
      ]
     },
     "execution_count": 50,
     "metadata": {},
     "output_type": "execute_result"
    }
   ],
   "source": [
    "dnas = pd.get_dummies(cu['DNAtype'], prefix='D')\n",
    "dnas.head()"
   ]
  },
  {
   "cell_type": "markdown",
   "metadata": {},
   "source": [
    "Now these encoded variables need to be added to the dataframe, and the original categorical variables dropped.\n",
    "\n",
    "**Revision: It proved necessary to retain these.**"
   ]
  },
  {
   "cell_type": "code",
   "execution_count": 51,
   "metadata": {},
   "outputs": [],
   "source": [
    "cu = pd.concat([cu, kingdoms, dnas], axis=1)\n",
    "#cu.drop(['Kingdom', 'DNAtype'], axis=1, inplace=True)\n"
   ]
  },
  {
   "cell_type": "markdown",
   "metadata": {},
   "source": [
    "**Another revision:  I'm going to try LabelEncoder too.**"
   ]
  },
  {
   "cell_type": "code",
   "execution_count": 52,
   "metadata": {},
   "outputs": [],
   "source": [
    "le = LabelEncoder()\n",
    "\n",
    "cu['KingLabel'] = le.fit_transform(cu['Kingdom'])\n",
    "cu['DNALabel'] = le.fit_transform(cu['DNAtype'])"
   ]
  },
  {
   "cell_type": "code",
   "execution_count": 53,
   "metadata": {},
   "outputs": [
    {
     "data": {
      "text/plain": [
       "1    2918\n",
       "9    2832\n",
       "5    2490\n",
       "8    2077\n",
       "3    1333\n",
       "4     572\n",
       "2     220\n",
       "7     215\n",
       "6     180\n",
       "0     126\n",
       "Name: KingLabel, dtype: int64"
      ]
     },
     "execution_count": 53,
     "metadata": {},
     "output_type": "execute_result"
    }
   ],
   "source": [
    "cu['KingLabel'].value_counts()"
   ]
  },
  {
   "cell_type": "code",
   "execution_count": 54,
   "metadata": {},
   "outputs": [
    {
     "data": {
      "text/plain": [
       "1    9249\n",
       "2    2899\n",
       "0     815\n",
       "Name: DNALabel, dtype: int64"
      ]
     },
     "execution_count": 54,
     "metadata": {},
     "output_type": "execute_result"
    }
   ],
   "source": [
    "cu['DNALabel'].value_counts()"
   ]
  },
  {
   "cell_type": "code",
   "execution_count": null,
   "metadata": {},
   "outputs": [],
   "source": []
  },
  {
   "cell_type": "code",
   "execution_count": null,
   "metadata": {},
   "outputs": [],
   "source": []
  },
  {
   "cell_type": "markdown",
   "metadata": {},
   "source": [
    "At this point pre-processing is completed; the data are ready for modeling.  All that remains is to save the new dataframe."
   ]
  },
  {
   "cell_type": "code",
   "execution_count": 55,
   "metadata": {},
   "outputs": [],
   "source": [
    "cu.to_csv('codon_usage3.csv')"
   ]
  },
  {
   "cell_type": "code",
   "execution_count": null,
   "metadata": {},
   "outputs": [],
   "source": []
  }
 ],
 "metadata": {
  "kernelspec": {
   "display_name": "Python 3 (ipykernel)",
   "language": "python",
   "name": "python3"
  },
  "language_info": {
   "codemirror_mode": {
    "name": "ipython",
    "version": 3
   },
   "file_extension": ".py",
   "mimetype": "text/x-python",
   "name": "python",
   "nbconvert_exporter": "python",
   "pygments_lexer": "ipython3",
   "version": "3.9.7"
  }
 },
 "nbformat": 4,
 "nbformat_minor": 2
}
